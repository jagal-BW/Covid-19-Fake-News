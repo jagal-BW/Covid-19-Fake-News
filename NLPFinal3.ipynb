{
 "cells": [
  {
   "cell_type": "markdown",
   "metadata": {},
   "source": [
    "Analyzing Covid-19 Dataset Obtained from Webhose.io "
   ]
  },
  {
   "cell_type": "markdown",
   "metadata": {},
   "source": [
    "#Group 1 = Corliss Spencer + Yulia Trask + Nata Berishvili + Chris Kremer + Jason Galvan"
   ]
  },
  {
   "cell_type": "code",
   "execution_count": 26,
   "metadata": {},
   "outputs": [
    {
     "data": {
      "text/plain": [
       "'/Users/batman/Downloads'"
      ]
     },
     "execution_count": 26,
     "metadata": {},
     "output_type": "execute_result"
    }
   ],
   "source": [
    "pwd"
   ]
  },
  {
   "cell_type": "code",
   "execution_count": 49,
   "metadata": {},
   "outputs": [
    {
     "name": "stdout",
     "output_type": "stream",
     "text": [
      "Requirement already satisfied: python-decouple in /Users/batman/anaconda3/lib/python3.7/site-packages (3.3)\n",
      "Note: you may need to restart the kernel to use updated packages.\n"
     ]
    }
   ],
   "source": [
    "pip install python-decouple"
   ]
  },
  {
   "cell_type": "code",
   "execution_count": 34,
   "metadata": {},
   "outputs": [],
   "source": [
    "import nltk\n",
    "import numpy as np\n",
    "import pandas as pd\n",
    "import statistics\n",
    "import csv\n",
    "from operator import itemgetter\n",
    "import matplotlib.pyplot as plt\n",
    "from decouple import config\n",
    "import requests\n",
    "from pprint import pprint"
   ]
  },
  {
   "cell_type": "code",
   "execution_count": 27,
   "metadata": {},
   "outputs": [],
   "source": [
    "#Importing Webhose json file --obtained from teammate Corliss Spencer  \n",
    "\n",
    "import json"
   ]
  },
  {
   "cell_type": "code",
   "execution_count": 30,
   "metadata": {},
   "outputs": [
    {
     "name": "stdout",
     "output_type": "stream",
     "text": [
      "43900\n"
     ]
    }
   ],
   "source": [
    "#Calling the Webhose json file, saving to variable newsfeeds_read, and checking the length of the data\n",
    "json_data=open('/Users/batman/Downloads/webhose_Covid_Virus.json').readlines()\n",
    "newsfeeds_read = []\n",
    "for line in json_data:\n",
    "    newsfeeds_read.append(json.loads(line))\n",
    "print(len(newsfeeds_read))"
   ]
  },
  {
   "cell_type": "code",
   "execution_count": 35,
   "metadata": {},
   "outputs": [],
   "source": [
    "#Converting the Webhose data into Pandas DataFrame\n",
    "df1 = pd.DataFrame.from_dict(newsfeeds_read)"
   ]
  },
  {
   "cell_type": "code",
   "execution_count": 39,
   "metadata": {},
   "outputs": [
    {
     "name": "stdout",
     "output_type": "stream",
     "text": [
      "Index(['thread', 'uuid', 'url', 'ord_in_thread', 'parent_url', 'author',\n",
      "       'published', 'title', 'text', 'highlightText', 'highlightTitle',\n",
      "       'highlightThreadTitle', 'language', 'external_links', 'external_images',\n",
      "       'entities', 'rating', 'crawled', 'updated'],\n",
      "      dtype='object')\n"
     ]
    }
   ],
   "source": [
    "print(df1.columns)"
   ]
  },
  {
   "cell_type": "code",
   "execution_count": 40,
   "metadata": {},
   "outputs": [
    {
     "data": {
      "text/plain": [
       "(43900, 19)"
      ]
     },
     "execution_count": 40,
     "metadata": {},
     "output_type": "execute_result"
    }
   ],
   "source": [
    "#Cheking the number of rows and columns in our Newsfeeds data: 43900 rows and 19 columns\n",
    "df1.shape"
   ]
  },
  {
   "cell_type": "markdown",
   "metadata": {},
   "source": [
    "#Deduplication of the Webhose Dataset: Simhash Algorithm   \n",
    "\n",
    "Using SimHash with a small distance provides sufficient accuracy.  Therefore we will not be using Word2Vec.  "
   ]
  },
  {
   "cell_type": "code",
   "execution_count": 41,
   "metadata": {},
   "outputs": [
    {
     "name": "stdout",
     "output_type": "stream",
     "text": [
      "Requirement already satisfied: simhash in /Users/batman/anaconda3/lib/python3.7/site-packages (1.10.2)\n",
      "Note: you may need to restart the kernel to use updated packages.\n"
     ]
    }
   ],
   "source": [
    "pip install simhash"
   ]
  },
  {
   "cell_type": "code",
   "execution_count": 42,
   "metadata": {},
   "outputs": [],
   "source": [
    "import webhoseio, os\n",
    "from gensim.models import KeyedVectors\n",
    "import json\n",
    "from simhash import Simhash, SimhashIndex\n",
    "import numpy as np"
   ]
  },
  {
   "cell_type": "code",
   "execution_count": 43,
   "metadata": {},
   "outputs": [],
   "source": [
    "feeds = []\n",
    "i = 0\n",
    "for feed in newsfeeds_read:\n",
    "    feed['id'] = i\n",
    "#    print(feed['id'], str(feed['title']))\n",
    "#  Remove comment to see all the titles\n",
    "    i += 1\n",
    "    feeds.append(feed)"
   ]
  },
  {
   "cell_type": "code",
   "execution_count": 44,
   "metadata": {},
   "outputs": [],
   "source": [
    "#The data set includes ids, titles, text, and urls \n",
    "feeds_original= []\n",
    "\n",
    "for feed in newsfeeds_read:\n",
    "    feeds_original.append((feed['id'], feed['title'], feed['text'], feed['url']))"
   ]
  },
  {
   "cell_type": "code",
   "execution_count": 46,
   "metadata": {},
   "outputs": [],
   "source": [
    "#Simhas Algorithm to Remove Duplicates "
   ]
  },
  {
   "cell_type": "code",
   "execution_count": 47,
   "metadata": {},
   "outputs": [],
   "source": [
    "import logging\n",
    "logging.getLogger('simhash').setLevel(logging.CRITICAL)\n",
    "\n",
    "distance = 6\n",
    "objs = [(str(feed['id']), Simhash(str(feed['title']))) for feed in feeds]\n",
    "index = SimhashIndex(objs, k=distance)"
   ]
  },
  {
   "cell_type": "code",
   "execution_count": 48,
   "metadata": {},
   "outputs": [],
   "source": [
    "dup_indices = []\n",
    "dict1= dict()\n",
    "\n",
    "for id in range(len(feeds)):\n",
    "    dict1[id] = [id]\n",
    "\n",
    "for k in range(len(feeds)):\n",
    "    feed_sel = feeds[k]\n",
    "    feed_hash = Simhash(str(feed_sel['title']))\n",
    "    indices = index.get_near_dups(feed_hash)\n",
    "\n",
    "    for i in indices:\n",
    "        if (i not in dup_indices) and (i != k) and (k not in dict1[int(i)]):\n",
    "            dup_indices.append(i)\n",
    "        dict1[i] = dict1[int(i)].append(int(k))\n",
    "   "
   ]
  },
  {
   "cell_type": "code",
   "execution_count": 49,
   "metadata": {},
   "outputs": [],
   "source": [
    "#dup_indices contains all duplicates ~ which we will subtract from our Webhose Dataset "
   ]
  },
  {
   "cell_type": "code",
   "execution_count": 50,
   "metadata": {},
   "outputs": [
    {
     "name": "stdout",
     "output_type": "stream",
     "text": [
      "18845\n"
     ]
    }
   ],
   "source": [
    "print(len(dup_indices))"
   ]
  },
  {
   "cell_type": "code",
   "execution_count": 51,
   "metadata": {},
   "outputs": [
    {
     "name": "stdout",
     "output_type": "stream",
     "text": [
      "43900\n"
     ]
    }
   ],
   "source": [
    "#Printing the length of our original Webhose Dataset \n",
    "print(len(feeds))"
   ]
  },
  {
   "cell_type": "code",
   "execution_count": 52,
   "metadata": {},
   "outputs": [
    {
     "name": "stdout",
     "output_type": "stream",
     "text": [
      "18845\n"
     ]
    }
   ],
   "source": [
    "#Check the size of duplicates of the titles. The size of dup_titles matches the size of dup_indices: 18845\n",
    "dup_titles = []\n",
    "\n",
    "for dupi in dup_indices:\n",
    "    dup_titles.append(feeds[int(dupi)]['title'])\n",
    "print(len(dup_titles))   "
   ]
  },
  {
   "cell_type": "code",
   "execution_count": 53,
   "metadata": {},
   "outputs": [],
   "source": [
    "#Duplicates of ids, titles, text, and url\n",
    "feeds_dups =[]\n",
    "\n",
    "for dupi in dup_indices:\n",
    "    feeds_dups.append((feeds[int(dupi)]['id'], feeds[int(dupi)]['title'], feeds[int(dupi)]['text'], feeds[int(dupi)]['url']))\n",
    "    #print(feeds[int(dupi)]['id'], feeds[int(dupi)]['title'], feeds[int(dupi)]['text'])"
   ]
  },
  {
   "cell_type": "code",
   "execution_count": 54,
   "metadata": {},
   "outputs": [
    {
     "name": "stdout",
     "output_type": "stream",
     "text": [
      "18845\n"
     ]
    }
   ],
   "source": [
    "#Check the size of duplicates. It's the same size of dup_indices and duplicates of titles.\n",
    "print(len(feeds_dups))"
   ]
  },
  {
   "cell_type": "code",
   "execution_count": 55,
   "metadata": {},
   "outputs": [
    {
     "name": "stdout",
     "output_type": "stream",
     "text": [
      "25055\n"
     ]
    }
   ],
   "source": [
    "#Deduplicated dataset: ids, titles, text, and url ~ 25055 is the proper length \n",
    "\n",
    "clean_data=set(feeds_original)-set(feeds_dups)\n",
    "print(len(clean_data))"
   ]
  },
  {
   "cell_type": "code",
   "execution_count": 56,
   "metadata": {},
   "outputs": [
    {
     "name": "stdout",
     "output_type": "stream",
     "text": [
      "25055\n"
     ]
    }
   ],
   "source": [
    "#2nd Method: Deduplicated dataset: ids, titles, and text\n",
    "deduplicated_data = (set(feeds_original).difference(feeds_dups))\n",
    "print(len(deduplicated_data))"
   ]
  },
  {
   "cell_type": "code",
   "execution_count": 57,
   "metadata": {},
   "outputs": [],
   "source": [
    "#Sort the Deduplicated dataset: ids, titles, and text\n",
    "dedupdata_sorted = sorted(clean_data, reverse=False)"
   ]
  },
  {
   "cell_type": "code",
   "execution_count": 58,
   "metadata": {},
   "outputs": [
    {
     "data": {
      "text/plain": [
       "25055"
      ]
     },
     "execution_count": 58,
     "metadata": {},
     "output_type": "execute_result"
    }
   ],
   "source": [
    "#ensuring correct lenth \n",
    "len(dedupdata_sorted)"
   ]
  },
  {
   "cell_type": "code",
   "execution_count": 59,
   "metadata": {},
   "outputs": [],
   "source": [
    "#Storing the Deduplicated dataset and Sorted dataset (ids, titles, and text) to json files:\n",
    "import json\n",
    "\n",
    "with open('/Users/batman/Downloads/webhose_Covid_dedup.json', \"w\") as data_file:\n",
    "    for x in dedupdata_sorted:\n",
    "        line = json.dumps(x)\n",
    "        data_file.write(line)\n",
    "        data_file.write(\"\\n\")"
   ]
  },
  {
   "cell_type": "code",
   "execution_count": 60,
   "metadata": {},
   "outputs": [
    {
     "name": "stdout",
     "output_type": "stream",
     "text": [
      "25055\n"
     ]
    }
   ],
   "source": [
    "#Reading JSON file into Python array of JSON objects and printing the size of the deduplicated data ~ ensuring proper length 25055\n",
    "\n",
    "import json\n",
    "\n",
    "dedup=open('/Users/batman/Downloads/webhose_Covid_dedup.json').readlines()\n",
    "dedup_feeds = []\n",
    "for line in dedup:\n",
    "    dedup_feeds.append(json.loads(line))\n",
    "print(len(dedup_feeds))"
   ]
  },
  {
   "cell_type": "markdown",
   "metadata": {},
   "source": [
    "#Topic Clustering:  Comparing topics within Fake News dataset obtained via NewsGuardTech.com to our Deduplicated Webhose Dataset\n",
    "\n",
    "Use of Gensim LDA Modeling (train (Webhose) / (test(Fake News)  \n",
    "   "
   ]
  },
  {
   "cell_type": "code",
   "execution_count": 1,
   "metadata": {},
   "outputs": [
    {
     "name": "stdout",
     "output_type": "stream",
     "text": [
      "Requirement already satisfied: iexfinance in /Users/batman/anaconda3/lib/python3.7/site-packages (0.4.3)\n",
      "Requirement already satisfied: requests in /Users/batman/anaconda3/lib/python3.7/site-packages (from iexfinance) (2.24.0)\n",
      "Requirement already satisfied: pandas in /Users/batman/anaconda3/lib/python3.7/site-packages (from iexfinance) (1.0.1)\n",
      "Requirement already satisfied: idna<3,>=2.5 in /Users/batman/anaconda3/lib/python3.7/site-packages (from requests->iexfinance) (2.10)\n",
      "Requirement already satisfied: certifi>=2017.4.17 in /Users/batman/anaconda3/lib/python3.7/site-packages (from requests->iexfinance) (2020.6.20)\n",
      "Requirement already satisfied: chardet<4,>=3.0.2 in /Users/batman/anaconda3/lib/python3.7/site-packages (from requests->iexfinance) (3.0.4)\n",
      "Requirement already satisfied: urllib3!=1.25.0,!=1.25.1,<1.26,>=1.21.1 in /Users/batman/anaconda3/lib/python3.7/site-packages (from requests->iexfinance) (1.25.9)\n",
      "Requirement already satisfied: python-dateutil>=2.6.1 in /Users/batman/anaconda3/lib/python3.7/site-packages (from pandas->iexfinance) (2.8.1)\n",
      "Requirement already satisfied: pytz>=2017.2 in /Users/batman/anaconda3/lib/python3.7/site-packages (from pandas->iexfinance) (2020.1)\n",
      "Requirement already satisfied: numpy>=1.13.3 in /Users/batman/anaconda3/lib/python3.7/site-packages (from pandas->iexfinance) (1.18.5)\n",
      "Requirement already satisfied: six>=1.5 in /Users/batman/anaconda3/lib/python3.7/site-packages (from python-dateutil>=2.6.1->pandas->iexfinance) (1.15.0)\n",
      "Requirement already satisfied: pandas in /Users/batman/anaconda3/lib/python3.7/site-packages (1.0.1)\n",
      "Requirement already satisfied: pytz>=2017.2 in /Users/batman/anaconda3/lib/python3.7/site-packages (from pandas) (2020.1)\n",
      "Requirement already satisfied: numpy>=1.13.3 in /Users/batman/anaconda3/lib/python3.7/site-packages (from pandas) (1.18.5)\n",
      "Requirement already satisfied: python-dateutil>=2.6.1 in /Users/batman/anaconda3/lib/python3.7/site-packages (from pandas) (2.8.1)\n",
      "Requirement already satisfied: six>=1.5 in /Users/batman/anaconda3/lib/python3.7/site-packages (from python-dateutil>=2.6.1->pandas) (1.15.0)\n",
      "Requirement already satisfied: matplotlib in /Users/batman/anaconda3/lib/python3.7/site-packages (3.1.3)\n",
      "Requirement already satisfied: cycler>=0.10 in /Users/batman/anaconda3/lib/python3.7/site-packages (from matplotlib) (0.10.0)\n",
      "Requirement already satisfied: kiwisolver>=1.0.1 in /Users/batman/anaconda3/lib/python3.7/site-packages (from matplotlib) (1.2.0)\n",
      "Requirement already satisfied: pyparsing!=2.0.4,!=2.1.2,!=2.1.6,>=2.0.1 in /Users/batman/anaconda3/lib/python3.7/site-packages (from matplotlib) (2.4.7)\n",
      "Requirement already satisfied: python-dateutil>=2.1 in /Users/batman/anaconda3/lib/python3.7/site-packages (from matplotlib) (2.8.1)\n",
      "Requirement already satisfied: numpy>=1.11 in /Users/batman/anaconda3/lib/python3.7/site-packages (from matplotlib) (1.18.5)\n",
      "Requirement already satisfied: six in /Users/batman/anaconda3/lib/python3.7/site-packages (from cycler>=0.10->matplotlib) (1.15.0)\n",
      "Requirement already satisfied: gensim in /Users/batman/anaconda3/lib/python3.7/site-packages (3.8.3)\n",
      "Requirement already satisfied: numpy>=1.11.3 in /Users/batman/anaconda3/lib/python3.7/site-packages (from gensim) (1.18.5)\n",
      "Requirement already satisfied: scipy>=0.18.1 in /Users/batman/anaconda3/lib/python3.7/site-packages (from gensim) (1.4.1)\n",
      "Requirement already satisfied: smart-open>=1.8.1 in /Users/batman/anaconda3/lib/python3.7/site-packages (from gensim) (2.1.0)\n",
      "Requirement already satisfied: six>=1.5.0 in /Users/batman/anaconda3/lib/python3.7/site-packages (from gensim) (1.15.0)\n",
      "Requirement already satisfied: boto in /Users/batman/anaconda3/lib/python3.7/site-packages (from smart-open>=1.8.1->gensim) (2.49.0)\n",
      "Requirement already satisfied: requests in /Users/batman/anaconda3/lib/python3.7/site-packages (from smart-open>=1.8.1->gensim) (2.24.0)\n",
      "Requirement already satisfied: boto3 in /Users/batman/anaconda3/lib/python3.7/site-packages (from smart-open>=1.8.1->gensim) (1.14.20)\n",
      "Requirement already satisfied: urllib3!=1.25.0,!=1.25.1,<1.26,>=1.21.1 in /Users/batman/anaconda3/lib/python3.7/site-packages (from requests->smart-open>=1.8.1->gensim) (1.25.9)\n",
      "Requirement already satisfied: chardet<4,>=3.0.2 in /Users/batman/anaconda3/lib/python3.7/site-packages (from requests->smart-open>=1.8.1->gensim) (3.0.4)\n",
      "Requirement already satisfied: idna<3,>=2.5 in /Users/batman/anaconda3/lib/python3.7/site-packages (from requests->smart-open>=1.8.1->gensim) (2.10)\n",
      "Requirement already satisfied: certifi>=2017.4.17 in /Users/batman/anaconda3/lib/python3.7/site-packages (from requests->smart-open>=1.8.1->gensim) (2020.6.20)\n",
      "Requirement already satisfied: botocore<1.18.0,>=1.17.20 in /Users/batman/anaconda3/lib/python3.7/site-packages (from boto3->smart-open>=1.8.1->gensim) (1.17.20)\n",
      "Requirement already satisfied: jmespath<1.0.0,>=0.7.1 in /Users/batman/anaconda3/lib/python3.7/site-packages (from boto3->smart-open>=1.8.1->gensim) (0.10.0)\n",
      "Requirement already satisfied: s3transfer<0.4.0,>=0.3.0 in /Users/batman/anaconda3/lib/python3.7/site-packages (from boto3->smart-open>=1.8.1->gensim) (0.3.3)\n",
      "Requirement already satisfied: python-dateutil<3.0.0,>=2.1 in /Users/batman/anaconda3/lib/python3.7/site-packages (from botocore<1.18.0,>=1.17.20->boto3->smart-open>=1.8.1->gensim) (2.8.1)\n",
      "Requirement already satisfied: docutils<0.16,>=0.10 in /Users/batman/anaconda3/lib/python3.7/site-packages (from botocore<1.18.0,>=1.17.20->boto3->smart-open>=1.8.1->gensim) (0.15.2)\n",
      "Requirement already satisfied: pyLDAvis in /Users/batman/anaconda3/lib/python3.7/site-packages (2.1.2)\n",
      "Requirement already satisfied: funcy in /Users/batman/anaconda3/lib/python3.7/site-packages (from pyLDAvis) (1.14)\n",
      "Requirement already satisfied: wheel>=0.23.0 in /Users/batman/anaconda3/lib/python3.7/site-packages (from pyLDAvis) (0.34.2)\n",
      "Requirement already satisfied: scipy>=0.18.0 in /Users/batman/anaconda3/lib/python3.7/site-packages (from pyLDAvis) (1.4.1)\n",
      "Requirement already satisfied: numpy>=1.9.2 in /Users/batman/anaconda3/lib/python3.7/site-packages (from pyLDAvis) (1.18.5)\n",
      "Requirement already satisfied: jinja2>=2.7.2 in /Users/batman/anaconda3/lib/python3.7/site-packages (from pyLDAvis) (2.11.2)\n",
      "Requirement already satisfied: numexpr in /Users/batman/anaconda3/lib/python3.7/site-packages (from pyLDAvis) (2.7.1)\n",
      "Requirement already satisfied: pandas>=0.17.0 in /Users/batman/anaconda3/lib/python3.7/site-packages (from pyLDAvis) (1.0.1)\n",
      "Requirement already satisfied: pytest in /Users/batman/anaconda3/lib/python3.7/site-packages (from pyLDAvis) (5.4.3)\n",
      "Requirement already satisfied: joblib>=0.8.4 in /Users/batman/anaconda3/lib/python3.7/site-packages (from pyLDAvis) (0.16.0)\n",
      "Requirement already satisfied: future in /Users/batman/anaconda3/lib/python3.7/site-packages (from pyLDAvis) (0.18.2)\n",
      "Requirement already satisfied: MarkupSafe>=0.23 in /Users/batman/anaconda3/lib/python3.7/site-packages (from jinja2>=2.7.2->pyLDAvis) (1.1.1)\n",
      "Requirement already satisfied: python-dateutil>=2.6.1 in /Users/batman/anaconda3/lib/python3.7/site-packages (from pandas>=0.17.0->pyLDAvis) (2.8.1)\n",
      "Requirement already satisfied: pytz>=2017.2 in /Users/batman/anaconda3/lib/python3.7/site-packages (from pandas>=0.17.0->pyLDAvis) (2020.1)\n",
      "Requirement already satisfied: py>=1.5.0 in /Users/batman/anaconda3/lib/python3.7/site-packages (from pytest->pyLDAvis) (1.9.0)\n",
      "Requirement already satisfied: packaging in /Users/batman/anaconda3/lib/python3.7/site-packages (from pytest->pyLDAvis) (20.4)\n",
      "Requirement already satisfied: attrs>=17.4.0 in /Users/batman/anaconda3/lib/python3.7/site-packages (from pytest->pyLDAvis) (19.3.0)\n",
      "Requirement already satisfied: more-itertools>=4.0.0 in /Users/batman/anaconda3/lib/python3.7/site-packages (from pytest->pyLDAvis) (8.4.0)\n",
      "Requirement already satisfied: pluggy<1.0,>=0.12 in /Users/batman/anaconda3/lib/python3.7/site-packages (from pytest->pyLDAvis) (0.13.1)\n",
      "Requirement already satisfied: wcwidth in /Users/batman/anaconda3/lib/python3.7/site-packages (from pytest->pyLDAvis) (0.2.5)\n",
      "Requirement already satisfied: importlib-metadata>=0.12 in /Users/batman/anaconda3/lib/python3.7/site-packages (from pytest->pyLDAvis) (1.7.0)\n",
      "Requirement already satisfied: six>=1.5 in /Users/batman/anaconda3/lib/python3.7/site-packages (from python-dateutil>=2.6.1->pandas>=0.17.0->pyLDAvis) (1.15.0)\n",
      "Requirement already satisfied: pyparsing>=2.0.2 in /Users/batman/anaconda3/lib/python3.7/site-packages (from packaging->pytest->pyLDAvis) (2.4.7)\n",
      "Requirement already satisfied: zipp>=0.5 in /Users/batman/anaconda3/lib/python3.7/site-packages (from importlib-metadata>=0.12->pytest->pyLDAvis) (3.1.0)\n"
     ]
    },
    {
     "name": "stdout",
     "output_type": "stream",
     "text": [
      "showing info https://raw.githubusercontent.com/nltk/nltk_data/gh-pages/index.xml\n"
     ]
    },
    {
     "data": {
      "text/plain": [
       "True"
      ]
     },
     "execution_count": 1,
     "metadata": {},
     "output_type": "execute_result"
    }
   ],
   "source": [
    "!pip install iexfinance\n",
    "!pip install pandas\n",
    "!pip install matplotlib\n",
    "!pip install gensim\n",
    "!pip install pyLDAvis\n",
    "import nltk\n",
    "nltk.download()"
   ]
  },
  {
   "cell_type": "code",
   "execution_count": 2,
   "metadata": {},
   "outputs": [],
   "source": [
    "import requests, json, re\n",
    "import pandas as pd\n",
    "import matplotlib\n",
    "from nltk.corpus import stopwords \n",
    "from nltk.stem.wordnet import WordNetLemmatizer\n",
    "import string\n",
    "from datetime import datetime\n",
    "from iexfinance.stocks import get_historical_data\n",
    "\n",
    "stopwords = set(stopwords.words('english'))\n",
    "punctuation = set(string.punctuation) \n",
    "\n",
    "def text_cleanup(input_text):\n",
    "    one = \" \".join([i for i in input_text.lower().split() if i not in stopwords])\n",
    "    two = \"\".join(re.sub(r'[^a-zA-Z ]', '', i) for i in one if i not in punctuation)\n",
    "    three = [WordNetLemmatizer().lemmatize(i) for i in two.split()]\n",
    "    return three"
   ]
  },
  {
   "cell_type": "code",
   "execution_count": 3,
   "metadata": {},
   "outputs": [],
   "source": [
    "import re\n",
    "import numpy as np\n",
    "import pandas as pd\n",
    "from pprint import pprint\n",
    "\n",
    "# Gensim\n",
    "import gensim\n",
    "import gensim.corpora as corpora\n",
    "from gensim.utils import simple_preprocess\n",
    "from gensim.models import CoherenceModel\n",
    "\n",
    "# spacy for lemmatization\n",
    "import spacy"
   ]
  },
  {
   "cell_type": "code",
   "execution_count": 6,
   "metadata": {},
   "outputs": [],
   "source": [
    "# Plotting tools\n",
    "import pyLDAvis\n",
    "import pyLDAvis.gensim  # don't skip this\n",
    "import matplotlib.pyplot as plt\n",
    "%matplotlib inline\n",
    "\n",
    "# Enable logging for gensim - optional\n",
    "import logging\n",
    "logging.basicConfig(format='%(asctime)s : %(levelname)s : %(message)s', level=logging.ERROR)\n",
    "\n",
    "import warnings\n",
    "warnings.filterwarnings(\"ignore\",category=DeprecationWarning)"
   ]
  },
  {
   "cell_type": "code",
   "execution_count": 25,
   "metadata": {},
   "outputs": [],
   "source": [
    "#LDA Model Built Upon Deduplicated Webhose dataset "
   ]
  },
  {
   "cell_type": "code",
   "execution_count": 62,
   "metadata": {},
   "outputs": [
    {
     "name": "stdout",
     "output_type": "stream",
     "text": [
      "25055\n"
     ]
    }
   ],
   "source": [
    "#Importing Webhose Deduplicated Dataset \n",
    "json_data=open('/Users/batman/Downloads/webhose_Covid_dedup (1).json').readlines()\n",
    "dedup_subset = []\n",
    "for line in json_data:\n",
    "    dedup_subset.append(json.loads(line))\n",
    "print(len(dedup_subset))"
   ]
  },
  {
   "cell_type": "code",
   "execution_count": 63,
   "metadata": {},
   "outputs": [],
   "source": [
    "#Converting json file to Pandas Dataframe\n",
    "df6 = pd.DataFrame(dedup_subset, columns=['id', 'title', 'text', 'url'])"
   ]
  },
  {
   "cell_type": "code",
   "execution_count": 64,
   "metadata": {},
   "outputs": [],
   "source": [
    "from gensim.models import ldamodel\n",
    "from gensim.corpora.dictionary import Dictionary\n",
    "import pyLDAvis.gensim\n",
    "import os\n",
    "\n",
    "text = df6[['text']].applymap(text_cleanup)['text']\n",
    "dictionary = Dictionary(text)\n",
    "dictionary.filter_extremes(no_below=10, no_above=0.8)\n",
    "corpora = [dictionary.doc2bow(doc) for doc in text]\n",
    "\n",
    "# Running and Trainign LDA model on the document term matrix.\n",
    "lda_model = ldamodel.LdaModel(corpora, num_topics=6, id2word = dictionary, passes=50)"
   ]
  },
  {
   "cell_type": "code",
   "execution_count": 65,
   "metadata": {},
   "outputs": [
    {
     "name": "stdout",
     "output_type": "stream",
     "text": [
      "[(0,\n",
      "  '0.012*\"it\" + 0.009*\"said\" + 0.008*\"like\" + 0.008*\"people\" + 0.008*\"time\" + '\n",
      "  '0.008*\"one\" + 0.007*\"get\" + 0.006*\"going\" + 0.006*\"say\" + 0.005*\"make\"'),\n",
      " (1,\n",
      "  '0.010*\"said\" + 0.007*\"u\" + 0.006*\"government\" + 0.006*\"trump\" + '\n",
      "  '0.006*\"country\" + 0.006*\"state\" + 0.006*\"coronavirus\" + 0.005*\"vaccine\" + '\n",
      "  '0.005*\"people\" + 0.004*\"also\"'),\n",
      " (2,\n",
      "  '0.016*\"said\" + 0.013*\"school\" + 0.012*\"case\" + 0.012*\"health\" + '\n",
      "  '0.012*\"state\" + 0.010*\"county\" + 0.008*\"mask\" + 0.008*\"student\" + '\n",
      "  '0.007*\"new\" + 0.006*\"public\"'),\n",
      " (3,\n",
      "  '0.007*\"season\" + 0.007*\"year\" + 0.006*\"game\" + 0.006*\"team\" + 0.006*\"july\" '\n",
      "  '+ 0.005*\"event\" + 0.005*\"sport\" + 0.005*\"new\" + 0.005*\"player\" + '\n",
      "  '0.005*\"first\"'),\n",
      " (4,\n",
      "  '0.061*\"market\" + 0.043*\"chart\" + 0.027*\"size\" + 0.027*\"price\" + '\n",
      "  '0.025*\"sale\" + 0.023*\"product\" + 0.023*\"unit\" + 0.022*\"segmentation\" + '\n",
      "  '0.021*\"global\" + 0.019*\"million\"'),\n",
      " (5,\n",
      "  '0.010*\"company\" + 0.007*\"business\" + 0.007*\"million\" + 0.007*\"year\" + '\n",
      "  '0.005*\"service\" + 0.005*\"u\" + 0.005*\"new\" + 0.005*\"market\" + '\n",
      "  '0.004*\"quarter\" + 0.004*\"pandemic\"')]\n"
     ]
    }
   ],
   "source": [
    "# Printing                                                                                                                                                                                                                                                                                                                                                                                                                                                                                                                                                                                                                                                                                                                                                                                                                                                                                                                                                                                                                                                                                                                                                                                                                                                                                                                                                                                                                                                                                                                                                                                                                                                                                                                                                                                                                                                                                                                                                                                                                                                                                                                                                        topics\n",
    "pprint(lda_model.print_topics())\n",
    "doc_lda = lda_model[corpora]"
   ]
  },
  {
   "cell_type": "code",
   "execution_count": 66,
   "metadata": {},
   "outputs": [
    {
     "name": "stdout",
     "output_type": "stream",
     "text": [
      "\n",
      "Perplexity Score:  -7.745679062973435\n",
      "\n",
      "Coherence Score:  0.565664778267226\n"
     ]
    }
   ],
   "source": [
    "# Compute Perplexity Score = Lower is Better\n",
    "print('\\nPerplexity Score: ', lda_model.log_perplexity(corpora))\n",
    "\n",
    "# Compute Coherence Score = Higer is Better\n",
    "coherence_model_lda = gensim.models.CoherenceModel(model=lda_model, texts=text, dictionary=dictionary, coherence='c_v')\n",
    "coherence_lda = coherence_model_lda.get_coherence()\n",
    "print('\\nCoherence Score: ', coherence_lda)"
   ]
  },
  {
   "cell_type": "code",
   "execution_count": 17,
   "metadata": {},
   "outputs": [
    {
     "data": {
      "text/html": [
       "\n",
       "<link rel=\"stylesheet\" type=\"text/css\" href=\"https://cdn.rawgit.com/bmabey/pyLDAvis/files/ldavis.v1.0.0.css\">\n",
       "\n",
       "\n",
       "<div id=\"ldavis_el504181403544802215441703312828\"></div>\n",
       "<script type=\"text/javascript\">\n",
       "\n",
       "var ldavis_el504181403544802215441703312828_data = {\"mdsDat\": {\"x\": [-0.17321665135426442, -0.04418026129590565, 0.035463452407559014, 0.14617969579047996, 0.04076091435104716, -0.0050071498989162555], \"y\": [-0.09842081999788699, 0.04538638181102878, -0.025166069152520225, -0.13047048657055943, 0.13036417685888393, 0.07830681705105394], \"topics\": [1, 2, 3, 4, 5, 6], \"cluster\": [1, 1, 1, 1, 1, 1], \"Freq\": [33.5241584777832, 28.078344345092773, 16.703062057495117, 16.346742630004883, 3.6272623538970947, 1.7204351425170898]}, \"tinfo\": {\"Term\": [\"mask\", \"vaccine\", \"new\", \"dr\", \"patient\", \"wuhan\", \"doctor\", \"lab\", \"people\", \"china\", \"u\", \"chinese\", \"death\", \"covid\", \"city\", \"state\", \"american\", \"treatment\", \"health\", \"virus\", \"report\", \"million\", \"world\", \"government\", \"york\", \"lung\", \"oxygen\", \"president\", \"said\", \"many\", \"c\", \"mask\", \"vitamin\", \"effective\", \"medicine\", \"low\", \"shown\", \"wear\", \"best\", \"powerful\", \"influenza\", \"face\", \"immunity\", \"lung\", \"immune\", \"recommended\", \"blood\", \"respiratory\", \"lead\", \"keep\", \"increased\", \"drop\", \"use\", \"protocol\", \"infection\", \"significant\", \"is\", \"person\", \"recent\", \"scientific\", \"study\", \"flu\", \"individual\", \"may\", \"virus\", \"evidence\", \"viral\", \"healthy\", \"found\", \"risk\", \"body\", \"level\", \"system\", \"like\", \"people\", \"natural\", \"also\", \"home\", \"help\", \"covid\", \"bill\", \"vaccine\", \"tested\", \"here\", \"carry\", \"everyone\", \"medium\", \"going\", \"crisis\", \"already\", \"nation\", \"business\", \"received\", \"vaccination\", \"result\", \"tell\", \"rather\", \"become\", \"it\", \"force\", \"social\", \"current\", \"america\", \"citizen\", \"there\", \"month\", \"ever\", \"child\", \"before\", \"taken\", \"want\", \"others\", \"test\", \"pandemic\", \"u\", \"global\", \"health\", \"covid\", \"year\", \"get\", \"time\", \"state\", \"even\", \"government\", \"world\", \"one\", \"public\", \"people\", \"could\", \"information\", \"also\", \"take\", \"new\", \"need\", \"virus\", \"system\", \"many\", \"flu\", \"south\", \"korea\", \"organization\", \"air\", \"ncov\", \"strain\", \"quarantine\", \"easily\", \"nature\", \"rest\", \"inside\", \"japan\", \"past\", \"although\", \"united\", \"light\", \"international\", \"city\", \"hospital\", \"spreading\", \"outside\", \"per\", \"thats\", \"someone\", \"exposed\", \"created\", \"getting\", \"high\", \"confirmed\", \"least\", \"case\", \"outbreak\", \"number\", \"china\", \"sars\", \"wuhan\", \"spread\", \"people\", \"would\", \"death\", \"new\", \"infected\", \"patient\", \"virus\", \"health\", \"world\", \"u\", \"one\", \"paper\", \"said\", \"natural\", \"human\", \"even\", \"state\", \"could\", \"system\", \"chinese\", \"laboratory\", \"bat\", \"market\", \"originated\", \"lab\", \"seafood\", \"january\", \"institute\", \"bioweapon\", \"effort\", \"december\", \"wuhan\", \"report\", \"genetic\", \"dangerous\", \"sars\", \"ebola\", \"china\", \"development\", \"research\", \"facility\", \"national\", \"source\", \"novel\", \"animal\", \"first\", \"story\", \"middle\", \"deadly\", \"outbreak\", \"pathogen\", \"official\", \"disease\", \"human\", \"virus\", \"new\", \"case\", \"said\", \"may\", \"study\", \"world\", \"dr\", \"government\", \"spread\", \"one\", \"president\", \"situation\", \"true\", \"right\", \"american\", \"white\", \"run\", \"million\", \"worst\", \"matter\", \"house\", \"ago\", \"problem\", \"month\", \"john\", \"panic\", \"today\", \"practice\", \"related\", \"state\", \"three\", \"dealing\", \"local\", \"thing\", \"along\", \"then\", \"must\", \"action\", \"back\", \"testing\", \"test\", \"government\", \"u\", \"death\", \"would\", \"people\", \"lab\", \"health\", \"covid\", \"said\", \"world\", \"virus\", \"year\", \"say\", \"one\", \"dont\", \"china\", \"also\", \"york\", \"doctor\", \"city\", \"dr\", \"patient\", \"treatment\", \"report\", \"emerged\", \"required\", \"taking\", \"entire\", \"using\", \"sick\", \"soon\", \"protocol\", \"breathing\", \"died\", \"week\", \"president\", \"reason\", \"seeing\", \"medium\", \"present\", \"death\", \"away\", \"white\", \"started\", \"enough\", \"positive\", \"hospital\", \"new\", \"oxygen\", \"lung\", \"severe\", \"similar\", \"say\", \"many\", \"covid\", \"said\", \"world\", \"medical\", \"official\", \"health\", \"rate\", \"need\", \"could\", \"state\", \"disease\"], \"Freq\": [225.0, 190.0, 128.0, 72.0, 76.0, 168.0, 55.0, 97.0, 259.0, 143.0, 133.0, 88.0, 80.0, 136.0, 54.0, 75.0, 57.0, 43.0, 153.0, 536.0, 43.0, 54.0, 105.0, 74.0, 25.0, 45.0, 49.0, 35.0, 72.0, 80.0, 50.57365417480469, 220.49758911132812, 83.98777770996094, 56.81698989868164, 26.892126083374023, 17.462228775024414, 21.607994079589844, 34.017852783203125, 31.306541442871094, 13.018657684326172, 74.22151184082031, 86.80352020263672, 35.308692932128906, 38.832942962646484, 85.11553955078125, 10.622679710388184, 39.020286560058594, 68.63792419433594, 14.814090728759766, 30.338497161865234, 25.635051727294922, 11.61109733581543, 70.20018768310547, 12.842782020568848, 115.55509185791016, 22.554594039916992, 14.263507843017578, 38.74603271484375, 22.276386260986328, 28.83029556274414, 112.07588958740234, 80.77349090576172, 26.55191421508789, 62.531715393066406, 270.73822021484375, 44.35316467285156, 45.39405059814453, 31.122419357299805, 46.31574630737305, 55.71472930908203, 47.04273223876953, 39.394996643066406, 52.87154006958008, 51.78461837768555, 80.77442169189453, 39.900306701660156, 50.61777877807617, 37.904441833496094, 38.26094436645508, 39.5850715637207, 31.426868438720703, 179.7235565185547, 15.78591537475586, 18.582258224487305, 10.275134086608887, 13.99669075012207, 32.572715759277344, 19.683866500854492, 22.317123413085938, 28.298641204833984, 22.635292053222656, 13.626996994018555, 9.957340240478516, 26.138322830200195, 22.40861701965332, 8.930171966552734, 8.233454704284668, 20.331418991088867, 79.93072509765625, 12.847038269042969, 25.447254180908203, 14.675329208374023, 14.29404354095459, 11.208943367004395, 14.94397258758545, 14.684468269348145, 9.644670486450195, 34.30572509765625, 9.650086402893066, 9.563037872314453, 16.48676300048828, 21.256458282470703, 20.349180221557617, 56.404022216796875, 72.6355209350586, 29.801231384277344, 74.55451965332031, 65.82485961914062, 37.45243835449219, 41.950286865234375, 38.72159957885742, 37.48292922973633, 47.03578186035156, 35.5479850769043, 44.90414047241211, 50.58327865600586, 31.07356834411621, 66.81673431396484, 31.920547485351562, 26.00676155090332, 39.15341567993164, 27.273218154907227, 37.81137466430664, 32.38117599487305, 53.917171478271484, 30.919384002685547, 28.170339584350586, 29.642961502075195, 12.79707145690918, 14.349737167358398, 9.821606636047363, 40.01449966430664, 28.44519805908203, 17.598554611206055, 11.029393196105957, 9.484245300292969, 9.462504386901855, 8.808244705200195, 12.206496238708496, 11.369190216064453, 6.6541900634765625, 7.134483814239502, 12.7296142578125, 10.274019241333008, 10.59893798828125, 28.689760208129883, 20.887727737426758, 7.931954383850098, 8.488409042358398, 10.049154281616211, 11.170939445495605, 8.069548606872559, 7.092717170715332, 7.059996604919434, 13.83332633972168, 16.891565322875977, 12.472826957702637, 13.64554500579834, 43.098148345947266, 38.21941375732422, 23.23933982849121, 49.995933532714844, 26.129840850830078, 56.11920928955078, 32.8743782043457, 76.65153503417969, 30.375268936157227, 27.83086585998535, 38.964691162109375, 27.7739200592041, 25.58980369567871, 90.43598175048828, 36.94887924194336, 27.01148223876953, 27.668493270874023, 27.856243133544922, 15.674972534179688, 19.97686195373535, 19.184539794921875, 21.139904022216797, 20.072771072387695, 17.924978256225586, 17.512142181396484, 17.287757873535156, 83.09347534179688, 34.401607513427734, 32.399681091308594, 39.62339401245117, 14.934272766113281, 84.12854766845703, 16.078792572021484, 22.984058380126953, 23.867523193359375, 17.9307804107666, 12.221959114074707, 12.338168144226074, 108.06723022460938, 28.064762115478516, 16.156002044677734, 14.32073974609375, 41.29874801635742, 16.545909881591797, 85.98297882080078, 7.643185138702393, 43.28339385986328, 9.51529312133789, 21.819204330444336, 13.988457679748535, 19.814350128173828, 34.079994201660156, 39.76091384887695, 8.991549491882324, 6.378942966461182, 14.565446853637695, 45.57414627075195, 23.67670249938965, 21.431140899658203, 41.45777893066406, 36.5659065246582, 109.69981384277344, 34.947906494140625, 30.430938720703125, 22.022008895874023, 23.355920791625977, 26.328855514526367, 23.31927490234375, 20.870079040527344, 20.593399047851562, 21.01178550720215, 21.297088623046875, 17.472484588623047, 7.455997943878174, 5.406539440155029, 9.53710651397705, 19.930593490600586, 3.6830074787139893, 3.454969882965088, 16.129756927490234, 3.6051712036132812, 4.9882707595825195, 3.8362321853637695, 3.196821928024292, 5.56826639175415, 5.231849193572998, 4.042914867401123, 3.684621810913086, 3.89595103263855, 3.7618603706359863, 3.3028788566589355, 15.399287223815918, 4.386957168579102, 2.6607882976531982, 2.731360912322998, 5.465196132659912, 2.4619271755218506, 2.707335948944092, 6.035990238189697, 2.8592071533203125, 3.9388160705566406, 2.8592045307159424, 4.709935188293457, 10.151006698608398, 14.711769104003906, 9.453007698059082, 9.934793472290039, 16.611268997192383, 7.763965606689453, 9.409116744995117, 8.810633659362793, 6.691946983337402, 6.7091875076293945, 11.126709938049316, 5.692327976226807, 4.607793807983398, 5.335213661193848, 4.297903537750244, 4.385586738586426, 4.3096513748168945, 11.246382713317871, 11.659578323364258, 9.413758277893066, 12.243558883666992, 11.948912620544434, 6.551998615264893, 6.462172031402588, 1.7548046112060547, 1.3190155029296875, 1.7554030418395996, 1.6194944381713867, 3.276962995529175, 2.6411662101745605, 1.3514225482940674, 1.7548531293869019, 1.7545642852783203, 2.840907335281372, 3.8037266731262207, 3.3741533756256104, 1.754791021347046, 0.9448656439781189, 3.4032375812530518, 0.9447832107543945, 6.416407585144043, 1.7547807693481445, 0.9446560144424438, 0.9447168111801147, 0.9447818398475647, 1.8324776887893677, 3.037869453430176, 9.437768936157227, 3.3909807205200195, 3.1563339233398438, 1.754654884338379, 1.7547322511672974, 2.8476130962371826, 3.5344014167785645, 4.095392227172852, 3.0614511966705322, 2.941419839859009, 2.6482481956481934, 2.253373384475708, 2.8723669052124023, 2.014676570892334, 2.1305301189422607, 2.0634684562683105, 2.032731056213379, 2.0694313049316406], \"Total\": [225.0, 190.0, 128.0, 72.0, 76.0, 168.0, 55.0, 97.0, 259.0, 143.0, 133.0, 88.0, 80.0, 136.0, 54.0, 75.0, 57.0, 43.0, 153.0, 536.0, 43.0, 54.0, 105.0, 74.0, 25.0, 45.0, 49.0, 35.0, 72.0, 80.0, 51.453155517578125, 225.68267822265625, 86.03846740722656, 60.105072021484375, 28.585968017578125, 18.74338150024414, 23.689664840698242, 37.56758499145508, 35.40738296508789, 14.796690940856934, 86.02069854736328, 100.80339813232422, 41.30846405029297, 45.7763786315918, 100.63643646240234, 12.81223201751709, 48.19887924194336, 86.81964111328125, 18.742671966552734, 38.46565246582031, 32.5499382019043, 14.785040855407715, 89.712646484375, 16.413122177124023, 149.92160034179688, 29.504047393798828, 18.754179000854492, 51.256439208984375, 29.555509567260742, 38.55413055419922, 150.87905883789062, 119.24639129638672, 36.328243255615234, 94.56120300292969, 536.8853759765625, 66.93534088134766, 68.91578674316406, 44.40037155151367, 73.59518432617188, 93.75396728515625, 78.42723846435547, 65.0953369140625, 108.69022369384766, 108.07647705078125, 259.5291442871094, 69.33094024658203, 124.11870574951172, 62.764991760253906, 66.79196166992188, 136.8035888671875, 33.17007064819336, 190.7447509765625, 17.606287002563477, 21.56410789489746, 12.670202255249023, 17.539464950561523, 41.4444465637207, 25.550098419189453, 29.05133819580078, 37.11397933959961, 30.118175506591797, 18.54910659790039, 13.736823081970215, 36.39854049682617, 31.37287139892578, 12.703463554382324, 11.770212173461914, 29.278535842895508, 115.34291076660156, 18.596668243408203, 36.910667419433594, 21.297636032104492, 21.088275909423828, 16.580305099487305, 22.41023063659668, 22.05278778076172, 14.521389961242676, 52.18533706665039, 14.700393676757812, 14.731467247009277, 25.42221450805664, 33.20100402832031, 31.75287628173828, 93.12161254882812, 133.98593139648438, 51.370174407958984, 153.64556884765625, 136.8035888671875, 70.90369415283203, 84.20841217041016, 77.6175308227539, 75.18030548095703, 101.97504425048828, 74.60369110107422, 105.05110931396484, 144.95997619628906, 66.29521942138672, 259.5291442871094, 72.45720672607422, 48.75737762451172, 124.11870574951172, 54.40137481689453, 128.1768035888672, 88.76116943359375, 536.8853759765625, 108.69022369384766, 80.48934173583984, 119.24639129638672, 15.192304611206055, 17.09833335876465, 14.25948429107666, 60.49236297607422, 43.19163513183594, 26.75680923461914, 17.255767822265625, 15.24950885772705, 15.354782104492188, 14.385466575622559, 20.081056594848633, 19.23128318786621, 11.514113426208496, 12.461677551269531, 22.864227294921875, 19.25454330444336, 20.167713165283203, 54.75012969970703, 40.53666305541992, 15.419183731079102, 17.35782814025879, 21.175745010375977, 24.00324249267578, 17.389108657836914, 15.413152694702148, 15.433941841125488, 30.73141860961914, 37.598609924316406, 28.948152542114258, 31.727384567260742, 102.69734954833984, 98.05142974853516, 57.928245544433594, 143.5867919921875, 68.0596923828125, 168.27769470214844, 89.4102783203125, 259.5291442871094, 89.50914001464844, 80.35855102539062, 128.1768035888672, 85.5887222290039, 76.31534576416016, 536.8853759765625, 153.64556884765625, 105.05110931396484, 133.98593139648438, 144.95997619628906, 40.72113037109375, 72.87190246582031, 69.33094024658203, 95.89212036132812, 101.97504425048828, 75.18030548095703, 72.45720672607422, 108.69022369384766, 88.74259948730469, 37.55582809448242, 35.487850189208984, 44.24943161010742, 16.686494827270508, 97.03865814208984, 18.67941665649414, 28.57655906677246, 30.599069595336914, 24.658266067504883, 17.62169647216797, 18.56134605407715, 168.27769470214844, 43.7509880065918, 25.34661293029785, 22.66977310180664, 68.0596923828125, 27.300127029418945, 143.5867919921875, 12.786426544189453, 73.09223937988281, 16.562379837036133, 39.43109130859375, 25.596843719482422, 36.92947006225586, 64.93650817871094, 78.15457153320312, 17.711130142211914, 12.777180671691895, 30.016828536987305, 98.05142974853516, 52.30768966674805, 47.27791976928711, 110.57318115234375, 95.89212036132812, 536.8853759765625, 128.1768035888672, 102.69734954833984, 72.87190246582031, 94.56120300292969, 150.87905883789062, 105.05110931396484, 72.31128692626953, 74.60369110107422, 89.4102783203125, 144.95997619628906, 35.07185745239258, 19.819190979003906, 15.082764625549316, 26.6793212890625, 57.70830535888672, 12.063882827758789, 11.374310493469238, 54.95909118652344, 12.422689437866211, 17.88276481628418, 15.11820125579834, 13.192598342895508, 23.000368118286133, 22.05278778076172, 17.20969581604004, 16.16002082824707, 17.203418731689453, 17.376468658447266, 15.38681411743164, 75.18030548095703, 21.99130630493164, 13.362454414367676, 14.41811466217041, 32.81742858886719, 15.296761512756348, 17.2751407623291, 38.644561767578125, 18.354026794433594, 26.018945693969727, 19.24564552307129, 31.75287628173828, 74.60369110107422, 133.98593139648438, 80.35855102539062, 89.50914001464844, 259.5291442871094, 97.03865814208984, 153.64556884765625, 136.8035888671875, 72.87190246582031, 105.05110931396484, 536.8853759765625, 70.90369415283203, 50.10715866088867, 144.95997619628906, 36.700809478759766, 143.5867919921875, 124.11870574951172, 25.86309814453125, 55.375335693359375, 54.75012969970703, 72.31128692626953, 76.31534576416016, 43.89522171020508, 43.7509880065918, 12.372079849243164, 10.47350788116455, 14.24489974975586, 14.181283950805664, 29.778287887573242, 24.08021354675293, 12.35586929321289, 16.413122177124023, 17.098140716552734, 28.375812530517578, 39.0716667175293, 35.07185745239258, 19.2623233795166, 11.471887588500977, 41.4444465637207, 11.533243179321289, 80.35855102539062, 22.11102294921875, 12.063882827758789, 12.296735763549805, 12.381319046020508, 24.04084587097168, 40.53666305541992, 128.1768035888672, 49.106361389160156, 45.7763786315918, 24.154003143310547, 25.79924964904785, 50.10715866088867, 80.48934173583984, 136.8035888671875, 72.87190246582031, 105.05110931396484, 78.8996810913086, 47.27791976928711, 153.64556884765625, 41.433448791503906, 88.76116943359375, 72.45720672607422, 75.18030548095703, 110.57318115234375], \"Category\": [\"Default\", \"Default\", \"Default\", \"Default\", \"Default\", \"Default\", \"Default\", \"Default\", \"Default\", \"Default\", \"Default\", \"Default\", \"Default\", \"Default\", \"Default\", \"Default\", \"Default\", \"Default\", \"Default\", \"Default\", \"Default\", \"Default\", \"Default\", \"Default\", \"Default\", \"Default\", \"Default\", \"Default\", \"Default\", \"Default\", \"Topic1\", \"Topic1\", \"Topic1\", \"Topic1\", \"Topic1\", \"Topic1\", \"Topic1\", \"Topic1\", \"Topic1\", \"Topic1\", \"Topic1\", \"Topic1\", \"Topic1\", \"Topic1\", \"Topic1\", \"Topic1\", \"Topic1\", \"Topic1\", \"Topic1\", \"Topic1\", \"Topic1\", \"Topic1\", \"Topic1\", \"Topic1\", \"Topic1\", \"Topic1\", \"Topic1\", \"Topic1\", \"Topic1\", \"Topic1\", \"Topic1\", \"Topic1\", \"Topic1\", \"Topic1\", \"Topic1\", \"Topic1\", \"Topic1\", \"Topic1\", \"Topic1\", \"Topic1\", \"Topic1\", \"Topic1\", \"Topic1\", \"Topic1\", \"Topic1\", \"Topic1\", \"Topic1\", \"Topic1\", \"Topic1\", \"Topic1\", \"Topic2\", \"Topic2\", \"Topic2\", \"Topic2\", \"Topic2\", \"Topic2\", \"Topic2\", \"Topic2\", \"Topic2\", \"Topic2\", \"Topic2\", \"Topic2\", \"Topic2\", \"Topic2\", \"Topic2\", \"Topic2\", \"Topic2\", \"Topic2\", \"Topic2\", \"Topic2\", \"Topic2\", \"Topic2\", \"Topic2\", \"Topic2\", \"Topic2\", \"Topic2\", \"Topic2\", \"Topic2\", \"Topic2\", \"Topic2\", \"Topic2\", \"Topic2\", \"Topic2\", \"Topic2\", \"Topic2\", \"Topic2\", \"Topic2\", \"Topic2\", \"Topic2\", \"Topic2\", \"Topic2\", \"Topic2\", \"Topic2\", \"Topic2\", \"Topic2\", \"Topic2\", \"Topic2\", \"Topic2\", \"Topic2\", \"Topic2\", \"Topic2\", \"Topic2\", \"Topic2\", \"Topic2\", \"Topic2\", \"Topic2\", \"Topic2\", \"Topic2\", \"Topic3\", \"Topic3\", \"Topic3\", \"Topic3\", \"Topic3\", \"Topic3\", \"Topic3\", \"Topic3\", \"Topic3\", \"Topic3\", \"Topic3\", \"Topic3\", \"Topic3\", \"Topic3\", \"Topic3\", \"Topic3\", \"Topic3\", \"Topic3\", \"Topic3\", \"Topic3\", \"Topic3\", \"Topic3\", \"Topic3\", \"Topic3\", \"Topic3\", \"Topic3\", \"Topic3\", \"Topic3\", \"Topic3\", \"Topic3\", \"Topic3\", \"Topic3\", \"Topic3\", \"Topic3\", \"Topic3\", \"Topic3\", \"Topic3\", \"Topic3\", \"Topic3\", \"Topic3\", \"Topic3\", \"Topic3\", \"Topic3\", \"Topic3\", \"Topic3\", \"Topic3\", \"Topic3\", \"Topic3\", \"Topic3\", \"Topic3\", \"Topic3\", \"Topic3\", \"Topic3\", \"Topic3\", \"Topic3\", \"Topic3\", \"Topic4\", \"Topic4\", \"Topic4\", \"Topic4\", \"Topic4\", \"Topic4\", \"Topic4\", \"Topic4\", \"Topic4\", \"Topic4\", \"Topic4\", \"Topic4\", \"Topic4\", \"Topic4\", \"Topic4\", \"Topic4\", \"Topic4\", \"Topic4\", \"Topic4\", \"Topic4\", \"Topic4\", \"Topic4\", \"Topic4\", \"Topic4\", \"Topic4\", \"Topic4\", \"Topic4\", \"Topic4\", \"Topic4\", \"Topic4\", \"Topic4\", \"Topic4\", \"Topic4\", \"Topic4\", \"Topic4\", \"Topic4\", \"Topic4\", \"Topic4\", \"Topic4\", \"Topic4\", \"Topic4\", \"Topic4\", \"Topic4\", \"Topic4\", \"Topic4\", \"Topic4\", \"Topic5\", \"Topic5\", \"Topic5\", \"Topic5\", \"Topic5\", \"Topic5\", \"Topic5\", \"Topic5\", \"Topic5\", \"Topic5\", \"Topic5\", \"Topic5\", \"Topic5\", \"Topic5\", \"Topic5\", \"Topic5\", \"Topic5\", \"Topic5\", \"Topic5\", \"Topic5\", \"Topic5\", \"Topic5\", \"Topic5\", \"Topic5\", \"Topic5\", \"Topic5\", \"Topic5\", \"Topic5\", \"Topic5\", \"Topic5\", \"Topic5\", \"Topic5\", \"Topic5\", \"Topic5\", \"Topic5\", \"Topic5\", \"Topic5\", \"Topic5\", \"Topic5\", \"Topic5\", \"Topic5\", \"Topic5\", \"Topic5\", \"Topic5\", \"Topic5\", \"Topic5\", \"Topic5\", \"Topic5\", \"Topic6\", \"Topic6\", \"Topic6\", \"Topic6\", \"Topic6\", \"Topic6\", \"Topic6\", \"Topic6\", \"Topic6\", \"Topic6\", \"Topic6\", \"Topic6\", \"Topic6\", \"Topic6\", \"Topic6\", \"Topic6\", \"Topic6\", \"Topic6\", \"Topic6\", \"Topic6\", \"Topic6\", \"Topic6\", \"Topic6\", \"Topic6\", \"Topic6\", \"Topic6\", \"Topic6\", \"Topic6\", \"Topic6\", \"Topic6\", \"Topic6\", \"Topic6\", \"Topic6\", \"Topic6\", \"Topic6\", \"Topic6\", \"Topic6\", \"Topic6\", \"Topic6\", \"Topic6\", \"Topic6\", \"Topic6\", \"Topic6\", \"Topic6\", \"Topic6\", \"Topic6\", \"Topic6\", \"Topic6\"], \"logprob\": [30.0, 29.0, 28.0, 27.0, 26.0, 25.0, 24.0, 23.0, 22.0, 21.0, 20.0, 19.0, 18.0, 17.0, 16.0, 15.0, 14.0, 13.0, 12.0, 11.0, 10.0, 9.0, 8.0, 7.0, 6.0, 5.0, 4.0, 3.0, 2.0, 1.0, -4.768700122833252, -3.296299934387207, -4.261499881744385, -4.652299880981445, -5.400300025939941, -5.832099914550781, -5.619100093841553, -5.165299892425537, -5.248300075531006, -6.125800132751465, -4.3850998878479, -4.228499889373779, -5.127999782562256, -5.032899856567383, -4.2480998039245605, -6.329100131988525, -5.02810001373291, -4.4633002281188965, -5.996600151062012, -5.279699802398682, -5.448200225830078, -6.240200042724609, -4.440800189971924, -6.139400005340576, -3.9423999786376953, -5.576200008392334, -6.03439998626709, -5.035099983215332, -5.588600158691406, -5.330699920654297, -3.9730000495910645, -4.30049991607666, -5.413000106811523, -4.55649995803833, -3.0910000801086426, -4.900000095367432, -4.876800060272217, -5.254199981689453, -4.8566999435424805, -4.671899795532227, -4.841100215911865, -5.018499851226807, -4.724299907684326, -4.744999885559082, -4.30049991607666, -5.005799770355225, -4.7677998542785645, -5.05709981918335, -5.047699928283691, -5.013700008392334, -5.067200183868408, -3.323499917984009, -5.755799770355225, -5.592700004577637, -6.185100078582764, -5.875999927520752, -5.031400203704834, -5.535099983215332, -5.4095001220703125, -5.172100067138672, -5.395400047302246, -5.9028000831604, -6.216599941253662, -5.251500129699707, -5.405399799346924, -6.325399875640869, -6.406700134277344, -5.502699851989746, -4.133699893951416, -5.9618000984191895, -5.278299808502197, -5.828700065612793, -5.855000019073486, -6.098199844360352, -5.8105998039245605, -5.828100204467773, -6.248499870300293, -4.979599952697754, -6.247900009155273, -6.256999969482422, -5.712299823760986, -5.458199977874756, -5.501800060272217, -4.4822998046875, -4.229400157928467, -5.120299816131592, -4.2032999992370605, -4.327899932861328, -4.8917999267578125, -4.77839994430542, -4.858500003814697, -4.890999794006348, -4.664000034332275, -4.943999767303467, -4.710299968719482, -4.59119987487793, -5.078499794006348, -4.312900066375732, -5.051599979400635, -5.256499767303467, -4.847400188446045, -5.209000110626221, -4.882299900054932, -5.037300109863281, -4.527400016784668, -5.083499908447266, -5.176599979400635, -5.1255998611450195, -5.446199893951416, -5.331699848175049, -5.710899829864502, -4.30620002746582, -4.647500038146973, -5.127600193023682, -5.594900131225586, -5.745800018310547, -5.7480998039245605, -5.819799900054932, -5.493500232696533, -5.564599990844727, -6.100200176239014, -6.0304999351501465, -5.451499938964844, -5.665800094604492, -5.634699821472168, -4.638899803161621, -4.956299781799316, -5.924600124359131, -5.856800079345703, -5.688000202178955, -5.582099914550781, -5.907400131225586, -6.036399841308594, -6.040999889373779, -5.3684000968933105, -5.168600082397461, -5.47189998626709, -5.3821001052856445, -4.23199987411499, -4.352099895477295, -4.849599838256836, -4.083499908447266, -4.732399940490723, -3.9679999351501465, -4.502799987792969, -3.6561999320983887, -4.5817999839782715, -4.669300079345703, -4.332799911499023, -4.67140007019043, -4.753300189971924, -3.490799903869629, -4.385900020599365, -4.69920015335083, -4.67519998550415, -4.668399810791016, -5.2434000968933105, -5.000899791717529, -5.041399955749512, -4.944300174713135, -4.996099948883057, -5.109300136566162, -5.132599830627441, -5.145500183105469, -3.5539000034332275, -4.435800075531006, -4.495800018310547, -4.29449987411499, -5.270199775695801, -3.541599988937378, -5.196400165557861, -4.839099884033203, -4.801400184631348, -5.087399959564209, -5.470699787139893, -5.46120023727417, -3.291100025177002, -4.639400005340576, -5.1915998458862305, -5.31220006942749, -4.2530999183654785, -5.167799949645996, -3.5197999477386475, -5.940100193023682, -4.206099987030029, -5.7210001945495605, -4.89109992980957, -5.335700035095215, -4.987500190734863, -4.445199966430664, -4.290999889373779, -5.777599811553955, -6.1209001541137695, -5.295199871063232, -4.154600143432617, -4.8094000816345215, -4.90910005569458, -4.249199867248535, -4.374800205230713, -3.27620005607605, -4.420000076293945, -4.5584001541137695, -4.881899833679199, -4.822999954223633, -4.703199863433838, -4.8246002197265625, -4.9355998039245605, -4.94890022277832, -4.928800106048584, -4.915299892425537, -3.6077001094818115, -4.4593000411987305, -4.780700206756592, -4.213200092315674, -3.476099967956543, -5.164599895477295, -5.228499889373779, -3.687700033187866, -5.185999870300293, -4.861299991607666, -5.123899936676025, -5.30620002746582, -4.751299858093262, -4.813600063323975, -5.071400165557861, -5.1641998291015625, -5.108399868011475, -5.143400192260742, -5.273600101470947, -3.7339999675750732, -4.989699840545654, -5.489699840545654, -5.463600158691406, -4.769999980926514, -5.567399978637695, -5.472400188446045, -4.670599937438965, -5.417799949645996, -5.097499847412109, -5.417799949645996, -4.918700218200684, -4.1508002281188965, -3.7797000408172607, -4.2220001220703125, -4.172299861907959, -3.6582999229431152, -4.418900012969971, -4.2266998291015625, -4.292399883270264, -4.567399978637695, -4.564899921417236, -4.059000015258789, -4.7291998863220215, -4.9405999183654785, -4.794000148773193, -5.010200023651123, -4.989999771118164, -5.007500171661377, -3.3024001121520996, -3.2662999629974365, -3.480299949645996, -3.217400074005127, -3.24180006980896, -3.8427000045776367, -3.8564999103546143, -5.160099983215332, -5.4456000328063965, -5.159800052642822, -5.240300178527832, -4.5355000495910645, -4.751200199127197, -5.421299934387207, -5.160099983215332, -5.160200119018555, -4.678299903869629, -4.386499881744385, -4.50629997253418, -5.160099983215332, -5.779200077056885, -4.497700214385986, -5.779200077056885, -3.863600015640259, -5.160099983215332, -5.779399871826172, -5.779300212860107, -5.779200077056885, -5.116799831390381, -4.611299991607666, -3.4776999950408936, -4.501299858093262, -4.572999954223633, -5.160200119018555, -5.160099983215332, -4.676000118255615, -4.45989990234375, -4.312600135803223, -4.603600025177002, -4.643599987030029, -4.748600006103516, -4.909999847412109, -4.667300224304199, -5.021999835968018, -4.966100215911865, -4.9980998039245605, -5.0131001472473145, -4.995200157165527], \"loglift\": [30.0, 29.0, 28.0, 27.0, 26.0, 25.0, 24.0, 23.0, 22.0, 21.0, 20.0, 19.0, 18.0, 17.0, 16.0, 15.0, 14.0, 13.0, 12.0, 11.0, 10.0, 9.0, 8.0, 7.0, 6.0, 5.0, 4.0, 3.0, 2.0, 1.0, 1.075700044631958, 1.069700002670288, 1.0687999725341797, 1.0365999937057495, 1.0318000316619873, 1.0220999717712402, 1.0009000301361084, 0.9936000108718872, 0.9697999954223633, 0.964900016784668, 0.9453999996185303, 0.9434000253677368, 0.9359999895095825, 0.9283999800682068, 0.9254000186920166, 0.9054999947547913, 0.881600022315979, 0.8579000234603882, 0.857699990272522, 0.8555999994277954, 0.8540999889373779, 0.8511999845504761, 0.847599983215332, 0.847599983215332, 0.8324999809265137, 0.8242999911308289, 0.8191999793052673, 0.8130999803543091, 0.8101999759674072, 0.802299976348877, 0.7955999970436096, 0.7034000158309937, 0.7793999910354614, 0.6793000102043152, 0.4083000123500824, 0.6814000010490417, 0.6754000186920166, 0.7376000285148621, 0.629800021648407, 0.5724999904632568, 0.5817999839782715, 0.5906999707221985, 0.37229999899864197, 0.3571999967098236, -0.07429999858140945, 0.5404000282287598, 0.19599999487400055, 0.5885999798774719, 0.5357999801635742, -0.14720000326633453, 1.2161999940872192, 1.2107000350952148, 1.1610000133514404, 1.1212999820709229, 1.0606000423431396, 1.0444999933242798, 1.0292999744415283, 1.0092999935150146, 1.006500005722046, 0.9990000128746033, 0.9846000075340271, 0.9617999792098999, 0.9484000205993652, 0.9390000104904175, 0.9337000250816345, 0.9176999926567078, 0.9128000140190125, 0.9054999947547913, 0.9034000039100647, 0.9003000259399414, 0.8982999920845032, 0.8977000117301941, 0.8812999725341797, 0.8787000179290771, 0.8650000095367432, 0.8634999990463257, 0.8610000014305115, 0.8507000207901001, 0.8493000268936157, 0.838100016117096, 0.8371000289916992, 0.8242999911308289, 0.8252000212669373, 0.7688000202178955, 0.6578999757766724, 0.7257000207901001, 0.5471000075340271, 0.5386000275611877, 0.6319000124931335, 0.5734000205993652, 0.5748000144958496, 0.5741999745368958, 0.49639999866485596, 0.5289000272750854, 0.4203000068664551, 0.21729999780654907, 0.5123999714851379, -0.08669999986886978, 0.4503999948501587, 0.641700029373169, 0.11640000343322754, 0.5796999931335449, 0.049400001764297485, 0.26179999113082886, -1.0282000303268433, 0.013100000098347664, 0.22030000388622284, -0.121799997985363, 1.6180000305175781, 1.614300012588501, 1.416700005531311, 1.3762999773025513, 1.371899962425232, 1.3705999851226807, 1.3420000076293945, 1.3147000074386597, 1.3055000305175781, 1.2990000247955322, 1.2918000221252441, 1.2639000415802002, 1.2412999868392944, 1.2318999767303467, 1.2038999795913696, 1.1613999605178833, 1.1461999416351318, 1.1433000564575195, 1.1265000104904175, 1.124899983406067, 1.0742000341415405, 1.0441999435424805, 1.0247000455856323, 1.0218000411987305, 1.0133999586105347, 1.0075000524520874, 0.9914000034332275, 0.9894000291824341, 0.9476000070571899, 0.9458000063896179, 0.9212999939918518, 0.8474000096321106, 0.8762000203132629, 0.7346000075340271, 0.8323000073432922, 0.6913999915122986, 0.7889999747276306, 0.5699999928474426, 0.708899974822998, 0.729200005531311, 0.598800003528595, 0.6640999913215637, 0.6969000101089478, 0.00839999970048666, 0.3644999861717224, 0.43140000104904175, 0.21209999918937683, 0.14020000398159027, 0.8349000215530396, 0.49540001153945923, 0.504800021648407, 0.2775000035762787, 0.16419999301433563, 0.35589998960494995, 0.3695000112056732, -0.048900000751018524, 1.7453999519348145, 1.7233999967575073, 1.7201000452041626, 1.700700044631958, 1.7001999616622925, 1.6684000492095947, 1.6612000465393066, 1.593400001525879, 1.5627000331878662, 1.4924999475479126, 1.445199966430664, 1.4027999639511108, 1.368299961090088, 1.3671000003814697, 1.36080002784729, 1.3517999649047852, 1.3115999698638916, 1.3104000091552734, 1.2984000444412231, 1.2965999841690063, 1.2871999740600586, 1.2568999528884888, 1.2194000482559204, 1.2069000005722046, 1.1885000467300415, 1.1663999557495117, 1.1353000402450562, 1.1332000494003296, 1.1165000200271606, 1.0880000591278076, 1.0449999570846558, 1.0184999704360962, 1.0198999643325806, 0.8300999999046326, 0.847000002861023, 0.22310000658035278, 0.5116000175476074, 0.5947999954223633, 0.6144999861717224, 0.41269999742507935, 0.06530000269412994, 0.3059999942779541, 0.5684999823570251, 0.5238999724388123, 0.3630000054836273, -0.10670000314712524, 2.6198999881744385, 2.339099884033203, 2.2906999588012695, 2.2880001068115234, 2.253499984741211, 2.130199909210205, 2.1250998973846436, 2.0908000469207764, 2.0794999599456787, 2.039900064468384, 1.9452999830245972, 1.8991999626159668, 1.898300051689148, 1.878000020980835, 1.8681999444961548, 1.8382999897003174, 1.8315000534057617, 1.7864999771118164, 1.777999997138977, 1.7310999631881714, 1.704699993133545, 1.7029000520706177, 1.652999997138977, 1.5240999460220337, 1.4900000095367432, 1.4634000062942505, 1.4600000381469727, 1.4573999643325806, 1.4286999702453613, 1.409999966621399, 1.408400058746338, 1.322100043296814, 1.1075999736785889, 1.1764999628067017, 1.118399977684021, 0.5679000020027161, 0.791100025177002, 0.5236999988555908, 0.5741000175476074, 0.9289000034332275, 0.5656999945640564, -0.5597000122070312, 0.7944999933242798, 0.9302999973297119, 0.014600000344216824, 1.1720000505447388, -0.17190000414848328, -0.043699998408555984, 3.22979998588562, 2.5046000480651855, 2.302000045776367, 2.286600112915039, 2.208400011062622, 2.160599946975708, 2.1500000953674316, 2.109499931335449, 1.9905999898910522, 1.9688999652862549, 1.892799973487854, 1.8557000160217285, 1.8523999452590942, 1.8495999574661255, 1.8269000053405762, 1.7857999801635742, 1.761199951171875, 1.733199954032898, 1.7213000059127808, 1.6668000221252441, 1.565999984741211, 1.562999963760376, 1.5606000423431396, 1.534999966621399, 1.5289000272750854, 1.5154000520706177, 1.496399998664856, 1.4895999431610107, 1.4884999990463257, 1.471500039100647, 1.4538999795913696, 1.3897000551223755, 1.388200044631958, 1.4404000043869019, 1.3746000528335571, 1.1949000358581543, 0.9369999766349792, 0.5539000034332275, 0.892799973487854, 0.4869999885559082, 0.6682999730110168, 1.0190000534057617, 0.08309999853372574, 1.0390000343322754, 0.3330000042915344, 0.5040000081062317, 0.45210000872612, 0.08420000225305557]}, \"token.table\": {\"Topic\": [1, 2, 3, 5, 1, 2, 3, 5, 6, 1, 3, 4, 1, 2, 3, 5, 2, 3, 4, 1, 2, 3, 4, 5, 6, 2, 3, 2, 3, 5, 6, 1, 2, 3, 4, 5, 6, 1, 2, 3, 4, 1, 2, 3, 4, 6, 1, 2, 3, 4, 5, 3, 4, 1, 2, 3, 5, 1, 2, 3, 4, 1, 2, 6, 2, 6, 2, 4, 1, 2, 3, 1, 2, 3, 1, 3, 6, 1, 2, 5, 1, 2, 3, 1, 2, 3, 4, 5, 1, 2, 2, 3, 4, 5, 6, 2, 3, 4, 6, 1, 2, 3, 2, 3, 4, 5, 6, 2, 3, 4, 5, 1, 2, 3, 4, 5, 6, 1, 2, 3, 4, 5, 6, 2, 3, 4, 2, 4, 5, 6, 2, 3, 5, 1, 2, 4, 1, 3, 4, 5, 6, 1, 2, 5, 6, 1, 2, 3, 4, 5, 6, 2, 3, 4, 2, 4, 2, 3, 4, 5, 6, 1, 2, 3, 4, 6, 1, 2, 4, 5, 6, 1, 2, 3, 5, 1, 2, 3, 4, 6, 1, 2, 2, 3, 4, 5, 1, 2, 3, 4, 1, 4, 5, 6, 2, 3, 4, 1, 2, 3, 4, 6, 1, 2, 3, 6, 1, 2, 3, 6, 1, 2, 3, 5, 6, 1, 2, 4, 6, 2, 3, 1, 2, 4, 5, 6, 2, 3, 1, 2, 3, 1, 2, 3, 4, 5, 1, 2, 3, 4, 5, 6, 1, 2, 3, 4, 5, 1, 2, 3, 4, 1, 2, 3, 4, 5, 1, 2, 3, 4, 1, 2, 3, 5, 6, 1, 3, 6, 2, 3, 4, 5, 6, 1, 2, 4, 2, 3, 4, 5, 1, 2, 3, 4, 5, 6, 1, 2, 3, 1, 2, 3, 4, 6, 1, 2, 3, 1, 2, 3, 6, 1, 2, 3, 4, 1, 2, 3, 4, 5, 6, 2, 3, 5, 6, 1, 2, 3, 4, 1, 2, 3, 5, 1, 3, 1, 2, 3, 1, 2, 3, 5, 1, 2, 3, 4, 5, 1, 2, 3, 4, 5, 1, 2, 4, 5, 1, 2, 3, 4, 5, 2, 3, 4, 5, 2, 4, 1, 3, 4, 5, 1, 4, 1, 2, 3, 5, 1, 2, 3, 4, 3, 4, 2, 3, 4, 5, 1, 2, 4, 5, 2, 3, 3, 4, 5, 2, 4, 1, 2, 1, 3, 4, 6, 1, 2, 3, 4, 1, 2, 3, 4, 1, 2, 3, 4, 6, 1, 2, 3, 5, 1, 3, 1, 3, 4, 6, 1, 2, 3, 4, 5, 6, 2, 3, 4, 6, 1, 2, 3, 1, 2, 3, 4, 5, 6, 1, 2, 3, 4, 5, 6, 1, 2, 3, 4, 6, 1, 5, 1, 2, 5, 6, 2, 4, 2, 3, 4, 5, 6, 2, 3, 5, 1, 2, 3, 4, 5, 2, 3, 5, 2, 4, 1, 2, 3, 4, 2, 3, 4, 2, 3, 4, 1, 2, 3, 4, 5, 6, 1, 2, 3, 4, 5, 6, 2, 3, 4, 1, 2, 3, 5, 1, 2, 3, 4, 5, 6, 1, 2, 3, 4, 5, 6, 3, 4, 5, 4, 5, 1, 2, 3, 1, 2, 3, 4, 5, 1, 2, 3, 1, 3, 6, 1, 2, 3, 4, 5, 2, 3, 5, 1, 2, 3, 2, 3, 4, 1, 2, 3, 4, 1, 2, 3, 4, 6, 1, 2, 3, 4, 5, 6, 1, 2, 3, 5, 1, 2, 3, 4, 5, 1, 2, 3, 6, 1, 2, 1, 2, 5, 1, 2, 3, 4, 6, 2, 3, 4, 5, 6, 1, 2, 3, 5, 1, 2, 6, 1, 2, 3, 4, 1, 2, 3, 4, 1, 2, 3, 6, 1, 2, 1, 2, 3, 4, 6, 2, 4, 1, 2, 3, 1, 2, 2, 3, 4, 5, 1, 2, 4, 5, 6, 1, 2, 4, 5, 6, 1, 2, 4, 1, 2, 4, 6, 1, 2, 3, 1, 2, 3, 4, 1, 2, 5, 1, 2, 3, 4, 2, 3, 5, 1, 2, 3, 4, 5, 6, 3, 4, 1, 2, 3, 4, 5, 6, 1, 2, 4, 3, 4, 2, 4, 5, 6, 1, 2, 3, 4, 6, 1, 2, 3, 1, 2, 6, 1, 2, 3, 2, 3, 4, 6, 2, 3, 5, 1, 2, 3, 5, 2, 3, 4, 2, 3, 6, 1, 2, 3, 4, 2, 3, 1, 2, 3, 4, 5, 2, 3, 4, 2, 3, 4, 5, 6, 1, 2, 3, 5, 6, 2, 4, 1, 2, 3, 5, 1, 2, 3, 4, 6, 1, 2, 3, 4, 5, 1, 2, 3, 4, 5, 1, 2, 1, 2, 3, 5, 6, 2, 3, 4, 2, 3, 5, 2, 3, 2, 3, 4, 5, 1, 2, 3, 5, 2, 3, 5, 1, 2, 3, 1, 2, 3, 5, 2, 3, 4, 5, 1, 2, 3, 4, 5, 6, 2, 3, 4, 5, 1, 2, 3, 6, 1, 2, 3, 5, 1, 2, 3, 4, 5, 6, 2, 3, 6, 1, 2, 3, 4, 5, 1, 2, 3, 4, 5, 6, 1, 2, 1, 2, 1, 2, 3, 4, 1, 2, 3, 4, 5, 6, 1, 2, 5, 1, 2, 3, 1, 2, 1, 2, 3, 4, 5, 6, 2, 3, 5, 6, 2, 3, 4, 5, 6, 1, 2, 3, 5, 1, 2, 3, 4, 5, 2, 3, 4, 5, 6, 1, 2, 3, 4, 5, 2, 3, 4, 6], \"Freq\": [0.2724197804927826, 0.4358716607093811, 0.10896791517734528, 0.16345186531543732, 0.30320030450820923, 0.15160015225410461, 0.22740024328231812, 0.22740024328231812, 0.07580007612705231, 0.31408923864364624, 0.6612405180931091, 0.01653101295232773, 0.3268665671348572, 0.13074663281440735, 0.39223989844322205, 0.13074663281440735, 0.754432737827301, 0.16166415810585022, 0.08083207905292511, 0.4108969569206238, 0.3142153322696686, 0.11279524862766266, 0.12085205316543579, 0.03222721442580223, 0.008056803606450558, 0.4012300968170166, 0.5617220997810364, 0.6638759970664978, 0.1896788477897644, 0.0474197119474411, 0.0474197119474411, 0.06931411474943161, 0.41588467359542847, 0.12129969894886017, 0.034657057374715805, 0.34657055139541626, 0.017328528687357903, 0.16939623653888702, 0.2001955509185791, 0.09239794313907623, 0.5235883593559265, 0.27135786414146423, 0.31658416986465454, 0.18090523779392242, 0.09045261889696121, 0.09045261889696121, 0.15373413264751434, 0.19216766953468323, 0.23060119152069092, 0.269034743309021, 0.15373413264751434, 0.05635731667280197, 0.9017170667648315, 0.17077356576919556, 0.6830942630767822, 0.03415471315383911, 0.06830942630767822, 0.1360507756471634, 0.6802538633346558, 0.0680253878235817, 0.1360507756471634, 0.8755236268043518, 0.08472809195518494, 0.028242697939276695, 0.934577465057373, 0.03014766052365303, 0.2433261126279831, 0.7299783229827881, 0.8091474175453186, 0.06224210932850838, 0.12448421865701675, 0.5992816090583801, 0.21676142513751984, 0.1785094141960144, 0.46788713335990906, 0.4094012379646301, 0.11697178333997726, 0.16173285245895386, 0.7547533512115479, 0.05391095206141472, 0.9911928772926331, 0.7892533540725708, 0.15785068273544312, 0.20448434352874756, 0.04868674650788307, 0.4187060296535492, 0.29212048649787903, 0.019474700093269348, 0.325762003660202, 0.651524007320404, 0.013928857631981373, 0.34822145104408264, 0.598940908908844, 0.027857715263962746, 0.006964428815990686, 0.01126854494214058, 0.03380563482642174, 0.9352892637252808, 0.01126854494214058, 0.12062504142522812, 0.6634377241134644, 0.18093755841255188, 0.05479438975453377, 0.5296791195869446, 0.20091275870800018, 0.03652959316968918, 0.1643831729888916, 0.13817808032035828, 0.41453421115875244, 0.37998971343040466, 0.03454452008008957, 0.19321750104427338, 0.4416399896144867, 0.24842248857021332, 0.04140374809503555, 0.04140374809503555, 0.02760249935090542, 0.29238998889923096, 0.4824434816837311, 0.09502674639225006, 0.043858498334884644, 0.06578774750232697, 0.029238998889923096, 0.3239613175392151, 0.45354583859443665, 0.19437678158283234, 0.7572801113128662, 0.10326546430587769, 0.06884364783763885, 0.03442182391881943, 0.704303503036499, 0.2347678393125534, 0.04695356637239456, 0.04411160200834274, 0.26466959714889526, 0.6175624132156372, 0.2332025170326233, 0.19988787174224854, 0.49971967935562134, 0.06662929058074951, 0.033314645290374756, 0.44901931285858154, 0.2993462085723877, 0.22450965642929077, 0.07483655214309692, 0.12444226443767548, 0.3111056685447693, 0.3484383523464203, 0.024888452142477036, 0.11199803650379181, 0.0746653601527214, 0.107750803232193, 0.215501606464386, 0.646504819393158, 0.3910396695137024, 0.6256634593009949, 0.4228953719139099, 0.28193023800849915, 0.10572384297847748, 0.07048255950212479, 0.10572384297847748, 0.280357301235199, 0.18087568879127502, 0.13565675914287567, 0.3707951605319977, 0.018087567761540413, 0.39728879928588867, 0.19864439964294434, 0.10835148394107819, 0.07223432511091232, 0.21670296788215637, 0.2452262043952942, 0.4087103307247162, 0.2179788500070572, 0.1089894250035286, 0.262752890586853, 0.262752890586853, 0.02765819989144802, 0.2904110848903656, 0.16594919562339783, 0.8116311430931091, 0.20290778577327728, 0.19672764837741852, 0.5901829600334167, 0.13115176558494568, 0.06557588279247284, 0.03662986680865288, 0.07325973361730576, 0.293038934469223, 0.622707724571228, 0.9483392834663391, 0.01663753017783165, 0.01663753017783165, 0.01663753017783165, 0.11349645256996155, 0.17024467885494232, 0.6809787154197693, 0.08082715421915054, 0.1616543084383011, 0.1616543084383011, 0.48496291041374207, 0.1616543084383011, 0.1615336835384369, 0.3230673670768738, 0.40383419394493103, 0.08076684176921844, 0.21154643595218658, 0.21154643595218658, 0.42309287190437317, 0.141030952334404, 0.28438329696655273, 0.4608970880508423, 0.19612641632556915, 0.029418962076306343, 0.019612642005085945, 0.06886392831802368, 0.6886392831802368, 0.13772785663604736, 0.06886392831802368, 0.7981999516487122, 0.17104284465312958, 0.6573507785797119, 0.14939790964126587, 0.14939790964126587, 0.014939790591597557, 0.014939790591597557, 0.5190372467041016, 0.4541575610637665, 0.8630661368370056, 0.10912330448627472, 0.019840601831674576, 0.12075559049844742, 0.18113338947296143, 0.06037779524922371, 0.6037779450416565, 0.12075559049844742, 0.10236125439405441, 0.19192735850811005, 0.17913219332695007, 0.5118062496185303, 0.012795156799256802, 0.012795156799256802, 0.6792658567428589, 0.2515799403190613, 0.025157993659377098, 0.025157993659377098, 0.016771996393799782, 0.10754614323377609, 0.6990499496459961, 0.10754614323377609, 0.10754614323377609, 0.6250408887863159, 0.09511491656303406, 0.14946630597114563, 0.10870276391506195, 0.013587845489382744, 0.03945300355553627, 0.03945300355553627, 0.31562402844429016, 0.6312480568885803, 0.4037601351737976, 0.4987625181674957, 0.07125178724527359, 0.011875297874212265, 0.011875297874212265, 0.4880998134613037, 0.4555598497390747, 0.03253998979926109, 0.5839964747428894, 0.19466549158096313, 0.1557323932647705, 0.03893309831619263, 0.019466549158096313, 0.15655517578125, 0.78277587890625, 0.0391387939453125, 0.48254984617233276, 0.10723330080509186, 0.2814874053001404, 0.13404162228107452, 0.09111879765987396, 0.4881364405155182, 0.2408139705657959, 0.10413577407598495, 0.058576371520757675, 0.01952545717358589, 0.6981923580169678, 0.2702680230140686, 0.02252233400940895, 0.5689307451248169, 0.314409077167511, 0.05988744646310806, 0.0449155829846859, 0.014971861615777016, 0.09274670481681824, 0.8810937404632568, 0.04637335240840912, 0.4521443843841553, 0.053193457424640656, 0.4521443843841553, 0.026596728712320328, 0.6054330468177795, 0.2071218341588974, 0.15932448208332062, 0.015932448208332062, 0.1480141580104828, 0.12334512919187546, 0.5180495381355286, 0.04933805391192436, 0.09867610782384872, 0.0740070790052414, 0.5291634798049927, 0.13229086995124817, 0.26458173990249634, 0.06614543497562408, 0.20856770873069763, 0.1877109408378601, 0.2189960926771164, 0.3858502507209778, 0.8446245193481445, 0.10930434614419937, 0.019873518496751785, 0.019873518496751785, 0.8472839593887329, 0.12104056775569916, 0.7987726330757141, 0.15361012518405914, 0.03072202391922474, 0.7432233691215515, 0.16516074538230896, 0.05505358427762985, 0.027526792138814926, 0.432299941778183, 0.04673513025045395, 0.32714590430259705, 0.17525672912597656, 0.023367565125226974, 0.7737377285957336, 0.026680611073970795, 0.06670153141021729, 0.12673290073871613, 0.006670152768492699, 0.8602580428123474, 0.03487532585859299, 0.0930008739233017, 0.011625109240412712, 0.1640777289867401, 0.5332526564598083, 0.08203886449337006, 0.1435680240392685, 0.08203886449337006, 0.09959635138511658, 0.5975781083106995, 0.24899087846279144, 0.04979817569255829, 0.1960843950510025, 0.78433758020401, 0.19833680987358093, 0.5454262495040894, 0.19833680987358093, 0.04958420246839523, 0.7465003132820129, 0.21328578889369965, 0.1733960062265396, 0.6935840249061584, 0.10403760522603989, 0.03467920050024986, 0.06998743116855621, 0.03499371558427811, 0.06998743116855621, 0.804855465888977, 0.5719847083091736, 0.36399027705192566, 0.23242712020874023, 0.17432034015655518, 0.2905339002609253, 0.23242712020874023, 0.7799165844917297, 0.07799165695905685, 0.07799165695905685, 0.025997219607234, 0.11697046458721161, 0.8187932372093201, 0.05152585729956627, 0.8656343817710876, 0.08244136720895767, 0.07988107949495316, 0.9053188562393188, 0.8003127574920654, 0.16006255149841309, 0.2521481215953827, 0.4412591755390167, 0.2521481215953827, 0.031518515199422836, 0.5991212725639343, 0.12289667129516602, 0.06144833564758301, 0.21506917476654053, 0.15580737590789795, 0.20774318277835846, 0.5193579196929932, 0.10387159138917923, 0.48114076256752014, 0.24057038128376007, 0.09252706915140152, 0.18505413830280304, 0.009252707473933697, 0.06935719400644302, 0.5548575520515442, 0.13871438801288605, 0.20807158946990967, 0.9069868326187134, 0.05335216596722603, 0.8519678115844727, 0.02184532769024372, 0.04369065538048744, 0.06553598493337631, 0.40999215841293335, 0.34787213802337646, 0.12424005568027496, 0.03727201744914055, 0.024848010390996933, 0.049696020781993866, 0.04519832134246826, 0.02259916067123413, 0.9039664268493652, 0.02259916067123413, 0.974820077419281, 0.00886200089007616, 0.013293000869452953, 0.055919766426086426, 0.2236790657043457, 0.2236790657043457, 0.11183953285217285, 0.27959883213043213, 0.055919766426086426, 0.6662352085113525, 0.042300645262002945, 0.010575161315500736, 0.2432287186384201, 0.021150322631001472, 0.010575161315500736, 0.43092694878578186, 0.24081212282180786, 0.16476619243621826, 0.13941754400730133, 0.0380229689180851, 0.9445193409919739, 0.03498219698667526, 0.0965147390961647, 0.7962465882301331, 0.024128684774041176, 0.07238605618476868, 0.46958714723587036, 0.46958714723587036, 0.20014886558055878, 0.2365395724773407, 0.2365395724773407, 0.291125625371933, 0.01819535158574581, 0.6801860928535461, 0.09069148451089859, 0.22672870755195618, 0.10350745171308517, 0.4657835066318512, 0.12938430905342102, 0.15526117384433746, 0.15526117384433746, 0.7636584639549255, 0.19921524822711945, 0.03320254385471344, 0.43113186955451965, 0.557935357093811, 0.5769429802894592, 0.11538859456777573, 0.2740479111671448, 0.02884714864194393, 0.06512629240751266, 0.5861366391181946, 0.32563143968582153, 0.023152630776166916, 0.6482736468315125, 0.3009842038154602, 0.4281151294708252, 0.3605180084705353, 0.09012950211763382, 0.06759712845087051, 0.03379856422543526, 0.022532375529408455, 0.031206894665956497, 0.2964654862880707, 0.3042672276496887, 0.27306032180786133, 0.0234051700681448, 0.07021551579236984, 0.08123593777418137, 0.379101037979126, 0.5415728688240051, 0.27620378136634827, 0.27620378136634827, 0.3970429301261902, 0.05178820714354515, 0.021151522174477577, 0.21151523292064667, 0.2326667457818985, 0.44418197870254517, 0.042303044348955154, 0.042303044348955154, 0.26214131712913513, 0.35182124376296997, 0.19315676391124725, 0.14486756920814514, 0.03449228033423424, 0.01379691157490015, 0.7012876272201538, 0.21038629114627838, 0.07012876123189926, 0.898930549621582, 0.05992870405316353, 0.18071742355823517, 0.6325110197067261, 0.18071742355823517, 0.06119237467646599, 0.07139110565185547, 0.3875517249107361, 0.46914154291152954, 0.010198729112744331, 0.2880544662475586, 0.2304435819387436, 0.4608871638774872, 0.6516467332839966, 0.2850954532623291, 0.06109188124537468, 0.19329562783241272, 0.6013641357421875, 0.021477291360497475, 0.12886375188827515, 0.04295458272099495, 0.4331677556037903, 0.30940553545951843, 0.2475244402885437, 0.2701300382614136, 0.3438018560409546, 0.39291641116142273, 0.17369987070560455, 0.6079495549201965, 0.17369987070560455, 0.43970590829849243, 0.0573529452085495, 0.038235295563936234, 0.458823561668396, 0.18344934284687042, 0.0655176192522049, 0.34069162607192993, 0.2620704770088196, 0.1572422981262207, 0.3121036887168884, 0.2581598162651062, 0.2966911494731903, 0.06935637444257736, 0.06550323963165283, 0.0038531317841261625, 0.3777907192707062, 0.04722383990883827, 0.4722383916378021, 0.04722383990883827, 0.7608799934387207, 0.13656820356845856, 0.01950974389910698, 0.05852923169732094, 0.01950974389910698, 0.20797936618328094, 0.5407463908195496, 0.16638348996639252, 0.08319174498319626, 0.878574788570404, 0.06758267432451248, 0.4028436541557312, 0.3452945649623871, 0.23019637167453766, 0.1734117567539215, 0.26011765003204346, 0.1734117567539215, 0.26011765003204346, 0.08670587837696075, 0.05702577903866768, 0.05702577903866768, 0.2851288914680481, 0.4847191274166107, 0.08553867042064667, 0.26086539030075073, 0.347820520401001, 0.13043269515037537, 0.26086539030075073, 0.7920491695404053, 0.060926858335733414, 0.12185371667146683, 0.15084044635295868, 0.4676053524017334, 0.2564287483692169, 0.12067235261201859, 0.11590327322483063, 0.11590327322483063, 0.6374680399894714, 0.17385491728782654, 0.19308072328567505, 0.45856669545173645, 0.2896210849285126, 0.04827018082141876, 0.2548806965351105, 0.6796818971633911, 0.5191481709480286, 0.2076592743396759, 0.10382963716983795, 0.10382963716983795, 0.10382963716983795, 0.7279703617095947, 0.21839110553264618, 0.7443620562553406, 0.1691731959581375, 0.06766927987337112, 0.8585545420646667, 0.1561008244752884, 0.4549349844455719, 0.06499071419239044, 0.19497212767601013, 0.19497212767601013, 0.06856988370418549, 0.06856988370418549, 0.6399855613708496, 0.06856988370418549, 0.13713976740837097, 0.4773949682712555, 0.19095799326896667, 0.09547899663448334, 0.09547899663448334, 0.09547899663448334, 0.1504947692155838, 0.24626417458057404, 0.5882977247238159, 0.7947510480880737, 0.12669944763183594, 0.06910878419876099, 0.011518131010234356, 0.2085438072681427, 0.13902920484542847, 0.6256314516067505, 0.12749868631362915, 0.7012428045272827, 0.06374934315681458, 0.06374934315681458, 0.18741106986999512, 0.44978654384613037, 0.37482213973999023, 0.5973080396652222, 0.2239905148744583, 0.0319986455142498, 0.13866080343723297, 0.4395870864391327, 0.17583483457565308, 0.2637522518634796, 0.041168130934238434, 0.2470087856054306, 0.2744542062282562, 0.30189961194992065, 0.09605897217988968, 0.041168130934238434, 0.382017582654953, 0.6024123430252075, 0.19957228004932404, 0.4989306926727295, 0.05987168475985527, 0.09978614002466202, 0.09978614002466202, 0.05987168475985527, 0.7521891593933105, 0.07781267166137695, 0.1556253433227539, 0.1070697233080864, 0.8565577864646912, 0.5230177044868469, 0.26150885224342346, 0.17433921992778778, 0.08716960996389389, 0.49681204557418823, 0.12420301139354706, 0.16560402512550354, 0.16560402512550354, 0.08280201256275177, 0.9286749958992004, 0.04221250116825104, 0.04221250116825104, 0.49833443760871887, 0.37375083565711975, 0.12458360940217972, 0.7795540690422058, 0.10168096423149109, 0.10168096423149109, 0.23256489634513855, 0.42636898159980774, 0.2713257074356079, 0.07752163708209991, 0.4036491811275482, 0.15136843919754028, 0.3531930148601532, 0.05418487638235092, 0.6773109436035156, 0.18964707851409912, 0.05418487638235092, 0.11501452326774597, 0.4600580930709839, 0.4025508165359497, 0.5665323734283447, 0.24279959499835968, 0.08093319833278656, 0.23440389335155487, 0.15626926720142365, 0.07813463360071182, 0.546942412853241, 0.1316455900669098, 0.8556963801383972, 0.33553189039230347, 0.04473758488893509, 0.36908507347106934, 0.23487232625484467, 0.011184396222233772, 0.06485427916049957, 0.5188342332839966, 0.38912564516067505, 0.2439671903848648, 0.40661197900772095, 0.16264478862285614, 0.08132239431142807, 0.08132239431142807, 0.026602711528539658, 0.4921501576900482, 0.23942440748214722, 0.19952033460140228, 0.026602711528539658, 0.4516933560371399, 0.5081550478935242, 0.1868683248758316, 0.11212099343538284, 0.6727259755134583, 0.03737366572022438, 0.7423164248466492, 0.033139124512672424, 0.03976694867014885, 0.17232345044612885, 0.013255650177598, 0.4876243472099304, 0.28521424531936646, 0.15640781819820404, 0.05520275607705116, 0.018400918692350388, 0.1654369980096817, 0.4963109791278839, 0.22058266401290894, 0.055145666003227234, 0.055145666003227234, 0.3394095003604889, 0.6788190007209778, 0.4914039373397827, 0.14040112495422363, 0.14040112495422363, 0.07020056247711182, 0.14040112495422363, 0.7084681987762451, 0.07871869206428528, 0.15743738412857056, 0.6298642158508301, 0.1889592558145523, 0.15746605396270752, 0.9087662696838379, 0.05679789185523987, 0.5195980668067932, 0.2078392207622528, 0.1039196103811264, 0.1558794230222702, 0.20830519497394562, 0.24996623396873474, 0.45827141404151917, 0.08332207798957825, 0.5788664817810059, 0.23154659569263458, 0.17365995049476624, 0.08924495428800583, 0.6693371534347534, 0.22311238944530487, 0.24377290904521942, 0.45707419514656067, 0.12188645452260971, 0.1523580700159073, 0.45472514629364014, 0.2728350758552551, 0.09094502776861191, 0.18189005553722382, 0.14172056317329407, 0.5024638175964355, 0.19325530529022217, 0.1030694991350174, 0.038651060312986374, 0.012883687391877174, 0.46502384543418884, 0.17438393831253052, 0.058127980679273605, 0.23251192271709442, 0.6606641411781311, 0.09112609177827835, 0.06834457069635391, 0.15947066247463226, 0.13260167837142944, 0.2652033567428589, 0.2652033567428589, 0.331504225730896, 0.02239041030406952, 0.5448333024978638, 0.20897716283798218, 0.10448858141899109, 0.1119520515203476, 0.014926940202713013, 0.39362800121307373, 0.5685737729072571, 0.04373644292354584, 0.7802690267562866, 0.13376040756702423, 0.04458680376410484, 0.02229340188205242, 0.01114670094102621, 0.7052118182182312, 0.03358151391148567, 0.06716302782297134, 0.06716302782297134, 0.03358151391148567, 0.10074454545974731, 0.27473628520965576, 0.714314341545105, 0.05242608115077019, 0.9436694979667664, 0.6529708504676819, 0.029020925983786583, 0.11608370393514633, 0.18863601982593536, 0.5047632455825806, 0.1005801260471344, 0.1676335483789444, 0.20488545298576355, 0.020488545298576355, 0.0018625949742272496, 0.9763075113296509, 0.011622708290815353, 0.011622708290815353, 0.19667838513851166, 0.6293708086013794, 0.11800702661275864, 0.9050355553627014, 0.07985607534646988, 0.10237597674131393, 0.460691899061203, 0.2303459495306015, 0.05118798837065697, 0.025593994185328484, 0.10237597674131393, 0.1657841056585312, 0.41446027159690857, 0.3315682113170624, 0.0828920528292656, 0.4283629059791565, 0.25701776146888733, 0.21894104778766632, 0.06663423031568527, 0.02855752781033516, 0.4024893343448639, 0.2414935976266861, 0.0804978683590889, 0.3219914734363556, 0.13406452536582947, 0.2904731333255768, 0.3351612985134125, 0.12289247661828995, 0.11172043532133102, 0.005942558404058218, 0.3327832520008087, 0.6417962908744812, 0.011885116808116436, 0.005942558404058218, 0.1551400125026703, 0.5218346118927002, 0.1551400125026703, 0.08462182432413101, 0.08462182432413101, 0.15466050803661346, 0.2319907695055008, 0.1159953847527504, 0.42531639337539673], \"Term\": [\"action\", \"action\", \"action\", \"action\", \"ago\", \"ago\", \"ago\", \"ago\", \"ago\", \"air\", \"air\", \"air\", \"along\", \"along\", \"along\", \"along\", \"already\", \"already\", \"already\", \"also\", \"also\", \"also\", \"also\", \"also\", \"also\", \"although\", \"although\", \"america\", \"america\", \"america\", \"america\", \"american\", \"american\", \"american\", \"american\", \"american\", \"american\", \"animal\", \"animal\", \"animal\", \"animal\", \"away\", \"away\", \"away\", \"away\", \"away\", \"back\", \"back\", \"back\", \"back\", \"back\", \"bat\", \"bat\", \"become\", \"become\", \"become\", \"become\", \"before\", \"before\", \"before\", \"before\", \"best\", \"best\", \"best\", \"bill\", \"bill\", \"bioweapon\", \"bioweapon\", \"blood\", \"blood\", \"blood\", \"body\", \"body\", \"body\", \"breathing\", \"breathing\", \"breathing\", \"business\", \"business\", \"business\", \"c\", \"carry\", \"carry\", \"case\", \"case\", \"case\", \"case\", \"case\", \"child\", \"child\", \"china\", \"china\", \"china\", \"china\", \"china\", \"chinese\", \"chinese\", \"chinese\", \"chinese\", \"citizen\", \"citizen\", \"citizen\", \"city\", \"city\", \"city\", \"city\", \"city\", \"confirmed\", \"confirmed\", \"confirmed\", \"confirmed\", \"could\", \"could\", \"could\", \"could\", \"could\", \"could\", \"covid\", \"covid\", \"covid\", \"covid\", \"covid\", \"covid\", \"created\", \"created\", \"created\", \"crisis\", \"crisis\", \"crisis\", \"crisis\", \"current\", \"current\", \"current\", \"dangerous\", \"dangerous\", \"dangerous\", \"deadly\", \"deadly\", \"deadly\", \"deadly\", \"deadly\", \"dealing\", \"dealing\", \"dealing\", \"dealing\", \"death\", \"death\", \"death\", \"death\", \"death\", \"death\", \"december\", \"december\", \"december\", \"development\", \"development\", \"died\", \"died\", \"died\", \"died\", \"died\", \"disease\", \"disease\", \"disease\", \"disease\", \"disease\", \"doctor\", \"doctor\", \"doctor\", \"doctor\", \"doctor\", \"dont\", \"dont\", \"dont\", \"dont\", \"dr\", \"dr\", \"dr\", \"dr\", \"dr\", \"drop\", \"drop\", \"easily\", \"easily\", \"easily\", \"easily\", \"ebola\", \"ebola\", \"ebola\", \"ebola\", \"effective\", \"effective\", \"effective\", \"effective\", \"effort\", \"effort\", \"effort\", \"emerged\", \"emerged\", \"emerged\", \"emerged\", \"emerged\", \"enough\", \"enough\", \"enough\", \"enough\", \"entire\", \"entire\", \"entire\", \"entire\", \"even\", \"even\", \"even\", \"even\", \"even\", \"ever\", \"ever\", \"ever\", \"ever\", \"everyone\", \"everyone\", \"evidence\", \"evidence\", \"evidence\", \"evidence\", \"evidence\", \"exposed\", \"exposed\", \"face\", \"face\", \"face\", \"facility\", \"facility\", \"facility\", \"facility\", \"facility\", \"first\", \"first\", \"first\", \"first\", \"first\", \"first\", \"flu\", \"flu\", \"flu\", \"flu\", \"flu\", \"force\", \"force\", \"force\", \"force\", \"found\", \"found\", \"found\", \"found\", \"found\", \"genetic\", \"genetic\", \"genetic\", \"genetic\", \"get\", \"get\", \"get\", \"get\", \"get\", \"getting\", \"getting\", \"getting\", \"global\", \"global\", \"global\", \"global\", \"global\", \"going\", \"going\", \"going\", \"government\", \"government\", \"government\", \"government\", \"health\", \"health\", \"health\", \"health\", \"health\", \"health\", \"healthy\", \"healthy\", \"healthy\", \"help\", \"help\", \"help\", \"help\", \"help\", \"here\", \"here\", \"here\", \"high\", \"high\", \"high\", \"high\", \"home\", \"home\", \"home\", \"home\", \"hospital\", \"hospital\", \"hospital\", \"hospital\", \"hospital\", \"hospital\", \"house\", \"house\", \"house\", \"house\", \"human\", \"human\", \"human\", \"human\", \"immune\", \"immune\", \"immune\", \"immune\", \"immunity\", \"immunity\", \"increased\", \"increased\", \"increased\", \"individual\", \"individual\", \"individual\", \"individual\", \"infected\", \"infected\", \"infected\", \"infected\", \"infected\", \"infection\", \"infection\", \"infection\", \"infection\", \"infection\", \"influenza\", \"influenza\", \"influenza\", \"influenza\", \"information\", \"information\", \"information\", \"information\", \"information\", \"inside\", \"inside\", \"inside\", \"inside\", \"institute\", \"institute\", \"international\", \"international\", \"international\", \"international\", \"is\", \"is\", \"it\", \"it\", \"it\", \"it\", \"january\", \"january\", \"january\", \"january\", \"japan\", \"japan\", \"john\", \"john\", \"john\", \"john\", \"keep\", \"keep\", \"keep\", \"keep\", \"korea\", \"korea\", \"lab\", \"lab\", \"lab\", \"laboratory\", \"laboratory\", \"lead\", \"lead\", \"least\", \"least\", \"least\", \"least\", \"level\", \"level\", \"level\", \"level\", \"light\", \"light\", \"light\", \"light\", \"like\", \"like\", \"like\", \"like\", \"like\", \"local\", \"local\", \"local\", \"local\", \"low\", \"low\", \"lung\", \"lung\", \"lung\", \"lung\", \"many\", \"many\", \"many\", \"many\", \"many\", \"many\", \"market\", \"market\", \"market\", \"market\", \"mask\", \"mask\", \"mask\", \"matter\", \"matter\", \"matter\", \"matter\", \"matter\", \"matter\", \"may\", \"may\", \"may\", \"may\", \"may\", \"may\", \"medical\", \"medical\", \"medical\", \"medical\", \"medical\", \"medicine\", \"medicine\", \"medium\", \"medium\", \"medium\", \"medium\", \"middle\", \"middle\", \"million\", \"million\", \"million\", \"million\", \"million\", \"month\", \"month\", \"month\", \"must\", \"must\", \"must\", \"must\", \"must\", \"nation\", \"nation\", \"nation\", \"national\", \"national\", \"natural\", \"natural\", \"natural\", \"natural\", \"nature\", \"nature\", \"nature\", \"ncov\", \"ncov\", \"ncov\", \"need\", \"need\", \"need\", \"need\", \"need\", \"need\", \"new\", \"new\", \"new\", \"new\", \"new\", \"new\", \"novel\", \"novel\", \"novel\", \"number\", \"number\", \"number\", \"number\", \"official\", \"official\", \"official\", \"official\", \"official\", \"official\", \"one\", \"one\", \"one\", \"one\", \"one\", \"one\", \"organization\", \"organization\", \"organization\", \"originated\", \"originated\", \"others\", \"others\", \"others\", \"outbreak\", \"outbreak\", \"outbreak\", \"outbreak\", \"outbreak\", \"outside\", \"outside\", \"outside\", \"oxygen\", \"oxygen\", \"oxygen\", \"pandemic\", \"pandemic\", \"pandemic\", \"pandemic\", \"pandemic\", \"panic\", \"panic\", \"panic\", \"paper\", \"paper\", \"paper\", \"past\", \"past\", \"past\", \"pathogen\", \"pathogen\", \"pathogen\", \"pathogen\", \"patient\", \"patient\", \"patient\", \"patient\", \"patient\", \"people\", \"people\", \"people\", \"people\", \"people\", \"people\", \"per\", \"per\", \"per\", \"per\", \"person\", \"person\", \"person\", \"person\", \"person\", \"positive\", \"positive\", \"positive\", \"positive\", \"powerful\", \"powerful\", \"practice\", \"practice\", \"practice\", \"present\", \"present\", \"present\", \"present\", \"present\", \"president\", \"president\", \"president\", \"president\", \"president\", \"problem\", \"problem\", \"problem\", \"problem\", \"protocol\", \"protocol\", \"protocol\", \"public\", \"public\", \"public\", \"public\", \"quarantine\", \"quarantine\", \"quarantine\", \"quarantine\", \"rate\", \"rate\", \"rate\", \"rate\", \"rather\", \"rather\", \"reason\", \"reason\", \"reason\", \"reason\", \"reason\", \"received\", \"received\", \"recent\", \"recent\", \"recent\", \"recommended\", \"recommended\", \"related\", \"related\", \"related\", \"related\", \"report\", \"report\", \"report\", \"report\", \"report\", \"required\", \"required\", \"required\", \"required\", \"required\", \"research\", \"research\", \"research\", \"respiratory\", \"respiratory\", \"respiratory\", \"respiratory\", \"rest\", \"rest\", \"rest\", \"result\", \"result\", \"result\", \"result\", \"right\", \"right\", \"right\", \"risk\", \"risk\", \"risk\", \"risk\", \"run\", \"run\", \"run\", \"said\", \"said\", \"said\", \"said\", \"said\", \"said\", \"sars\", \"sars\", \"say\", \"say\", \"say\", \"say\", \"say\", \"say\", \"scientific\", \"scientific\", \"scientific\", \"seafood\", \"seafood\", \"seeing\", \"seeing\", \"seeing\", \"seeing\", \"severe\", \"severe\", \"severe\", \"severe\", \"severe\", \"shown\", \"shown\", \"shown\", \"sick\", \"sick\", \"sick\", \"significant\", \"significant\", \"significant\", \"similar\", \"similar\", \"similar\", \"similar\", \"situation\", \"situation\", \"situation\", \"social\", \"social\", \"social\", \"social\", \"someone\", \"someone\", \"someone\", \"soon\", \"soon\", \"soon\", \"source\", \"source\", \"source\", \"source\", \"south\", \"south\", \"spread\", \"spread\", \"spread\", \"spread\", \"spread\", \"spreading\", \"spreading\", \"spreading\", \"started\", \"started\", \"started\", \"started\", \"started\", \"state\", \"state\", \"state\", \"state\", \"state\", \"story\", \"story\", \"strain\", \"strain\", \"strain\", \"strain\", \"study\", \"study\", \"study\", \"study\", \"study\", \"system\", \"system\", \"system\", \"system\", \"system\", \"take\", \"take\", \"take\", \"take\", \"take\", \"taken\", \"taken\", \"taking\", \"taking\", \"taking\", \"taking\", \"taking\", \"tell\", \"tell\", \"tell\", \"test\", \"test\", \"test\", \"tested\", \"tested\", \"testing\", \"testing\", \"testing\", \"testing\", \"thats\", \"thats\", \"thats\", \"thats\", \"then\", \"then\", \"then\", \"there\", \"there\", \"there\", \"thing\", \"thing\", \"thing\", \"thing\", \"three\", \"three\", \"three\", \"three\", \"time\", \"time\", \"time\", \"time\", \"time\", \"time\", \"today\", \"today\", \"today\", \"today\", \"treatment\", \"treatment\", \"treatment\", \"treatment\", \"true\", \"true\", \"true\", \"true\", \"u\", \"u\", \"u\", \"u\", \"u\", \"u\", \"united\", \"united\", \"united\", \"use\", \"use\", \"use\", \"use\", \"use\", \"using\", \"using\", \"using\", \"using\", \"using\", \"using\", \"vaccination\", \"vaccination\", \"vaccine\", \"vaccine\", \"viral\", \"viral\", \"viral\", \"viral\", \"virus\", \"virus\", \"virus\", \"virus\", \"virus\", \"virus\", \"vitamin\", \"vitamin\", \"vitamin\", \"want\", \"want\", \"want\", \"wear\", \"wear\", \"week\", \"week\", \"week\", \"week\", \"week\", \"week\", \"white\", \"white\", \"white\", \"white\", \"world\", \"world\", \"world\", \"world\", \"world\", \"worst\", \"worst\", \"worst\", \"worst\", \"would\", \"would\", \"would\", \"would\", \"would\", \"wuhan\", \"wuhan\", \"wuhan\", \"wuhan\", \"wuhan\", \"year\", \"year\", \"year\", \"year\", \"year\", \"york\", \"york\", \"york\", \"york\"]}, \"R\": 30, \"lambda.step\": 0.01, \"plot.opts\": {\"xlab\": \"PC1\", \"ylab\": \"PC2\"}, \"topic.order\": [5, 6, 2, 1, 4, 3]};\n",
       "\n",
       "function LDAvis_load_lib(url, callback){\n",
       "  var s = document.createElement('script');\n",
       "  s.src = url;\n",
       "  s.async = true;\n",
       "  s.onreadystatechange = s.onload = callback;\n",
       "  s.onerror = function(){console.warn(\"failed to load library \" + url);};\n",
       "  document.getElementsByTagName(\"head\")[0].appendChild(s);\n",
       "}\n",
       "\n",
       "if(typeof(LDAvis) !== \"undefined\"){\n",
       "   // already loaded: just create the visualization\n",
       "   !function(LDAvis){\n",
       "       new LDAvis(\"#\" + \"ldavis_el504181403544802215441703312828\", ldavis_el504181403544802215441703312828_data);\n",
       "   }(LDAvis);\n",
       "}else if(typeof define === \"function\" && define.amd){\n",
       "   // require.js is available: use it to load d3/LDAvis\n",
       "   require.config({paths: {d3: \"https://cdnjs.cloudflare.com/ajax/libs/d3/3.5.5/d3.min\"}});\n",
       "   require([\"d3\"], function(d3){\n",
       "      window.d3 = d3;\n",
       "      LDAvis_load_lib(\"https://cdn.rawgit.com/bmabey/pyLDAvis/files/ldavis.v1.0.0.js\", function(){\n",
       "        new LDAvis(\"#\" + \"ldavis_el504181403544802215441703312828\", ldavis_el504181403544802215441703312828_data);\n",
       "      });\n",
       "    });\n",
       "}else{\n",
       "    // require.js not available: dynamically load d3 & LDAvis\n",
       "    LDAvis_load_lib(\"https://cdnjs.cloudflare.com/ajax/libs/d3/3.5.5/d3.min.js\", function(){\n",
       "         LDAvis_load_lib(\"https://cdn.rawgit.com/bmabey/pyLDAvis/files/ldavis.v1.0.0.js\", function(){\n",
       "                 new LDAvis(\"#\" + \"ldavis_el504181403544802215441703312828\", ldavis_el504181403544802215441703312828_data);\n",
       "            })\n",
       "         });\n",
       "}\n",
       "</script>"
      ],
      "text/plain": [
       "PreparedData(topic_coordinates=              x         y  topics  cluster       Freq\n",
       "topic                                                \n",
       "4     -0.173217 -0.098421       1        1  33.524158\n",
       "5     -0.044180  0.045386       2        1  28.078344\n",
       "1      0.035463 -0.025166       3        1  16.703062\n",
       "0      0.146180 -0.130470       4        1  16.346743\n",
       "3      0.040761  0.130364       5        1   3.627262\n",
       "2     -0.005007  0.078307       6        1   1.720435, topic_info=        Term        Freq       Total Category  logprob  loglift\n",
       "370     mask  225.000000  225.000000  Default  30.0000  30.0000\n",
       "43   vaccine  190.000000  190.000000  Default  29.0000  29.0000\n",
       "114      new  128.000000  128.000000  Default  28.0000  28.0000\n",
       "188       dr   72.000000   72.000000  Default  27.0000  27.0000\n",
       "118  patient   76.000000   76.000000  Default  26.0000  26.0000\n",
       "..       ...         ...         ...      ...      ...      ...\n",
       "126     rate    2.014677   41.433449   Topic6  -5.0220   1.0390\n",
       "225     need    2.130530   88.761169   Topic6  -4.9661   0.3330\n",
       "66     could    2.063468   72.457207   Topic6  -4.9981   0.5040\n",
       "304    state    2.032731   75.180305   Topic6  -5.0131   0.4521\n",
       "187  disease    2.069431  110.573181   Topic6  -4.9952   0.0842\n",
       "\n",
       "[336 rows x 6 columns], token_table=      Topic      Freq    Term\n",
       "term                         \n",
       "281       1  0.272420  action\n",
       "281       2  0.435872  action\n",
       "281       3  0.108968  action\n",
       "281       5  0.163452  action\n",
       "316       1  0.303200     ago\n",
       "...     ...       ...     ...\n",
       "159       5  0.084622    year\n",
       "267       2  0.154661    york\n",
       "267       3  0.231991    york\n",
       "267       4  0.115995    york\n",
       "267       6  0.425316    york\n",
       "\n",
       "[895 rows x 3 columns], R=30, lambda_step=0.01, plot_opts={'xlab': 'PC1', 'ylab': 'PC2'}, topic_order=[5, 6, 2, 1, 4, 3])"
      ]
     },
     "execution_count": 17,
     "metadata": {},
     "output_type": "execute_result"
    }
   ],
   "source": [
    "pyLDAvis.enable_notebook()\n",
    "vis = pyLDAvis.gensim.prepare(lda_model, corpora, dictionary)\n",
    "vis"
   ]
  },
  {
   "cell_type": "code",
   "execution_count": 68,
   "metadata": {},
   "outputs": [],
   "source": [
    "#Importing Fake News Dataset in Order to Test via the Trained LDA Model "
   ]
  },
  {
   "cell_type": "code",
   "execution_count": 69,
   "metadata": {},
   "outputs": [],
   "source": [
    "dfFake = pd.read_csv('/Users/batman/Desktop/fake_news.csv')"
   ]
  },
  {
   "cell_type": "code",
   "execution_count": 70,
   "metadata": {},
   "outputs": [],
   "source": [
    "dfFake2=dfFake.head(72)"
   ]
  },
  {
   "cell_type": "code",
   "execution_count": 71,
   "metadata": {},
   "outputs": [],
   "source": [
    "dfFake3 = pd.DataFrame(dfFake2, columns=['id','text'])"
   ]
  },
  {
   "cell_type": "code",
   "execution_count": 72,
   "metadata": {},
   "outputs": [],
   "source": [
    "#Filling NaNs Column with Dummy Data \n",
    "dfFake4 =dfFake3.fillna(\"Hello\")"
   ]
  },
  {
   "cell_type": "code",
   "execution_count": 73,
   "metadata": {},
   "outputs": [
    {
     "data": {
      "text/html": [
       "<div>\n",
       "<style scoped>\n",
       "    .dataframe tbody tr th:only-of-type {\n",
       "        vertical-align: middle;\n",
       "    }\n",
       "\n",
       "    .dataframe tbody tr th {\n",
       "        vertical-align: top;\n",
       "    }\n",
       "\n",
       "    .dataframe thead th {\n",
       "        text-align: right;\n",
       "    }\n",
       "</style>\n",
       "<table border=\"1\" class=\"dataframe\">\n",
       "  <thead>\n",
       "    <tr style=\"text-align: right;\">\n",
       "      <th></th>\n",
       "      <th>id</th>\n",
       "      <th>text</th>\n",
       "    </tr>\n",
       "  </thead>\n",
       "  <tbody>\n",
       "    <tr>\n",
       "      <th>0</th>\n",
       "      <td>Hello</td>\n",
       "      <td>In this report we take an inside look at Event...</td>\n",
       "    </tr>\n",
       "    <tr>\n",
       "      <th>1</th>\n",
       "      <td>Hello</td>\n",
       "      <td>News and articles about CORONAVIRUS are everyw...</td>\n",
       "    </tr>\n",
       "    <tr>\n",
       "      <th>2</th>\n",
       "      <td>Hello</td>\n",
       "      <td>First of all, Wuhan is a place and not a race,...</td>\n",
       "    </tr>\n",
       "  </tbody>\n",
       "</table>\n",
       "</div>"
      ],
      "text/plain": [
       "      id                                               text\n",
       "0  Hello  In this report we take an inside look at Event...\n",
       "1  Hello  News and articles about CORONAVIRUS are everyw...\n",
       "2  Hello  First of all, Wuhan is a place and not a race,..."
      ]
     },
     "execution_count": 73,
     "metadata": {},
     "output_type": "execute_result"
    }
   ],
   "source": [
    "dfFake4.head(3)"
   ]
  },
  {
   "cell_type": "code",
   "execution_count": 74,
   "metadata": {},
   "outputs": [],
   "source": [
    "from gensim.models import ldamodel\n",
    "from gensim.corpora.dictionary import Dictionary\n",
    "import pyLDAvis.gensim\n",
    "import os\n",
    "\n",
    "text = dfFake4[['text']].applymap(text_cleanup)['text']\n",
    "dictionary2 = Dictionary(text)\n",
    "dictionary2.filter_extremes(no_below=10, no_above=0.8)\n",
    "corpora2 = [dictionary.doc2bow(doc) for doc in text]"
   ]
  },
  {
   "cell_type": "code",
   "execution_count": 75,
   "metadata": {},
   "outputs": [],
   "source": [
    "#Analyzing Fake News Dataset to Topics Identified via LDA Model (Trained on Webhose Dataset) "
   ]
  },
  {
   "cell_type": "code",
   "execution_count": 78,
   "metadata": {},
   "outputs": [
    {
     "name": "stdout",
     "output_type": "stream",
     "text": [
      "[(0, 0.2528181), (1, 0.5286063), (2, 0.016974408), (3, 0.08342626), (5, 0.11688795)]\n",
      "[(0, 0.20512003), (1, 0.72005534), (2, 0.05937423), (3, 0.014680187)]\n",
      "[(0, 0.15523767), (1, 0.7525919), (2, 0.04392438), (4, 0.013870515), (5, 0.03412483)]\n",
      "[(0, 0.3399424), (1, 0.3525031), (2, 0.29703745)]\n",
      "[(0, 0.13714291), (1, 0.54696655), (2, 0.23838954), (4, 0.031402), (5, 0.045596965)]\n",
      "[(0, 0.07140684), (1, 0.6786094), (2, 0.2326331)]\n",
      "[(0, 0.23453662), (1, 0.32431683), (2, 0.37435904), (4, 0.013665704), (5, 0.05019265)]\n",
      "[(0, 0.29805142), (1, 0.39490536), (2, 0.19060513), (3, 0.113052584)]\n",
      "[(0, 0.17360628), (1, 0.7109657), (2, 0.044766694), (5, 0.06421615)]\n",
      "[(0, 0.22808452), (1, 0.44206408), (2, 0.30012167), (5, 0.029175486)]\n",
      "[(1, 0.601943), (2, 0.387504)]\n",
      "[(0, 0.14736468), (1, 0.45202425), (2, 0.26393944), (3, 0.12119851), (5, 0.014504907)]\n",
      "[(0, 0.45613), (1, 0.2740025), (2, 0.23858577), (4, 0.014761297), (5, 0.016220627)]\n",
      "[(0, 0.22946326), (1, 0.7252406), (2, 0.04333412)]\n",
      "[(0, 0.28609493), (1, 0.6838848), (5, 0.020267095)]\n",
      "[(0, 0.33764774), (1, 0.4238707), (2, 0.19960712), (3, 0.013281402), (4, 0.018518373)]\n",
      "[(0, 0.16562101), (1, 0.7946276), (3, 0.012533531), (5, 0.02463687)]\n",
      "[(0, 0.31043363), (1, 0.09242437), (2, 0.3809776), (3, 0.14033277), (5, 0.074893005)]\n",
      "[(0, 0.40223342), (1, 0.5222981), (2, 0.07410163)]\n",
      "[(0, 0.36074248), (1, 0.49257988), (2, 0.14589559)]\n",
      "[(0, 0.14534001), (1, 0.2143343), (2, 0.62356514), (3, 0.01403438)]\n",
      "[(0, 0.27086607), (1, 0.66668355), (4, 0.05444778)]\n",
      "[(0, 0.14725648), (1, 0.8405957), (4, 0.010442893)]\n",
      "[(0, 0.15430047), (1, 0.4229164), (2, 0.3864432), (5, 0.026674287)]\n",
      "[(0, 0.3318113), (1, 0.4553572), (2, 0.055420782), (3, 0.019065134), (4, 0.021405628), (5, 0.11693995)]\n",
      "[(0, 0.15955815), (1, 0.7592383), (5, 0.07898166)]\n",
      "[(0, 0.16131577), (1, 0.69358695), (2, 0.064945504), (3, 0.011461386), (4, 0.012810963), (5, 0.05587944)]\n",
      "[(0, 0.31656283), (1, 0.4440708), (2, 0.04756583), (4, 0.036118686), (5, 0.1555097)]\n",
      "[(0, 0.42742923), (1, 0.4414344), (2, 0.09912492), (4, 0.029536791)]\n",
      "[(0, 0.5166514), (1, 0.18247627), (2, 0.2852981), (4, 0.0150750065)]\n",
      "[(0, 0.27309614), (1, 0.5803291), (3, 0.022866324), (5, 0.11831463)]\n",
      "[(0, 0.16485119), (1, 0.5939536), (2, 0.19293757), (3, 0.015518894), (4, 0.03209166)]\n",
      "[(0, 0.5824035), (1, 0.08349812), (2, 0.08349811), (3, 0.083603986), (4, 0.083498135), (5, 0.08349812)]\n",
      "[(0, 0.58240247), (1, 0.08349817), (2, 0.083498165), (3, 0.08360484), (4, 0.08349819), (5, 0.08349817)]\n",
      "[(0, 0.08975933), (1, 0.6751821), (2, 0.19937555), (5, 0.027803991)]\n",
      "[(0, 0.019254122), (1, 0.8238204), (2, 0.13144323), (4, 0.021812899)]\n",
      "[(1, 0.975245)]\n",
      "[(0, 0.3583711), (1, 0.6337837)]\n",
      "[(0, 0.33260456), (1, 0.49609587), (2, 0.0866252), (4, 0.05186015), (5, 0.032468047)]\n",
      "[(0, 0.582396), (1, 0.08349846), (2, 0.083498456), (3, 0.083610125), (4, 0.08349848), (5, 0.08349846)]\n",
      "[(0, 0.5824021), (1, 0.083498195), (2, 0.08349819), (3, 0.083605126), (4, 0.08349821), (5, 0.083498195)]\n",
      "[(0, 0.04434077), (1, 0.9494584)]\n",
      "[(0, 0.11315086), (1, 0.64870423), (2, 0.054497708), (3, 0.06779735), (5, 0.10660366)]\n",
      "[(0, 0.35194185), (1, 0.43483043), (2, 0.044012878), (5, 0.15631054)]\n",
      "[(0, 0.06281317), (1, 0.68704456), (3, 0.23916322)]\n",
      "[(0, 0.36924782), (1, 0.52413195), (2, 0.07764121), (3, 0.011205101), (5, 0.012603205)]\n",
      "[(0, 0.25343955), (1, 0.65158045), (3, 0.039974567), (4, 0.052052222)]\n",
      "[(1, 0.89316887), (4, 0.074854225)]\n",
      "[(0, 0.19615127), (1, 0.6905549), (2, 0.024834814), (3, 0.07167626), (5, 0.016453205)]\n",
      "[(1, 0.8545171), (3, 0.10829693), (4, 0.030586343)]\n",
      "[(0, 0.14960377), (1, 0.6848432), (2, 0.0118785845), (3, 0.012322112), (5, 0.14106683)]\n",
      "[(0, 0.16166167), (1, 0.7575663), (5, 0.07854024)]\n",
      "[(0, 0.15594666), (1, 0.43227178), (2, 0.37278232), (4, 0.010682177), (5, 0.028105402)]\n",
      "[(0, 0.076551296), (1, 0.85254467), (2, 0.057012774), (4, 0.012809341)]\n",
      "[(0, 0.540883), (1, 0.18403687), (2, 0.11801274), (4, 0.027645314), (5, 0.12915987)]\n",
      "[(0, 0.4628547), (1, 0.18015687), (2, 0.2980918), (3, 0.05552751)]\n",
      "[(0, 0.19581483), (1, 0.38950753), (2, 0.3857633), (3, 0.02787921)]\n",
      "[(1, 0.7645052), (2, 0.1437431), (4, 0.04420907), (5, 0.041807003)]\n",
      "[(0, 0.08181057), (1, 0.7893453), (4, 0.014291654), (5, 0.10519897)]\n",
      "[(0, 0.16540556), (1, 0.75231117), (5, 0.05825527)]\n",
      "[(0, 0.11202104), (1, 0.7122851), (2, 0.15900472), (4, 0.015395996)]\n",
      "[(0, 0.4593187), (1, 0.18035278), (2, 0.20815587), (3, 0.014276674), (5, 0.1377132)]\n",
      "[(0, 0.1506788), (1, 0.7684705), (2, 0.037272837), (4, 0.01245806), (5, 0.03100736)]\n",
      "[(0, 0.20316952), (1, 0.5654823), (4, 0.0781429), (5, 0.1478215)]\n",
      "[(0, 0.2944839), (1, 0.51185673), (2, 0.1525055), (4, 0.015182756), (5, 0.025816703)]\n",
      "[(0, 0.16483808), (1, 0.56244177), (2, 0.05535285), (3, 0.13333845), (4, 0.014171531), (5, 0.06985729)]\n",
      "[(0, 0.17047957), (1, 0.57499486), (2, 0.046555884), (3, 0.05509829), (4, 0.023282252), (5, 0.12958914)]\n",
      "[(0, 0.16214111), (1, 0.6565981), (2, 0.05048462), (3, 0.0121551035), (4, 0.043743227), (5, 0.074877895)]\n",
      "[(0, 0.40379542), (1, 0.3942611), (4, 0.06772242), (5, 0.13299146)]\n",
      "[(0, 0.17521183), (1, 0.58909684), (2, 0.215299), (4, 0.019614885)]\n",
      "[(0, 0.2824783), (1, 0.27769902), (2, 0.2224015), (4, 0.090478845), (5, 0.1266701)]\n",
      "[(0, 0.0546627), (1, 0.6679141), (2, 0.16003396), (3, 0.114793055)]\n"
     ]
    }
   ],
   "source": [
    "Test2=[]\n",
    "i= 0\n",
    "x= 0\n",
    "while x < 72:\n",
    "    web1 = corpora2[i]\n",
    "    vector = lda_model[web1]# Obtaining Topic Probability Distribution for each Document & Printing Below (topic#, probability#) \n",
    "    print(vector) \n",
    "    x= x+1\n",
    "    i= i +1\n",
    "    Test2.append(vector)"
   ]
  },
  {
   "cell_type": "markdown",
   "metadata": {},
   "source": [
    "#Using Gensim Sparse Vector + TF-IDF Model to Identify similarity between Webhose Dataset and Fake News Dataset \n",
    "\n",
    "Similarity defined by vectoral analysis of text:  if Webhose Article similarity score is >= .65 to Fake News text, then Webhose Article defined as fake news and saved as \"Webhose Fake\"\n",
    "\n",
    "Two datasets will be produced:  Webhose Real vs. Webhose Fake "
   ]
  },
  {
   "cell_type": "code",
   "execution_count": 21,
   "metadata": {},
   "outputs": [
    {
     "name": "stdout",
     "output_type": "stream",
     "text": [
      "Requirement already satisfied: iexfinance in /Users/batman/anaconda3/lib/python3.7/site-packages (0.4.3)\n",
      "Requirement already satisfied: requests in /Users/batman/anaconda3/lib/python3.7/site-packages (from iexfinance) (2.24.0)\n",
      "Requirement already satisfied: pandas in /Users/batman/anaconda3/lib/python3.7/site-packages (from iexfinance) (1.0.1)\n",
      "Requirement already satisfied: certifi>=2017.4.17 in /Users/batman/anaconda3/lib/python3.7/site-packages (from requests->iexfinance) (2020.6.20)\n",
      "Requirement already satisfied: urllib3!=1.25.0,!=1.25.1,<1.26,>=1.21.1 in /Users/batman/anaconda3/lib/python3.7/site-packages (from requests->iexfinance) (1.25.9)\n",
      "Requirement already satisfied: chardet<4,>=3.0.2 in /Users/batman/anaconda3/lib/python3.7/site-packages (from requests->iexfinance) (3.0.4)\n",
      "Requirement already satisfied: idna<3,>=2.5 in /Users/batman/anaconda3/lib/python3.7/site-packages (from requests->iexfinance) (2.10)\n",
      "Requirement already satisfied: python-dateutil>=2.6.1 in /Users/batman/anaconda3/lib/python3.7/site-packages (from pandas->iexfinance) (2.8.1)\n",
      "Requirement already satisfied: pytz>=2017.2 in /Users/batman/anaconda3/lib/python3.7/site-packages (from pandas->iexfinance) (2020.1)\n",
      "Requirement already satisfied: numpy>=1.13.3 in /Users/batman/anaconda3/lib/python3.7/site-packages (from pandas->iexfinance) (1.18.5)\n",
      "Requirement already satisfied: six>=1.5 in /Users/batman/anaconda3/lib/python3.7/site-packages (from python-dateutil>=2.6.1->pandas->iexfinance) (1.15.0)\n",
      "Requirement already satisfied: pandas in /Users/batman/anaconda3/lib/python3.7/site-packages (1.0.1)\n",
      "Requirement already satisfied: python-dateutil>=2.6.1 in /Users/batman/anaconda3/lib/python3.7/site-packages (from pandas) (2.8.1)\n",
      "Requirement already satisfied: numpy>=1.13.3 in /Users/batman/anaconda3/lib/python3.7/site-packages (from pandas) (1.18.5)\n",
      "Requirement already satisfied: pytz>=2017.2 in /Users/batman/anaconda3/lib/python3.7/site-packages (from pandas) (2020.1)\n",
      "Requirement already satisfied: six>=1.5 in /Users/batman/anaconda3/lib/python3.7/site-packages (from python-dateutil>=2.6.1->pandas) (1.15.0)\n",
      "Requirement already satisfied: matplotlib in /Users/batman/anaconda3/lib/python3.7/site-packages (3.1.3)\n",
      "Requirement already satisfied: python-dateutil>=2.1 in /Users/batman/anaconda3/lib/python3.7/site-packages (from matplotlib) (2.8.1)\n",
      "Requirement already satisfied: pyparsing!=2.0.4,!=2.1.2,!=2.1.6,>=2.0.1 in /Users/batman/anaconda3/lib/python3.7/site-packages (from matplotlib) (2.4.7)\n",
      "Requirement already satisfied: cycler>=0.10 in /Users/batman/anaconda3/lib/python3.7/site-packages (from matplotlib) (0.10.0)\n",
      "Requirement already satisfied: kiwisolver>=1.0.1 in /Users/batman/anaconda3/lib/python3.7/site-packages (from matplotlib) (1.2.0)\n",
      "Requirement already satisfied: numpy>=1.11 in /Users/batman/anaconda3/lib/python3.7/site-packages (from matplotlib) (1.18.5)\n",
      "Requirement already satisfied: six>=1.5 in /Users/batman/anaconda3/lib/python3.7/site-packages (from python-dateutil>=2.1->matplotlib) (1.15.0)\n",
      "Requirement already satisfied: gensim in /Users/batman/anaconda3/lib/python3.7/site-packages (3.8.3)\n",
      "Requirement already satisfied: six>=1.5.0 in /Users/batman/anaconda3/lib/python3.7/site-packages (from gensim) (1.15.0)\n",
      "Requirement already satisfied: smart-open>=1.8.1 in /Users/batman/anaconda3/lib/python3.7/site-packages (from gensim) (2.1.0)\n",
      "Requirement already satisfied: scipy>=0.18.1 in /Users/batman/anaconda3/lib/python3.7/site-packages (from gensim) (1.4.1)\n",
      "Requirement already satisfied: numpy>=1.11.3 in /Users/batman/anaconda3/lib/python3.7/site-packages (from gensim) (1.18.5)\n",
      "Requirement already satisfied: boto3 in /Users/batman/anaconda3/lib/python3.7/site-packages (from smart-open>=1.8.1->gensim) (1.14.20)\n",
      "Requirement already satisfied: boto in /Users/batman/anaconda3/lib/python3.7/site-packages (from smart-open>=1.8.1->gensim) (2.49.0)\n",
      "Requirement already satisfied: requests in /Users/batman/anaconda3/lib/python3.7/site-packages (from smart-open>=1.8.1->gensim) (2.24.0)\n",
      "Requirement already satisfied: jmespath<1.0.0,>=0.7.1 in /Users/batman/anaconda3/lib/python3.7/site-packages (from boto3->smart-open>=1.8.1->gensim) (0.10.0)\n",
      "Requirement already satisfied: botocore<1.18.0,>=1.17.20 in /Users/batman/anaconda3/lib/python3.7/site-packages (from boto3->smart-open>=1.8.1->gensim) (1.17.20)\n",
      "Requirement already satisfied: s3transfer<0.4.0,>=0.3.0 in /Users/batman/anaconda3/lib/python3.7/site-packages (from boto3->smart-open>=1.8.1->gensim) (0.3.3)\n",
      "Requirement already satisfied: urllib3!=1.25.0,!=1.25.1,<1.26,>=1.21.1 in /Users/batman/anaconda3/lib/python3.7/site-packages (from requests->smart-open>=1.8.1->gensim) (1.25.9)\n",
      "Requirement already satisfied: certifi>=2017.4.17 in /Users/batman/anaconda3/lib/python3.7/site-packages (from requests->smart-open>=1.8.1->gensim) (2020.6.20)\n",
      "Requirement already satisfied: chardet<4,>=3.0.2 in /Users/batman/anaconda3/lib/python3.7/site-packages (from requests->smart-open>=1.8.1->gensim) (3.0.4)\n",
      "Requirement already satisfied: idna<3,>=2.5 in /Users/batman/anaconda3/lib/python3.7/site-packages (from requests->smart-open>=1.8.1->gensim) (2.10)\n",
      "Requirement already satisfied: docutils<0.16,>=0.10 in /Users/batman/anaconda3/lib/python3.7/site-packages (from botocore<1.18.0,>=1.17.20->boto3->smart-open>=1.8.1->gensim) (0.15.2)\n",
      "Requirement already satisfied: python-dateutil<3.0.0,>=2.1 in /Users/batman/anaconda3/lib/python3.7/site-packages (from botocore<1.18.0,>=1.17.20->boto3->smart-open>=1.8.1->gensim) (2.8.1)\n",
      "Requirement already satisfied: pyLDAvis in /Users/batman/anaconda3/lib/python3.7/site-packages (2.1.2)\n",
      "Requirement already satisfied: wheel>=0.23.0 in /Users/batman/anaconda3/lib/python3.7/site-packages (from pyLDAvis) (0.34.2)\n",
      "Requirement already satisfied: jinja2>=2.7.2 in /Users/batman/anaconda3/lib/python3.7/site-packages (from pyLDAvis) (2.11.2)\n",
      "Requirement already satisfied: pandas>=0.17.0 in /Users/batman/anaconda3/lib/python3.7/site-packages (from pyLDAvis) (1.0.1)\n",
      "Requirement already satisfied: pytest in /Users/batman/anaconda3/lib/python3.7/site-packages (from pyLDAvis) (5.4.3)\n",
      "Requirement already satisfied: future in /Users/batman/anaconda3/lib/python3.7/site-packages (from pyLDAvis) (0.18.2)\n",
      "Requirement already satisfied: joblib>=0.8.4 in /Users/batman/anaconda3/lib/python3.7/site-packages (from pyLDAvis) (0.16.0)\n",
      "Requirement already satisfied: funcy in /Users/batman/anaconda3/lib/python3.7/site-packages (from pyLDAvis) (1.14)\n",
      "Requirement already satisfied: scipy>=0.18.0 in /Users/batman/anaconda3/lib/python3.7/site-packages (from pyLDAvis) (1.4.1)\n",
      "Requirement already satisfied: numexpr in /Users/batman/anaconda3/lib/python3.7/site-packages (from pyLDAvis) (2.7.1)\n",
      "Requirement already satisfied: numpy>=1.9.2 in /Users/batman/anaconda3/lib/python3.7/site-packages (from pyLDAvis) (1.18.5)\n",
      "Requirement already satisfied: MarkupSafe>=0.23 in /Users/batman/anaconda3/lib/python3.7/site-packages (from jinja2>=2.7.2->pyLDAvis) (1.1.1)\n",
      "Requirement already satisfied: python-dateutil>=2.6.1 in /Users/batman/anaconda3/lib/python3.7/site-packages (from pandas>=0.17.0->pyLDAvis) (2.8.1)\n",
      "Requirement already satisfied: pytz>=2017.2 in /Users/batman/anaconda3/lib/python3.7/site-packages (from pandas>=0.17.0->pyLDAvis) (2020.1)\n",
      "Requirement already satisfied: py>=1.5.0 in /Users/batman/anaconda3/lib/python3.7/site-packages (from pytest->pyLDAvis) (1.9.0)\n",
      "Requirement already satisfied: packaging in /Users/batman/anaconda3/lib/python3.7/site-packages (from pytest->pyLDAvis) (20.4)\n",
      "Requirement already satisfied: attrs>=17.4.0 in /Users/batman/anaconda3/lib/python3.7/site-packages (from pytest->pyLDAvis) (19.3.0)\n",
      "Requirement already satisfied: more-itertools>=4.0.0 in /Users/batman/anaconda3/lib/python3.7/site-packages (from pytest->pyLDAvis) (8.4.0)\n",
      "Requirement already satisfied: pluggy<1.0,>=0.12 in /Users/batman/anaconda3/lib/python3.7/site-packages (from pytest->pyLDAvis) (0.13.1)\n",
      "Requirement already satisfied: wcwidth in /Users/batman/anaconda3/lib/python3.7/site-packages (from pytest->pyLDAvis) (0.2.5)\n",
      "Requirement already satisfied: importlib-metadata>=0.12 in /Users/batman/anaconda3/lib/python3.7/site-packages (from pytest->pyLDAvis) (1.7.0)\n",
      "Requirement already satisfied: six>=1.5 in /Users/batman/anaconda3/lib/python3.7/site-packages (from python-dateutil>=2.6.1->pandas>=0.17.0->pyLDAvis) (1.15.0)\n"
     ]
    },
    {
     "name": "stdout",
     "output_type": "stream",
     "text": [
      "Requirement already satisfied: pyparsing>=2.0.2 in /Users/batman/anaconda3/lib/python3.7/site-packages (from packaging->pytest->pyLDAvis) (2.4.7)\n",
      "Requirement already satisfied: zipp>=0.5 in /Users/batman/anaconda3/lib/python3.7/site-packages (from importlib-metadata>=0.12->pytest->pyLDAvis) (3.1.0)\n",
      "showing info https://raw.githubusercontent.com/nltk/nltk_data/gh-pages/index.xml\n"
     ]
    },
    {
     "data": {
      "text/plain": [
       "True"
      ]
     },
     "execution_count": 21,
     "metadata": {},
     "output_type": "execute_result"
    }
   ],
   "source": [
    "!pip install iexfinance\n",
    "!pip install pandas\n",
    "!pip install matplotlib\n",
    "!pip install gensim\n",
    "!pip install pyLDAvis\n",
    "import nltk\n",
    "nltk.download()"
   ]
  },
  {
   "cell_type": "code",
   "execution_count": 22,
   "metadata": {},
   "outputs": [],
   "source": [
    "#Importing Libraries to Clean + Tokenize the Dataset for Processing "
   ]
  },
  {
   "cell_type": "code",
   "execution_count": 23,
   "metadata": {},
   "outputs": [],
   "source": [
    "import requests, json, re\n",
    "import pandas as pd\n",
    "import matplotlib\n",
    "from nltk.corpus import stopwords \n",
    "from nltk.stem.wordnet import WordNetLemmatizer\n",
    "import string\n",
    "from datetime import datetime\n",
    "from iexfinance.stocks import get_historical_data\n",
    "\n",
    "stopwords = set(stopwords.words('english'))\n",
    "punctuation = set(string.punctuation) \n",
    "\n",
    "def text_cleanup(input_text):\n",
    "    one = \" \".join([i for i in input_text.lower().split() if i not in stopwords])\n",
    "    two = \"\".join(re.sub(r'[^a-zA-Z ]', '', i) for i in one if i not in punctuation)\n",
    "    three = [WordNetLemmatizer().lemmatize(i) for i in two.split()]\n",
    "    return three"
   ]
  },
  {
   "cell_type": "code",
   "execution_count": 24,
   "metadata": {},
   "outputs": [],
   "source": [
    "import re\n",
    "import numpy as np\n",
    "import pandas as pd\n",
    "from pprint import pprint\n",
    "\n",
    "# Gensim\n",
    "import gensim\n",
    "import gensim.corpora as corpora\n",
    "from gensim.utils import simple_preprocess\n",
    "from gensim.models import CoherenceModel\n",
    "\n",
    "# spacy for lemmatization\n",
    "import spacy"
   ]
  },
  {
   "cell_type": "code",
   "execution_count": 25,
   "metadata": {},
   "outputs": [],
   "source": [
    "df2 = pd.read_csv('/Users/batman/Desktop/fake_news.csv')"
   ]
  },
  {
   "cell_type": "code",
   "execution_count": 26,
   "metadata": {},
   "outputs": [
    {
     "data": {
      "text/html": [
       "<div>\n",
       "<style scoped>\n",
       "    .dataframe tbody tr th:only-of-type {\n",
       "        vertical-align: middle;\n",
       "    }\n",
       "\n",
       "    .dataframe tbody tr th {\n",
       "        vertical-align: top;\n",
       "    }\n",
       "\n",
       "    .dataframe thead th {\n",
       "        text-align: right;\n",
       "    }\n",
       "</style>\n",
       "<table border=\"1\" class=\"dataframe\">\n",
       "  <thead>\n",
       "    <tr style=\"text-align: right;\">\n",
       "      <th></th>\n",
       "      <th>ur1</th>\n",
       "      <th>title</th>\n",
       "      <th>url2</th>\n",
       "      <th>text</th>\n",
       "    </tr>\n",
       "  </thead>\n",
       "  <tbody>\n",
       "    <tr>\n",
       "      <th>0</th>\n",
       "      <td>ActivistPost.com</td>\n",
       "      <td>Did Bill Gates and world economic forum predic...</td>\n",
       "      <td>https://www.nexusnewsfeed.com/article/human-ri...</td>\n",
       "      <td>In this report we take an inside look at Event...</td>\n",
       "    </tr>\n",
       "    <tr>\n",
       "      <th>1</th>\n",
       "      <td>AgeOfAutism.com</td>\n",
       "      <td>Coronavirus Can Be Caused By Viral Interferenc...</td>\n",
       "      <td>https://www.ageofautism.com/2020/01/coronaviru...</td>\n",
       "      <td>News and articles about CORONAVIRUS are everyw...</td>\n",
       "    </tr>\n",
       "  </tbody>\n",
       "</table>\n",
       "</div>"
      ],
      "text/plain": [
       "                ur1                                              title  \\\n",
       "0  ActivistPost.com  Did Bill Gates and world economic forum predic...   \n",
       "1   AgeOfAutism.com  Coronavirus Can Be Caused By Viral Interferenc...   \n",
       "\n",
       "                                                url2  \\\n",
       "0  https://www.nexusnewsfeed.com/article/human-ri...   \n",
       "1  https://www.ageofautism.com/2020/01/coronaviru...   \n",
       "\n",
       "                                                text  \n",
       "0  In this report we take an inside look at Event...  \n",
       "1  News and articles about CORONAVIRUS are everyw...  "
      ]
     },
     "execution_count": 26,
     "metadata": {},
     "output_type": "execute_result"
    }
   ],
   "source": [
    "df2.head(2)"
   ]
  },
  {
   "cell_type": "code",
   "execution_count": 27,
   "metadata": {},
   "outputs": [],
   "source": [
    "df3=df2.head(72)"
   ]
  },
  {
   "cell_type": "code",
   "execution_count": 28,
   "metadata": {},
   "outputs": [],
   "source": [
    "df4 = pd.DataFrame(df3, columns=['id','text'])"
   ]
  },
  {
   "cell_type": "code",
   "execution_count": 29,
   "metadata": {},
   "outputs": [
    {
     "data": {
      "text/html": [
       "<div>\n",
       "<style scoped>\n",
       "    .dataframe tbody tr th:only-of-type {\n",
       "        vertical-align: middle;\n",
       "    }\n",
       "\n",
       "    .dataframe tbody tr th {\n",
       "        vertical-align: top;\n",
       "    }\n",
       "\n",
       "    .dataframe thead th {\n",
       "        text-align: right;\n",
       "    }\n",
       "</style>\n",
       "<table border=\"1\" class=\"dataframe\">\n",
       "  <thead>\n",
       "    <tr style=\"text-align: right;\">\n",
       "      <th></th>\n",
       "      <th>id</th>\n",
       "      <th>text</th>\n",
       "    </tr>\n",
       "  </thead>\n",
       "  <tbody>\n",
       "    <tr>\n",
       "      <th>0</th>\n",
       "      <td>NaN</td>\n",
       "      <td>In this report we take an inside look at Event...</td>\n",
       "    </tr>\n",
       "    <tr>\n",
       "      <th>1</th>\n",
       "      <td>NaN</td>\n",
       "      <td>News and articles about CORONAVIRUS are everyw...</td>\n",
       "    </tr>\n",
       "  </tbody>\n",
       "</table>\n",
       "</div>"
      ],
      "text/plain": [
       "   id                                               text\n",
       "0 NaN  In this report we take an inside look at Event...\n",
       "1 NaN  News and articles about CORONAVIRUS are everyw..."
      ]
     },
     "execution_count": 29,
     "metadata": {},
     "output_type": "execute_result"
    }
   ],
   "source": [
    "df4.head(2)"
   ]
  },
  {
   "cell_type": "code",
   "execution_count": 30,
   "metadata": {},
   "outputs": [],
   "source": [
    "#Need to Insert Dummy Data for NaN for Clean_Up Function to work "
   ]
  },
  {
   "cell_type": "code",
   "execution_count": 31,
   "metadata": {},
   "outputs": [],
   "source": [
    "df5 =df4.fillna(\"Hello\")"
   ]
  },
  {
   "cell_type": "code",
   "execution_count": 32,
   "metadata": {},
   "outputs": [
    {
     "data": {
      "text/html": [
       "<div>\n",
       "<style scoped>\n",
       "    .dataframe tbody tr th:only-of-type {\n",
       "        vertical-align: middle;\n",
       "    }\n",
       "\n",
       "    .dataframe tbody tr th {\n",
       "        vertical-align: top;\n",
       "    }\n",
       "\n",
       "    .dataframe thead th {\n",
       "        text-align: right;\n",
       "    }\n",
       "</style>\n",
       "<table border=\"1\" class=\"dataframe\">\n",
       "  <thead>\n",
       "    <tr style=\"text-align: right;\">\n",
       "      <th></th>\n",
       "      <th>id</th>\n",
       "      <th>text</th>\n",
       "    </tr>\n",
       "  </thead>\n",
       "  <tbody>\n",
       "    <tr>\n",
       "      <th>0</th>\n",
       "      <td>Hello</td>\n",
       "      <td>In this report we take an inside look at Event...</td>\n",
       "    </tr>\n",
       "    <tr>\n",
       "      <th>1</th>\n",
       "      <td>Hello</td>\n",
       "      <td>News and articles about CORONAVIRUS are everyw...</td>\n",
       "    </tr>\n",
       "    <tr>\n",
       "      <th>2</th>\n",
       "      <td>Hello</td>\n",
       "      <td>First of all, Wuhan is a place and not a race,...</td>\n",
       "    </tr>\n",
       "    <tr>\n",
       "      <th>3</th>\n",
       "      <td>Hello</td>\n",
       "      <td>ER Doctors urge a reopening: Lockdown creating...</td>\n",
       "    </tr>\n",
       "    <tr>\n",
       "      <th>4</th>\n",
       "      <td>Hello</td>\n",
       "      <td>Governor Andrew Cuomo is considering a tempora...</td>\n",
       "    </tr>\n",
       "  </tbody>\n",
       "</table>\n",
       "</div>"
      ],
      "text/plain": [
       "      id                                               text\n",
       "0  Hello  In this report we take an inside look at Event...\n",
       "1  Hello  News and articles about CORONAVIRUS are everyw...\n",
       "2  Hello  First of all, Wuhan is a place and not a race,...\n",
       "3  Hello  ER Doctors urge a reopening: Lockdown creating...\n",
       "4  Hello  Governor Andrew Cuomo is considering a tempora..."
      ]
     },
     "execution_count": 32,
     "metadata": {},
     "output_type": "execute_result"
    }
   ],
   "source": [
    "#Analyzing for accuracy \n",
    "df5.head(5)"
   ]
  },
  {
   "cell_type": "code",
   "execution_count": 33,
   "metadata": {},
   "outputs": [
    {
     "data": {
      "text/plain": [
       "72"
      ]
     },
     "execution_count": 33,
     "metadata": {},
     "output_type": "execute_result"
    }
   ],
   "source": [
    "len(df5)"
   ]
  },
  {
   "cell_type": "code",
   "execution_count": 34,
   "metadata": {},
   "outputs": [],
   "source": [
    "#Cleaning Dataset ~ Removal of stop words, Tokenizing, and creating corpus "
   ]
  },
  {
   "cell_type": "code",
   "execution_count": 35,
   "metadata": {},
   "outputs": [],
   "source": [
    "from gensim.models import ldamodel\n",
    "from gensim.corpora.dictionary import Dictionary\n",
    "import pyLDAvis.gensim\n",
    "import os\n",
    "\n",
    "text = df5[['text']].applymap(text_cleanup)['text']\n",
    "dictionary = Dictionary(text)\n",
    "dictionary.filter_extremes(no_below=10, no_above=0.8)\n",
    "corpora = [dictionary.doc2bow(doc) for doc in text]"
   ]
  },
  {
   "cell_type": "code",
   "execution_count": 36,
   "metadata": {},
   "outputs": [
    {
     "data": {
      "text/plain": [
       "72"
      ]
     },
     "execution_count": 36,
     "metadata": {},
     "output_type": "execute_result"
    }
   ],
   "source": [
    "len(corpora)"
   ]
  },
  {
   "cell_type": "code",
   "execution_count": 37,
   "metadata": {},
   "outputs": [
    {
     "name": "stdout",
     "output_type": "stream",
     "text": [
      "25055\n"
     ]
    }
   ],
   "source": [
    "#Importing Webhose Deduplicated Dataset \n",
    "json_data=open('/Users/batman/Downloads/webhose_Covid_dedup (1).json').readlines()\n",
    "dedup_subset = []\n",
    "for line in json_data:\n",
    "    dedup_subset.append(json.loads(line))\n",
    "print(len(dedup_subset))"
   ]
  },
  {
   "cell_type": "code",
   "execution_count": 38,
   "metadata": {},
   "outputs": [],
   "source": [
    "#Converting json file to Pandas Dataframe\n",
    "df6 = pd.DataFrame(dedup_subset, columns=['id', 'title', 'text', 'url'])"
   ]
  },
  {
   "cell_type": "code",
   "execution_count": 39,
   "metadata": {},
   "outputs": [
    {
     "data": {
      "text/html": [
       "<div>\n",
       "<style scoped>\n",
       "    .dataframe tbody tr th:only-of-type {\n",
       "        vertical-align: middle;\n",
       "    }\n",
       "\n",
       "    .dataframe tbody tr th {\n",
       "        vertical-align: top;\n",
       "    }\n",
       "\n",
       "    .dataframe thead th {\n",
       "        text-align: right;\n",
       "    }\n",
       "</style>\n",
       "<table border=\"1\" class=\"dataframe\">\n",
       "  <thead>\n",
       "    <tr style=\"text-align: right;\">\n",
       "      <th></th>\n",
       "      <th>id</th>\n",
       "      <th>title</th>\n",
       "      <th>text</th>\n",
       "      <th>url</th>\n",
       "    </tr>\n",
       "  </thead>\n",
       "  <tbody>\n",
       "    <tr>\n",
       "      <th>0</th>\n",
       "      <td>0</td>\n",
       "      <td>Chinese envoy warns of \"political virus\" in fi...</td>\n",
       "      <td>Chinese Ambassador to Britain Liu Xiaoming spe...</td>\n",
       "      <td>http://missouri.statenews.net/news/265858618/c...</td>\n",
       "    </tr>\n",
       "    <tr>\n",
       "      <th>1</th>\n",
       "      <td>1</td>\n",
       "      <td>China active in global cooperation on R&amp;D of C...</td>\n",
       "      <td>A staff member displays samples of the COVID-1...</td>\n",
       "      <td>http://missouri.statenews.net/news/265858257/c...</td>\n",
       "    </tr>\n",
       "  </tbody>\n",
       "</table>\n",
       "</div>"
      ],
      "text/plain": [
       "   id                                              title  \\\n",
       "0   0  Chinese envoy warns of \"political virus\" in fi...   \n",
       "1   1  China active in global cooperation on R&D of C...   \n",
       "\n",
       "                                                text  \\\n",
       "0  Chinese Ambassador to Britain Liu Xiaoming spe...   \n",
       "1  A staff member displays samples of the COVID-1...   \n",
       "\n",
       "                                                 url  \n",
       "0  http://missouri.statenews.net/news/265858618/c...  \n",
       "1  http://missouri.statenews.net/news/265858257/c...  "
      ]
     },
     "execution_count": 39,
     "metadata": {},
     "output_type": "execute_result"
    }
   ],
   "source": [
    "df6.head(2)"
   ]
  },
  {
   "cell_type": "code",
   "execution_count": 40,
   "metadata": {},
   "outputs": [
    {
     "data": {
      "text/plain": [
       "25055"
      ]
     },
     "execution_count": 40,
     "metadata": {},
     "output_type": "execute_result"
    }
   ],
   "source": [
    "len(df6)"
   ]
  },
  {
   "cell_type": "code",
   "execution_count": 41,
   "metadata": {},
   "outputs": [],
   "source": [
    "from gensim.models import ldamodel\n",
    "from gensim.corpora.dictionary import Dictionary\n",
    "import pyLDAvis.gensim\n",
    "import os\n",
    "\n",
    "text = df6[['text']].applymap(text_cleanup)['text']\n",
    "dictionary2 = Dictionary(text)\n",
    "dictionary2.filter_extremes(no_below=10, no_above=0.8)\n",
    "corpora2 = [dictionary.doc2bow(doc) for doc in text]"
   ]
  },
  {
   "cell_type": "code",
   "execution_count": 21,
   "metadata": {},
   "outputs": [
    {
     "data": {
      "text/plain": [
       "25055"
      ]
     },
     "execution_count": 21,
     "metadata": {},
     "output_type": "execute_result"
    }
   ],
   "source": [
    "len(corpora2)"
   ]
  },
  {
   "cell_type": "code",
   "execution_count": 22,
   "metadata": {},
   "outputs": [],
   "source": [
    "#Building Similarity Model off Fake News corpora to run each Webhose into in order to check for similarity >= .65 "
   ]
  },
  {
   "cell_type": "code",
   "execution_count": 23,
   "metadata": {},
   "outputs": [
    {
     "name": "stdout",
     "output_type": "stream",
     "text": [
      "TfidfModel(num_docs=72, num_nnz=8134)\n",
      "8134\n"
     ]
    }
   ],
   "source": [
    "tf_idf = gensim.models.TfidfModel(corpora)\n",
    "print(tf_idf)\n",
    "s = 0\n",
    "for i in corpora:\n",
    "    s += len(i)\n",
    "print(s)"
   ]
  },
  {
   "cell_type": "code",
   "execution_count": 25,
   "metadata": {},
   "outputs": [],
   "source": [
    "#Creating Gensim Similarity Function to Quantitatively compare Textual Similarities "
   ]
  },
  {
   "cell_type": "code",
   "execution_count": 26,
   "metadata": {},
   "outputs": [
    {
     "name": "stdout",
     "output_type": "stream",
     "text": [
      "Similarity index with 72 documents in 0 shards (stored under /Users/batman/Desktop)\n",
      "<class 'gensim.similarities.docsim.Similarity'>\n"
     ]
    }
   ],
   "source": [
    "sims = gensim.similarities.Similarity('/Users/batman/Desktop',tf_idf[corpora],\n",
    "                                      num_features=len(dictionary))\n",
    "print(sims)\n",
    "print(type(sims))"
   ]
  },
  {
   "cell_type": "code",
   "execution_count": 27,
   "metadata": {},
   "outputs": [],
   "source": [
    "#Limiting Output to ONE Webhose Article for ease of review---  \n",
    "#If remove [] the output will list similarity scores for 25055 articles\n",
    "\n",
    "#Output below = one Webhose Article similarity to each of the 72 fake news articles"
   ]
  },
  {
   "cell_type": "code",
   "execution_count": 29,
   "metadata": {},
   "outputs": [],
   "source": [
    "#Selecting Webhose Article 164.  Output is similarity to each article within the Fake News article dataset (72)\n",
    "#Can choose any article and will provide the same output.  "
   ]
  },
  {
   "cell_type": "code",
   "execution_count": 30,
   "metadata": {},
   "outputs": [
    {
     "name": "stdout",
     "output_type": "stream",
     "text": [
      "(1, 0.093562014)\n",
      "(2, 0.0518005)\n",
      "(3, 0.07816285)\n",
      "(4, 0.09491711)\n",
      "(5, 0.10503892)\n",
      "(6, 0.019243006)\n",
      "(7, 0.6815319)\n",
      "(8, 0.22565061)\n",
      "(9, 0.042050935)\n",
      "(10, 0.6851101)\n",
      "(11, 0.01572319)\n",
      "(12, 0.09602599)\n",
      "(13, 0.1614952)\n",
      "(14, 0.034110222)\n",
      "(15, 0.06373085)\n",
      "(16, 0.10704161)\n",
      "(17, 0.050282907)\n",
      "(18, 0.065846175)\n",
      "(19, 0.10797555)\n",
      "(20, 0.09751404)\n",
      "(21, 0.07650231)\n",
      "(22, 0.055733494)\n",
      "(23, 0.049597625)\n",
      "(24, 0.68660253)\n",
      "(25, 0.13505265)\n",
      "(26, 0.036123652)\n",
      "(27, 0.108018376)\n",
      "(28, 0.1191143)\n",
      "(29, 0.2180615)\n",
      "(30, 0.22252882)\n",
      "(31, 0.11232691)\n",
      "(32, 0.05962752)\n",
      "(33, 0.0)\n",
      "(34, 0.0)\n",
      "(35, 0.18836807)\n",
      "(36, 0.056788467)\n",
      "(37, 0.017015267)\n",
      "(38, 0.0474091)\n",
      "(39, 0.1627324)\n",
      "(40, 0.0)\n",
      "(41, 0.0)\n",
      "(42, 0.06922154)\n",
      "(43, 0.03791614)\n",
      "(44, 0.25143647)\n",
      "(45, 0.034573726)\n",
      "(46, 0.12347126)\n",
      "(47, 0.09947924)\n",
      "(48, 0.0)\n",
      "(49, 0.09434501)\n",
      "(50, 0.0554644)\n",
      "(51, 0.07367891)\n",
      "(52, 0.03617637)\n",
      "(53, 0.67961276)\n",
      "(54, 0.058161665)\n",
      "(55, 0.05550503)\n",
      "(56, 0.09735711)\n",
      "(57, 0.11793693)\n",
      "(58, 0.034652963)\n",
      "(59, 0.03934589)\n",
      "(60, 0.093068905)\n",
      "(61, 0.081756085)\n",
      "(62, 0.19592774)\n",
      "(63, 0.14774339)\n",
      "(64, 0.03639926)\n",
      "(65, 0.14934924)\n",
      "(66, 0.04880598)\n",
      "(67, 0.07631526)\n",
      "(68, 0.06856658)\n",
      "(69, 0.07636952)\n",
      "(70, 0.14017236)\n",
      "(71, 0.06038079)\n",
      "(72, 0.034519456)\n"
     ]
    }
   ],
   "source": [
    "index = sims[tf_idf[corpora2[164]]]\n",
    "for i in range(len(index)):\n",
    "    print((i + 1, index[i]))"
   ]
  },
  {
   "cell_type": "code",
   "execution_count": 31,
   "metadata": {},
   "outputs": [
    {
     "name": "stdout",
     "output_type": "stream",
     "text": [
      "(7, 0.76958346)\n",
      "(10, 0.733504)\n",
      "(24, 0.7291062)\n",
      "(53, 0.72178346)\n"
     ]
    }
   ],
   "source": [
    "#Another Webhose Artile (631) ---except only printing when sim score >= .65 (631 obtained from listing below)\n",
    "\n",
    "k=0\n",
    "z=0\n",
    "zz= .65\n",
    "index = sims[tf_idf[corpora2[631]]]\n",
    "for i in range(len(index)):\n",
    "    if index[i] >= zz:\n",
    "        print((i + 1, index[i]))"
   ]
  },
  {
   "cell_type": "code",
   "execution_count": 32,
   "metadata": {},
   "outputs": [],
   "source": [
    "#We are comparing the similarity of each Webhose Deduplicated Article Text to each of the 72 Fake News Article Texts\n",
    "#The result below is limited to 1 article for ease of review.  \n",
    "\n",
    "#As you will see, the results are an Array ---listing Webhose Article and Similarity to each of the 72 \n",
    "#Fake News Articles.  "
   ]
  },
  {
   "cell_type": "code",
   "execution_count": 33,
   "metadata": {},
   "outputs": [],
   "source": [
    "Copy = []\n",
    "Total = []\n",
    "i= 0\n",
    "x= 0\n",
    "z= 0.65\n",
    "while x < 25055:\n",
    "    web1 = corpora2[i]\n",
    "    vector = sims[tf_idf[web1]] \n",
    "    for k in vector:\n",
    "        if k >= z:\n",
    "            #print(x+1, k)\n",
    "            Copy.append(x)\n",
    "            Total.append(k)\n",
    "    x= x+1\n",
    "    i= i +1 "
   ]
  },
  {
   "cell_type": "code",
   "execution_count": 34,
   "metadata": {},
   "outputs": [],
   "source": [
    "#Copy contains all Webhose Articles that are Similar to Fake News text (Similarity equals >=.65)\n",
    "#print(Copy)\n",
    "#print(Total)"
   ]
  },
  {
   "cell_type": "code",
   "execution_count": 35,
   "metadata": {},
   "outputs": [],
   "source": [
    "#Observation shows that one Webhose Article often has a Similarity Score of >= .65 to more than one Fake News Article\n",
    "#For example, Article 164 is similar to Fake News articles 7, 10, 24, and 53\n",
    "\n",
    "#Creating a for loop to remove redundancy of Webhose Articles already classified as fake news.  \n",
    "\n",
    "res = [] \n",
    "for i in Copy: \n",
    "    if i not in res: \n",
    "        res.append(i) "
   ]
  },
  {
   "cell_type": "code",
   "execution_count": 36,
   "metadata": {},
   "outputs": [
    {
     "data": {
      "text/plain": [
       "266"
      ]
     },
     "execution_count": 36,
     "metadata": {},
     "output_type": "execute_result"
    }
   ],
   "source": [
    "#The total Number of Webhose Articles in the Webhose dataset that are 'similar' to fake news text\n",
    "len(res)"
   ]
  },
  {
   "cell_type": "code",
   "execution_count": 37,
   "metadata": {},
   "outputs": [
    {
     "name": "stdout",
     "output_type": "stream",
     "text": [
      "id                                                     274\n",
      "title    Goal: 30,000-plus masks – Santa Barbara News-P...\n",
      "text     Santa Barbara Bucket Brigade makes progress du...\n",
      "url      https://ten15am.org/goal-30000-plus-masks-sant...\n",
      "Name: 164, dtype: object\n"
     ]
    }
   ],
   "source": [
    "#Performaing manual inspection \n",
    "print(df6.iloc[164])"
   ]
  },
  {
   "cell_type": "code",
   "execution_count": 38,
   "metadata": {},
   "outputs": [
    {
     "name": "stdout",
     "output_type": "stream",
     "text": [
      "[164, 305, 418, 585, 631, 657, 729, 1357, 1396, 1429, 1700, 1743, 1746, 1750, 2000, 2371, 2462, 2477, 2528, 2586, 2866, 2888, 2906, 2995, 3589, 3652, 3674, 3694, 3747, 3821, 3961, 4043, 4048, 4106, 4203, 4455, 4613, 4675, 4680, 4802, 4930, 4944, 4949, 5094, 5293, 5405, 5449, 5499, 5523, 5778, 5848, 5864, 5943, 5972, 6310, 6312, 6319, 6344, 6439, 6444, 6503, 6541, 6557, 6634, 6849, 6901, 6904, 7074, 7212, 7250, 7411, 7531, 7548, 7740, 7748, 7829, 7949, 7953, 8119, 8144, 8161, 8220, 8402, 8492, 8520, 8535, 8579, 8603, 8635, 8654, 8668, 8683, 8686, 8800, 8810, 8872, 8907, 8995, 9014, 9097, 9159, 9239, 9318, 9333, 9369, 9399, 9512, 9520, 9601, 9649, 9829, 9836, 9838, 9896, 9900, 10017, 10029, 10037, 10098, 10111, 10159, 10247, 10456, 10550, 10560, 10673, 10714, 10797, 10851, 10859, 10895, 10905, 10910, 10938, 11202, 11296, 11355, 11436, 11489, 11664, 11778, 11920, 12150, 12207, 12220, 12313, 12437, 12478, 12532, 12605, 12655, 12741, 12859, 12862, 12869, 12909, 12910, 12987, 13165, 13185, 13422, 13444, 13764, 13779, 13897, 13933, 13967, 14326, 14535, 14621, 14777, 14843, 15026, 15075, 15301, 15379, 15915, 16083, 16208, 16297, 16360, 16478, 16589, 16709, 16850, 16909, 16973, 17130, 17320, 17349, 17355, 17581, 17914, 18245, 18411, 18481, 18517, 18551, 18624, 18751, 18793, 18881, 19550, 19638, 19691, 19944, 19981, 19989, 20056, 20379, 20686, 20694, 20731, 20999, 21064, 21096, 21195, 21297, 21298, 21547, 21619, 21687, 21742, 22169, 22178, 22263, 22285, 22324, 22384, 22404, 22472, 22548, 22559, 22692, 22813, 23081, 23112, 23125, 23137, 23165, 23315, 23564, 23630, 23686, 23779, 23885, 23902, 23916, 23921, 24049, 24132, 24245, 24278, 24306, 24350, 24383, 24422, 24470, 24596, 24649, 24705, 24749, 24810, 24891, 25008, 25031]\n"
     ]
    }
   ],
   "source": [
    "#Printing Articles that are similar to fake news text by index \n",
    "print(res)"
   ]
  },
  {
   "cell_type": "code",
   "execution_count": 39,
   "metadata": {},
   "outputs": [],
   "source": [
    "#Dropping the identified fake news articles from our Webhose dataset ~ leaving us with our Webhose Real dataset"
   ]
  },
  {
   "cell_type": "code",
   "execution_count": 40,
   "metadata": {},
   "outputs": [],
   "source": [
    "df8 = df6.drop(df6.index[[164, 305, 418, 585, 631, 657, 729, 1357, 1396, 1429, 1700, 1743, 1746, 1750, 2000, \n",
    "                         2371, 2462, 2477, 2528, 2586, 2866, 2888, 2906, 2995, 3589, 3652, 3674, 3694, 3747, \n",
    "                         3821, 3961, 4043, 4048, 4106, 4203, 4455, 4613, 4675, 4680, 4802, 4930, 4944, 4949, \n",
    "                         5094, 5293, 5405, 5449, 5499, 5523, 5778, 5848, 5864, 5943, 5972, 6310, 6312, 6319, \n",
    "                         6344, 6439, 6444, 6503, 6541, 6557, 6634, 6849, 6901, 6904, 7074, 7212, 7250, 7411, \n",
    "                         7531, 7548, 7740, 7748, 7829, 7949, 7953, 8119, 8144, 8161, 8220, 8402, 8492, 8520, \n",
    "                         8535, 8579, 8603, 8635, 8654, 8668, 8683, 8686, 8800, 8810, 8872, 8907, 8995, 9014, \n",
    "                         9097, 9159, 9239, 9318, 9333, 9369, 9399, 9512, 9520, 9601, 9649, 9829, 9836, 9838, \n",
    "                         9896, 9900, 10017, 10029, 10037, 10098, 10111, 10159, 10247, 10456, 10550, 10560, 10673, \n",
    "                         10714, 10797, 10851, 10859, 10895, 10905, 10910, 10938, 11202, 11296, 11355, 11436, 11489, \n",
    "                         11664, 11778, 11920, 12150, 12207, 12220, 12313, 12437, 12478, 12532, 12605, 12655, 12741, \n",
    "                         12859, 12862, 12869, 12909, 12910, 12987, 13165, 13185, 13422, 13444, 13764, 13779, 13897, \n",
    "                         13933, 13967, 14326, 14535, 14621, 14777, 14843, 15026, 15075, 15301, 15379, 15915, 16083, \n",
    "                         16208, 16297, 16360, 16478, 16589, 16709, 16850, 16909, 16973, 17130, 17320, 17349, 17355, \n",
    "                         17581, 17914, 18245, 18411, 18481, 18517, 18551, 18624, 18751, 18793, 18881, 19550, 19638, \n",
    "                         19691, 19944, 19981, 19989, 20056, 20379, 20686, 20694, 20731, 20999, 21064, 21096, 21195, \n",
    "                         21297, 21298, 21547, 21619, 21687, 21742, 22169, 22178, 22263, 22285, 22324, 22384, 22404, \n",
    "                         22472, 22548, 22559, 22692, 22813, 23081, 23112, 23125, 23137, 23165, 23315, 23564, 23630, \n",
    "                         23686, 23779, 23885, 23902, 23916, 23921, 24049, 24132, 24245, 24278, 24306, 24350, 24383, \n",
    "                         24422, 24470, 24596, 24649, 24705, 24749, 24810, 24891, 25008, 25031]])"
   ]
  },
  {
   "cell_type": "code",
   "execution_count": 41,
   "metadata": {},
   "outputs": [
    {
     "data": {
      "text/plain": [
       "24789"
      ]
     },
     "execution_count": 41,
     "metadata": {},
     "output_type": "execute_result"
    }
   ],
   "source": [
    "len(df8)"
   ]
  },
  {
   "cell_type": "code",
   "execution_count": 42,
   "metadata": {},
   "outputs": [],
   "source": [
    "#The fruition of our work:  Webhose REAL Dataset with Fake Articles Removed "
   ]
  },
  {
   "cell_type": "code",
   "execution_count": 43,
   "metadata": {},
   "outputs": [
    {
     "data": {
      "text/html": [
       "<div>\n",
       "<style scoped>\n",
       "    .dataframe tbody tr th:only-of-type {\n",
       "        vertical-align: middle;\n",
       "    }\n",
       "\n",
       "    .dataframe tbody tr th {\n",
       "        vertical-align: top;\n",
       "    }\n",
       "\n",
       "    .dataframe thead th {\n",
       "        text-align: right;\n",
       "    }\n",
       "</style>\n",
       "<table border=\"1\" class=\"dataframe\">\n",
       "  <thead>\n",
       "    <tr style=\"text-align: right;\">\n",
       "      <th></th>\n",
       "      <th>id</th>\n",
       "      <th>title</th>\n",
       "      <th>text</th>\n",
       "      <th>url</th>\n",
       "    </tr>\n",
       "  </thead>\n",
       "  <tbody>\n",
       "    <tr>\n",
       "      <th>0</th>\n",
       "      <td>0</td>\n",
       "      <td>Chinese envoy warns of \"political virus\" in fi...</td>\n",
       "      <td>Chinese Ambassador to Britain Liu Xiaoming spe...</td>\n",
       "      <td>http://missouri.statenews.net/news/265858618/c...</td>\n",
       "    </tr>\n",
       "    <tr>\n",
       "      <th>1</th>\n",
       "      <td>1</td>\n",
       "      <td>China active in global cooperation on R&amp;D of C...</td>\n",
       "      <td>A staff member displays samples of the COVID-1...</td>\n",
       "      <td>http://missouri.statenews.net/news/265858257/c...</td>\n",
       "    </tr>\n",
       "    <tr>\n",
       "      <th>2</th>\n",
       "      <td>2</td>\n",
       "      <td>Blockchain in Education Market Size, by Global...</td>\n",
       "      <td>Blockchain in Education Market Size, by Global...</td>\n",
       "      <td>https://otcpm24.com/2020/07/23/blockchain-in-e...</td>\n",
       "    </tr>\n",
       "    <tr>\n",
       "      <th>3</th>\n",
       "      <td>3</td>\n",
       "      <td>Emirates to Cover Virus-Related Medical Costs ...</td>\n",
       "      <td>Emirates, the largest airline in the Middle Ea...</td>\n",
       "      <td>http://www.naharnet.com/stories/en/273613-emir...</td>\n",
       "    </tr>\n",
       "    <tr>\n",
       "      <th>4</th>\n",
       "      <td>4</td>\n",
       "      <td>Portland mayor teargassed as calls mount for T...</td>\n",
       "      <td>City’s Democratic mayor, Ted Wheeler, teargass...</td>\n",
       "      <td>https://www.theguardian.com/us-news/live/2020/...</td>\n",
       "    </tr>\n",
       "    <tr>\n",
       "      <th>...</th>\n",
       "      <td>...</td>\n",
       "      <td>...</td>\n",
       "      <td>...</td>\n",
       "      <td>...</td>\n",
       "    </tr>\n",
       "    <tr>\n",
       "      <th>95</th>\n",
       "      <td>155</td>\n",
       "      <td>Aircraft Micro Turbine Engines Market Worth $6...</td>\n",
       "      <td>Aircraft Micro Turbine Engines Market Worth $6...</td>\n",
       "      <td>http://www.sbwire.com/press-releases/aircraft-...</td>\n",
       "    </tr>\n",
       "    <tr>\n",
       "      <th>96</th>\n",
       "      <td>156</td>\n",
       "      <td>Huntington Learning Center Offers Academic Hel...</td>\n",
       "      <td>In-Person and Live Online Tutoring and Test Pr...</td>\n",
       "      <td>https://www.newswire.com/news/huntington-learn...</td>\n",
       "    </tr>\n",
       "    <tr>\n",
       "      <th>97</th>\n",
       "      <td>157</td>\n",
       "      <td>Sanford Health and TruGenomix announce partner...</td>\n",
       "      <td>Online Forms Support Local Journalism Now, mor...</td>\n",
       "      <td>https://curated.tncontentexchange.com/states/s...</td>\n",
       "    </tr>\n",
       "    <tr>\n",
       "      <th>98</th>\n",
       "      <td>158</td>\n",
       "      <td>Imperva Research Labs Reveals Overall Impact o...</td>\n",
       "      <td>Contact Us Global Distribution Newswire Servic...</td>\n",
       "      <td>https://www.globenewswire.com/news-release/202...</td>\n",
       "    </tr>\n",
       "    <tr>\n",
       "      <th>99</th>\n",
       "      <td>159</td>\n",
       "      <td>Layoffs, tensions over Black Lives Matter post...</td>\n",
       "      <td>Layoffs, tensions over Black Lives Matter post...</td>\n",
       "      <td>https://www.seattletimes.com/entertainment/lay...</td>\n",
       "    </tr>\n",
       "  </tbody>\n",
       "</table>\n",
       "<p>100 rows × 4 columns</p>\n",
       "</div>"
      ],
      "text/plain": [
       "     id                                              title  \\\n",
       "0     0  Chinese envoy warns of \"political virus\" in fi...   \n",
       "1     1  China active in global cooperation on R&D of C...   \n",
       "2     2  Blockchain in Education Market Size, by Global...   \n",
       "3     3  Emirates to Cover Virus-Related Medical Costs ...   \n",
       "4     4  Portland mayor teargassed as calls mount for T...   \n",
       "..  ...                                                ...   \n",
       "95  155  Aircraft Micro Turbine Engines Market Worth $6...   \n",
       "96  156  Huntington Learning Center Offers Academic Hel...   \n",
       "97  157  Sanford Health and TruGenomix announce partner...   \n",
       "98  158  Imperva Research Labs Reveals Overall Impact o...   \n",
       "99  159  Layoffs, tensions over Black Lives Matter post...   \n",
       "\n",
       "                                                 text  \\\n",
       "0   Chinese Ambassador to Britain Liu Xiaoming spe...   \n",
       "1   A staff member displays samples of the COVID-1...   \n",
       "2   Blockchain in Education Market Size, by Global...   \n",
       "3   Emirates, the largest airline in the Middle Ea...   \n",
       "4   City’s Democratic mayor, Ted Wheeler, teargass...   \n",
       "..                                                ...   \n",
       "95  Aircraft Micro Turbine Engines Market Worth $6...   \n",
       "96  In-Person and Live Online Tutoring and Test Pr...   \n",
       "97  Online Forms Support Local Journalism Now, mor...   \n",
       "98  Contact Us Global Distribution Newswire Servic...   \n",
       "99  Layoffs, tensions over Black Lives Matter post...   \n",
       "\n",
       "                                                  url  \n",
       "0   http://missouri.statenews.net/news/265858618/c...  \n",
       "1   http://missouri.statenews.net/news/265858257/c...  \n",
       "2   https://otcpm24.com/2020/07/23/blockchain-in-e...  \n",
       "3   http://www.naharnet.com/stories/en/273613-emir...  \n",
       "4   https://www.theguardian.com/us-news/live/2020/...  \n",
       "..                                                ...  \n",
       "95  http://www.sbwire.com/press-releases/aircraft-...  \n",
       "96  https://www.newswire.com/news/huntington-learn...  \n",
       "97  https://curated.tncontentexchange.com/states/s...  \n",
       "98  https://www.globenewswire.com/news-release/202...  \n",
       "99  https://www.seattletimes.com/entertainment/lay...  \n",
       "\n",
       "[100 rows x 4 columns]"
      ]
     },
     "execution_count": 43,
     "metadata": {},
     "output_type": "execute_result"
    }
   ],
   "source": [
    "#Webhose Real Dataset \n",
    "df8.head(100)"
   ]
  },
  {
   "cell_type": "code",
   "execution_count": 44,
   "metadata": {},
   "outputs": [],
   "source": [
    "#Creating Webhose Fake dataset via iloc function "
   ]
  },
  {
   "cell_type": "code",
   "execution_count": 45,
   "metadata": {},
   "outputs": [],
   "source": [
    "df9 = df6.iloc[[164, 305, 418, 585, 631, 657, 729, 1357, 1396, 1429, 1700, 1743, 1746, 1750, 2000, \n",
    "                         2371, 2462, 2477, 2528, 2586, 2866, 2888, 2906, 2995, 3589, 3652, 3674, 3694, 3747, \n",
    "                         3821, 3961, 4043, 4048, 4106, 4203, 4455, 4613, 4675, 4680, 4802, 4930, 4944, 4949, \n",
    "                         5094, 5293, 5405, 5449, 5499, 5523, 5778, 5848, 5864, 5943, 5972, 6310, 6312, 6319, \n",
    "                         6344, 6439, 6444, 6503, 6541, 6557, 6634, 6849, 6901, 6904, 7074, 7212, 7250, 7411, \n",
    "                         7531, 7548, 7740, 7748, 7829, 7949, 7953, 8119, 8144, 8161, 8220, 8402, 8492, 8520, \n",
    "                         8535, 8579, 8603, 8635, 8654, 8668, 8683, 8686, 8800, 8810, 8872, 8907, 8995, 9014, \n",
    "                         9097, 9159, 9239, 9318, 9333, 9369, 9399, 9512, 9520, 9601, 9649, 9829, 9836, 9838, \n",
    "                         9896, 9900, 10017, 10029, 10037, 10098, 10111, 10159, 10247, 10456, 10550, 10560, 10673, \n",
    "                         10714, 10797, 10851, 10859, 10895, 10905, 10910, 10938, 11202, 11296, 11355, 11436, 11489, \n",
    "                         11664, 11778, 11920, 12150, 12207, 12220, 12313, 12437, 12478, 12532, 12605, 12655, 12741, \n",
    "                         12859, 12862, 12869, 12909, 12910, 12987, 13165, 13185, 13422, 13444, 13764, 13779, 13897, \n",
    "                         13933, 13967, 14326, 14535, 14621, 14777, 14843, 15026, 15075, 15301, 15379, 15915, 16083, \n",
    "                         16208, 16297, 16360, 16478, 16589, 16709, 16850, 16909, 16973, 17130, 17320, 17349, 17355, \n",
    "                         17581, 17914, 18245, 18411, 18481, 18517, 18551, 18624, 18751, 18793, 18881, 19550, 19638, \n",
    "                         19691, 19944, 19981, 19989, 20056, 20379, 20686, 20694, 20731, 20999, 21064, 21096, 21195, \n",
    "                         21297, 21298, 21547, 21619, 21687, 21742, 22169, 22178, 22263, 22285, 22324, 22384, 22404, \n",
    "                         22472, 22548, 22559, 22692, 22813, 23081, 23112, 23125, 23137, 23165, 23315, 23564, 23630, \n",
    "                         23686, 23779, 23885, 23902, 23916, 23921, 24049, 24132, 24245, 24278, 24306, 24350, 24383, \n",
    "                         24422, 24470, 24596, 24649, 24705, 24749, 24810, 24891, 25008, 25031]]"
   ]
  },
  {
   "cell_type": "code",
   "execution_count": 46,
   "metadata": {},
   "outputs": [
    {
     "data": {
      "text/plain": [
       "266"
      ]
     },
     "execution_count": 46,
     "metadata": {},
     "output_type": "execute_result"
    }
   ],
   "source": [
    "#Ensuring proper length of 266\n",
    "len(df9)"
   ]
  },
  {
   "cell_type": "code",
   "execution_count": 48,
   "metadata": {},
   "outputs": [
    {
     "data": {
      "text/html": [
       "<div>\n",
       "<style scoped>\n",
       "    .dataframe tbody tr th:only-of-type {\n",
       "        vertical-align: middle;\n",
       "    }\n",
       "\n",
       "    .dataframe tbody tr th {\n",
       "        vertical-align: top;\n",
       "    }\n",
       "\n",
       "    .dataframe thead th {\n",
       "        text-align: right;\n",
       "    }\n",
       "</style>\n",
       "<table border=\"1\" class=\"dataframe\">\n",
       "  <thead>\n",
       "    <tr style=\"text-align: right;\">\n",
       "      <th></th>\n",
       "      <th>id</th>\n",
       "      <th>title</th>\n",
       "      <th>text</th>\n",
       "      <th>url</th>\n",
       "    </tr>\n",
       "  </thead>\n",
       "  <tbody>\n",
       "    <tr>\n",
       "      <th>164</th>\n",
       "      <td>274</td>\n",
       "      <td>Goal: 30,000-plus masks – Santa Barbara News-P...</td>\n",
       "      <td>Santa Barbara Bucket Brigade makes progress du...</td>\n",
       "      <td>https://ten15am.org/goal-30000-plus-masks-sant...</td>\n",
       "    </tr>\n",
       "    <tr>\n",
       "      <th>305</th>\n",
       "      <td>505</td>\n",
       "      <td>Do I Have To Wear A Face Mask? What You Need T...</td>\n",
       "      <td>Gov. Eric Holcomb announced Wednesday Indiana ...</td>\n",
       "      <td>http://wvpe.org/post/do-i-have-wear-face-mask-...</td>\n",
       "    </tr>\n",
       "    <tr>\n",
       "      <th>418</th>\n",
       "      <td>718</td>\n",
       "      <td>Sweating Under The Face Mask Could Be Causing ...</td>\n",
       "      <td>Hey, you are not subscribed. Click here to sub...</td>\n",
       "      <td>https://doctor.ndtv.com/skin/sweating-under-th...</td>\n",
       "    </tr>\n",
       "    <tr>\n",
       "      <th>585</th>\n",
       "      <td>936</td>\n",
       "      <td>COVID-19: Wrong use of face mask hazardous – L...</td>\n",
       "      <td>A Medical Laboratory Scientist, Michael Idoko,...</td>\n",
       "      <td>https://dailynigerian.com/covid-19-wrong-use-o...</td>\n",
       "    </tr>\n",
       "    <tr>\n",
       "      <th>631</th>\n",
       "      <td>1008</td>\n",
       "      <td>Here Are Ways To Get Your Kids to Wear a Face ...</td>\n",
       "      <td>Confirmed cases of coronavirus disease are sti...</td>\n",
       "      <td>https://www.latinpost.com/articles/146543/2020...</td>\n",
       "    </tr>\n",
       "    <tr>\n",
       "      <th>...</th>\n",
       "      <td>...</td>\n",
       "      <td>...</td>\n",
       "      <td>...</td>\n",
       "      <td>...</td>\n",
       "    </tr>\n",
       "    <tr>\n",
       "      <th>8872</th>\n",
       "      <td>16714</td>\n",
       "      <td>These KN95 masks are in stock—and on sale—at A...</td>\n",
       "      <td>Yahoo Life Shopping These KN95 masks are in st...</td>\n",
       "      <td>https://www.yahoo.com/lifestyle/kn95-amazon-sa...</td>\n",
       "    </tr>\n",
       "    <tr>\n",
       "      <th>8907</th>\n",
       "      <td>16839</td>\n",
       "      <td>MASK OF FUTURE</td>\n",
       "      <td>http://feedproxy.google.com/~r/DrudgeReportFee...</td>\n",
       "      <td>https://clarion.causeaction.com/2020/07/22/mas...</td>\n",
       "    </tr>\n",
       "    <tr>\n",
       "      <th>8995</th>\n",
       "      <td>17163</td>\n",
       "      <td>Trump now says 'many people say that it is Pat...</td>\n",
       "      <td>President Donald Trump dramatically shifted hi...</td>\n",
       "      <td>https://www.businessinsider.com/8-times-trump-...</td>\n",
       "    </tr>\n",
       "    <tr>\n",
       "      <th>9014</th>\n",
       "      <td>17246</td>\n",
       "      <td>Statewide mask mandate issued by Gov. Walz</td>\n",
       "      <td>Wearing a face mask while indoors is now a req...</td>\n",
       "      <td>https://www.swnewsmedia.com/chaska_herald/stat...</td>\n",
       "    </tr>\n",
       "    <tr>\n",
       "      <th>9097</th>\n",
       "      <td>17592</td>\n",
       "      <td>Michigan Gov. Gretchen Whitmer Wants President...</td>\n",
       "      <td>President Donald Trump, who for months has bee...</td>\n",
       "      <td>https://reason.com/2020/07/22/michigan-gov-gre...</td>\n",
       "    </tr>\n",
       "  </tbody>\n",
       "</table>\n",
       "<p>100 rows × 4 columns</p>\n",
       "</div>"
      ],
      "text/plain": [
       "         id                                              title  \\\n",
       "164     274  Goal: 30,000-plus masks – Santa Barbara News-P...   \n",
       "305     505  Do I Have To Wear A Face Mask? What You Need T...   \n",
       "418     718  Sweating Under The Face Mask Could Be Causing ...   \n",
       "585     936  COVID-19: Wrong use of face mask hazardous – L...   \n",
       "631    1008  Here Are Ways To Get Your Kids to Wear a Face ...   \n",
       "...     ...                                                ...   \n",
       "8872  16714  These KN95 masks are in stock—and on sale—at A...   \n",
       "8907  16839                                     MASK OF FUTURE   \n",
       "8995  17163  Trump now says 'many people say that it is Pat...   \n",
       "9014  17246         Statewide mask mandate issued by Gov. Walz   \n",
       "9097  17592  Michigan Gov. Gretchen Whitmer Wants President...   \n",
       "\n",
       "                                                   text  \\\n",
       "164   Santa Barbara Bucket Brigade makes progress du...   \n",
       "305   Gov. Eric Holcomb announced Wednesday Indiana ...   \n",
       "418   Hey, you are not subscribed. Click here to sub...   \n",
       "585   A Medical Laboratory Scientist, Michael Idoko,...   \n",
       "631   Confirmed cases of coronavirus disease are sti...   \n",
       "...                                                 ...   \n",
       "8872  Yahoo Life Shopping These KN95 masks are in st...   \n",
       "8907  http://feedproxy.google.com/~r/DrudgeReportFee...   \n",
       "8995  President Donald Trump dramatically shifted hi...   \n",
       "9014  Wearing a face mask while indoors is now a req...   \n",
       "9097  President Donald Trump, who for months has bee...   \n",
       "\n",
       "                                                    url  \n",
       "164   https://ten15am.org/goal-30000-plus-masks-sant...  \n",
       "305   http://wvpe.org/post/do-i-have-wear-face-mask-...  \n",
       "418   https://doctor.ndtv.com/skin/sweating-under-th...  \n",
       "585   https://dailynigerian.com/covid-19-wrong-use-o...  \n",
       "631   https://www.latinpost.com/articles/146543/2020...  \n",
       "...                                                 ...  \n",
       "8872  https://www.yahoo.com/lifestyle/kn95-amazon-sa...  \n",
       "8907  https://clarion.causeaction.com/2020/07/22/mas...  \n",
       "8995  https://www.businessinsider.com/8-times-trump-...  \n",
       "9014  https://www.swnewsmedia.com/chaska_herald/stat...  \n",
       "9097  https://reason.com/2020/07/22/michigan-gov-gre...  \n",
       "\n",
       "[100 rows x 4 columns]"
      ]
     },
     "execution_count": 48,
     "metadata": {},
     "output_type": "execute_result"
    }
   ],
   "source": [
    "#Performing manual inspection of Webhose Fake Dataset.  This information is critical because we can identify proponents of misinformation \n",
    "#via the urls (we can red flad these sites)\n",
    "df9.head(100)"
   ]
  },
  {
   "cell_type": "code",
   "execution_count": 139,
   "metadata": {},
   "outputs": [],
   "source": [
    "#Isolating the Webhose Fake URLs ---which we believe is the most useful information.  These sites can labeled as proponents of \n",
    "#misinformation, i.e. FAKE NEWS\n",
    "df10=df9['url']"
   ]
  },
  {
   "cell_type": "code",
   "execution_count": 137,
   "metadata": {},
   "outputs": [
    {
     "data": {
      "text/plain": [
       "266"
      ]
     },
     "execution_count": 137,
     "metadata": {},
     "output_type": "execute_result"
    }
   ],
   "source": [
    "len(df10)"
   ]
  },
  {
   "cell_type": "code",
   "execution_count": 157,
   "metadata": {},
   "outputs": [
    {
     "data": {
      "text/plain": [
       "164     https://ten15am.org/goal-30000-plus-masks-sant...\n",
       "305     http://wvpe.org/post/do-i-have-wear-face-mask-...\n",
       "418     https://doctor.ndtv.com/skin/sweating-under-th...\n",
       "585     https://dailynigerian.com/covid-19-wrong-use-o...\n",
       "631     https://www.latinpost.com/articles/146543/2020...\n",
       "657     https://themazatlanpost.com/2020/07/23/amlo-do...\n",
       "729     https://www.wlwt.com/article/dewine-more-than-...\n",
       "1357    https://www.southcoastregister.com.au/story/68...\n",
       "1396    https://www.tomsguide.com/news/imasc-breakthro...\n",
       "1429    https://news.sky.com/story/coronavirus-what-sh...\n",
       "1700            http://www.teo-education.com/teo/?p=55594\n",
       "1743    https://www.bignewsnetwork.com/news/265866540/...\n",
       "1746            http://www.teo-education.com/teo/?p=55592\n",
       "1750    https://www.ladbible.com/news/uk-face-masks-co...\n",
       "2000    https://www.sciencealert.com/new-prototype-n95...\n",
       "2371    https://www.realclearhealth.com/2020/07/23/gov...\n",
       "2462            http://www.teo-education.com/teo/?p=55579\n",
       "2477    https://www.kgw.com/article/news/local/oregons...\n",
       "2528    https://thecaliforniasun.com/nobody-denim-work...\n",
       "2586    https://www.paddleyourownkanoo.com/2020/07/23/...\n",
       "2866    https://www.washingtonexaminer.com/news/about-...\n",
       "2888    https://www.aspentimes.com/opinion/letters-to-...\n",
       "2906    https://www.nottinghampost.com/whats-on/shoppi...\n",
       "2995    https://tennesseestar.com/2020/07/23/whitmer-c...\n",
       "3589    https://www.wfmj.com/story/42401760/do-masks-h...\n",
       "Name: url, dtype: object"
      ]
     },
     "execution_count": 157,
     "metadata": {},
     "output_type": "execute_result"
    }
   ],
   "source": [
    "#Visual Inspection of the Fake News URLs\n",
    "df10.head(25)"
   ]
  },
  {
   "cell_type": "markdown",
   "metadata": {},
   "source": [
    "#Entity Analysis:  of Webhose Real + Webhose Fake + Original Fake News Datasets"
   ]
  },
  {
   "cell_type": "code",
   "execution_count": 107,
   "metadata": {},
   "outputs": [
    {
     "data": {
      "text/plain": [
       "24789"
      ]
     },
     "execution_count": 107,
     "metadata": {},
     "output_type": "execute_result"
    }
   ],
   "source": [
    "len(df8)"
   ]
  },
  {
   "cell_type": "code",
   "execution_count": 108,
   "metadata": {},
   "outputs": [],
   "source": [
    "#Extracting text from Webhose Real dataset / datafram \n",
    "\n",
    "news_df=df8['text']"
   ]
  },
  {
   "cell_type": "code",
   "execution_count": 109,
   "metadata": {},
   "outputs": [
    {
     "data": {
      "text/plain": [
       "24789"
      ]
     },
     "execution_count": 109,
     "metadata": {},
     "output_type": "execute_result"
    }
   ],
   "source": [
    "len(news_df)"
   ]
  },
  {
   "cell_type": "code",
   "execution_count": 110,
   "metadata": {},
   "outputs": [
    {
     "data": {
      "text/plain": [
       "0     Chinese Ambassador to Britain Liu Xiaoming spe...\n",
       "1     A staff member displays samples of the COVID-1...\n",
       "2     Blockchain in Education Market Size, by Global...\n",
       "3     Emirates, the largest airline in the Middle Ea...\n",
       "4     City’s Democratic mayor, Ted Wheeler, teargass...\n",
       "5     Atlanta-Based Citiri Receives Growth Investmen...\n",
       "6     2020 Catholic Immigrant Integration Initiative...\n",
       "7     Picture Supply : AP\\nFILE The World Well being...\n",
       "8     /PRNewswire/ -- Shreis Scalene Therapeutics LL...\n",
       "9     Zynex Schedules 2020 Second Quarter Earnings N...\n",
       "10    DUBLIN–( BUSINESS WIRE )–The “Europe Data Prot...\n",
       "11    SINGAPORE – Mr Khaw Boon Wan’s dengue diagnosi...\n",
       "12    160 Persons Test Positive for Coronavirus in U...\n",
       "13    /PRNewswire/ -- The video inspection equipment...\n",
       "14    Five countries have been identified as respons...\n",
       "15    6 Share\\nAnurag Kashyap said that while Karan ...\n",
       "16    Instead of waiting for instructions from autho...\n",
       "17    Last week, a Black Lives Matter business owner...\n",
       "18    Global Remote Healthcare Industry Will Reach $...\n",
       "19    Barter & Shake launches Experimental To-Go Coc...\n",
       "Name: text, dtype: object"
      ]
     },
     "execution_count": 110,
     "metadata": {},
     "output_type": "execute_result"
    }
   ],
   "source": [
    "#Inspecting the df to ensure proper text extraction \n",
    "news_df.head(20)"
   ]
  },
  {
   "cell_type": "code",
   "execution_count": 111,
   "metadata": {},
   "outputs": [
    {
     "data": {
      "text/plain": [
       "25035    After falling for the first time in 10 weeks, ...\n",
       "25036    I am a lifelong resident of Orofino and a Regi...\n",
       "25037    News and Notes\\nby Venturans for Responsible &...\n",
       "25038    By pixelheadphoto digitalskillet\\nOPINION\\nLik...\n",
       "25039    Ventura Art Scene A unique old Italian techniq...\n",
       "25040    Brazil Reports Record Cases; Texas Deaths Hit ...\n",
       "25041    Knowing where to go to get the care you need c...\n",
       "25042    Author response: Neurologic manifestations in ...\n",
       "25043    By Beth Lawrence The Jackson County Board of C...\n",
       "25044    The world today is facing unprecedented challe...\n",
       "25045    Dear Business Owners, Community Members, Paren...\n",
       "25046    In about two weeks millions of Americans could...\n",
       "25047    The coronavirus crisis has created a critical ...\n",
       "25048    Researchers have conducted one of the first st...\n",
       "25049    Who We’re Supporting: American Red Cross - CA ...\n",
       "25050    autoimmune diseases We have read the recent re...\n",
       "25051    Story collection: Chronicling the impact of th...\n",
       "25052    Many health systems leveraged on-demand virtua...\n",
       "25053    Chance to comment on latest airport plans 22 J...\n",
       "25054    In one of South Asia's poorest countries, migr...\n",
       "Name: text, dtype: object"
      ]
     },
     "execution_count": 111,
     "metadata": {},
     "output_type": "execute_result"
    }
   ],
   "source": [
    "news_df.tail(20)"
   ]
  },
  {
   "cell_type": "code",
   "execution_count": 112,
   "metadata": {},
   "outputs": [
    {
     "name": "stdout",
     "output_type": "stream",
     "text": [
      "Requirement already satisfied: spacy in /Users/batman/anaconda3/lib/python3.7/site-packages (2.3.1)\n",
      "Requirement already satisfied: srsly<1.1.0,>=1.0.2 in /Users/batman/anaconda3/lib/python3.7/site-packages (from spacy) (1.0.2)\n",
      "Requirement already satisfied: preshed<3.1.0,>=3.0.2 in /Users/batman/anaconda3/lib/python3.7/site-packages (from spacy) (3.0.2)\n",
      "Requirement already satisfied: tqdm<5.0.0,>=4.38.0 in /Users/batman/anaconda3/lib/python3.7/site-packages (from spacy) (4.47.0)\n",
      "Requirement already satisfied: setuptools in /Users/batman/anaconda3/lib/python3.7/site-packages (from spacy) (47.3.1.post20200622)\n",
      "Requirement already satisfied: blis<0.5.0,>=0.4.0 in /Users/batman/anaconda3/lib/python3.7/site-packages (from spacy) (0.4.1)\n",
      "Requirement already satisfied: requests<3.0.0,>=2.13.0 in /Users/batman/anaconda3/lib/python3.7/site-packages (from spacy) (2.24.0)\n",
      "Requirement already satisfied: wasabi<1.1.0,>=0.4.0 in /Users/batman/anaconda3/lib/python3.7/site-packages (from spacy) (0.7.0)\n",
      "Requirement already satisfied: plac<1.2.0,>=0.9.6 in /Users/batman/anaconda3/lib/python3.7/site-packages (from spacy) (1.1.3)\n",
      "Requirement already satisfied: thinc==7.4.1 in /Users/batman/anaconda3/lib/python3.7/site-packages (from spacy) (7.4.1)\n",
      "Requirement already satisfied: catalogue<1.1.0,>=0.0.7 in /Users/batman/anaconda3/lib/python3.7/site-packages (from spacy) (1.0.0)\n",
      "Requirement already satisfied: cymem<2.1.0,>=2.0.2 in /Users/batman/anaconda3/lib/python3.7/site-packages (from spacy) (2.0.3)\n",
      "Requirement already satisfied: numpy>=1.15.0 in /Users/batman/anaconda3/lib/python3.7/site-packages (from spacy) (1.18.5)\n",
      "Requirement already satisfied: murmurhash<1.1.0,>=0.28.0 in /Users/batman/anaconda3/lib/python3.7/site-packages (from spacy) (1.0.2)\n",
      "Requirement already satisfied: chardet<4,>=3.0.2 in /Users/batman/anaconda3/lib/python3.7/site-packages (from requests<3.0.0,>=2.13.0->spacy) (3.0.4)\n",
      "Requirement already satisfied: urllib3!=1.25.0,!=1.25.1,<1.26,>=1.21.1 in /Users/batman/anaconda3/lib/python3.7/site-packages (from requests<3.0.0,>=2.13.0->spacy) (1.25.9)\n",
      "Requirement already satisfied: idna<3,>=2.5 in /Users/batman/anaconda3/lib/python3.7/site-packages (from requests<3.0.0,>=2.13.0->spacy) (2.10)\n",
      "Requirement already satisfied: certifi>=2017.4.17 in /Users/batman/anaconda3/lib/python3.7/site-packages (from requests<3.0.0,>=2.13.0->spacy) (2020.6.20)\n",
      "Requirement already satisfied: importlib-metadata>=0.20; python_version < \"3.8\" in /Users/batman/anaconda3/lib/python3.7/site-packages (from catalogue<1.1.0,>=0.0.7->spacy) (1.7.0)\n",
      "Requirement already satisfied: zipp>=0.5 in /Users/batman/anaconda3/lib/python3.7/site-packages (from importlib-metadata>=0.20; python_version < \"3.8\"->catalogue<1.1.0,>=0.0.7->spacy) (3.1.0)\n"
     ]
    }
   ],
   "source": [
    "#Importing Spacy libraries for named entities recognition\n",
    "!pip install spacy \n",
    "import spacy\n",
    "from spacy import displacy\n",
    "from collections import Counter\n",
    "import en_core_web_sm\n",
    "nlp = en_core_web_sm.load()\n",
    "from spacy.util import minibatch, compounding\n",
    "from pathlib import Path\n",
    "import random"
   ]
  },
  {
   "cell_type": "markdown",
   "metadata": {},
   "source": [
    "We will be using SpaCy’s named entity recognition to search for the following entity types:  Person and Organization"
   ]
  },
  {
   "cell_type": "code",
   "execution_count": 113,
   "metadata": {},
   "outputs": [
    {
     "name": "stdout",
     "output_type": "stream",
     "text": [
      "[(Chinese, 'NORP'), (Britain, 'PERSON'), (Liu, 'PERSON'), (Xiaoming, 'PERSON'), (1, 'CARDINAL'), (2, 'CARDINAL'), (3, 'CARDINAL'), (the, 'LOC'), (Middle, 'LOC'), (Ea, 'LOC'), (4, 'CARDINAL'), (Democratic, 'NORP'), (Ted, 'PERSON'), (Wheeler, 'PERSON'), (25050, 'DATE'), (25051, 'CARDINAL'), (25052, 'CARDINAL'), (25053, 'CARDINAL'), (22, 'CARDINAL'), (South, 'LOC'), (Asia, 'LOC'), ('s, 'LOC'), (24789, 'CARDINAL')]\n"
     ]
    }
   ],
   "source": [
    "#Get the collection of entities from our Webhose Real dataset\n",
    "\n",
    "doc = nlp(str(news_df))\n",
    "print([(word, word.ent_type_) for word in doc if word.ent_type_])"
   ]
  },
  {
   "cell_type": "code",
   "execution_count": 114,
   "metadata": {},
   "outputs": [
    {
     "data": {
      "text/plain": [
       "Counter({'NORP': 2, 'PERSON': 2, 'CARDINAL': 9, 'LOC': 2, 'DATE': 1})"
      ]
     },
     "execution_count": 114,
     "metadata": {},
     "output_type": "execute_result"
    }
   ],
   "source": [
    "#Our collection of entities in the articles are represented with the below unique labels:\n",
    "labels = [x.label_ for x in doc.ents]\n",
    "Counter(labels)"
   ]
  },
  {
   "cell_type": "code",
   "execution_count": 134,
   "metadata": {},
   "outputs": [
    {
     "data": {
      "text/plain": [
       "[('Chinese', 1),\n",
       " ('Britain Liu Xiaoming', 1),\n",
       " ('1', 1),\n",
       " ('2', 1),\n",
       " ('3', 1),\n",
       " ('the Middle Ea', 1),\n",
       " ('4', 1),\n",
       " ('Democratic', 1),\n",
       " ('Ted Wheeler', 1),\n",
       " ('25050', 1),\n",
       " ('25051', 1),\n",
       " ('25052', 1),\n",
       " ('25053', 1),\n",
       " ('22', 1),\n",
       " (\"South Asia's\", 1),\n",
       " ('24789', 1)]"
      ]
     },
     "execution_count": 134,
     "metadata": {},
     "output_type": "execute_result"
    }
   ],
   "source": [
    "# This version shows the most frequent Tokens in the Webhose Real dataset without naming the type of entities.\n",
    "items = [x.text for x in doc.ents]\n",
    "Counter(items).most_common()"
   ]
  },
  {
   "cell_type": "code",
   "execution_count": 116,
   "metadata": {},
   "outputs": [
    {
     "data": {
      "text/plain": [
       "Counter({(Chinese, 'NORP', 381): 1,\n",
       "         (Britain Liu Xiaoming, 'PERSON', 380): 1,\n",
       "         (1, 'CARDINAL', 397): 1,\n",
       "         (2, 'CARDINAL', 397): 1,\n",
       "         (3, 'CARDINAL', 397): 1,\n",
       "         (the Middle Ea, 'LOC', 385): 1,\n",
       "         (4, 'CARDINAL', 397): 1,\n",
       "         (Democratic, 'NORP', 381): 1,\n",
       "         (Ted Wheeler, 'PERSON', 380): 1,\n",
       "         (25050, 'DATE', 391): 1,\n",
       "         (25051, 'CARDINAL', 397): 1,\n",
       "         (25052, 'CARDINAL', 397): 1,\n",
       "         (25053, 'CARDINAL', 397): 1,\n",
       "         (22, 'CARDINAL', 397): 1,\n",
       "         (South Asia's, 'LOC', 385): 1,\n",
       "         (24789, 'CARDINAL', 397): 1})"
      ]
     },
     "execution_count": 116,
     "metadata": {},
     "output_type": "execute_result"
    }
   ],
   "source": [
    "#2nd Method of determining the entities \n",
    "new_labels=[(i, i.label_, i.label) for i in doc.ents] \n",
    "Counter(new_labels)"
   ]
  },
  {
   "cell_type": "code",
   "execution_count": 117,
   "metadata": {},
   "outputs": [
    {
     "data": {
      "text/plain": [
       "[((Chinese, 'NORP', 381), 1),\n",
       " ((Britain Liu Xiaoming, 'PERSON', 380), 1),\n",
       " ((1, 'CARDINAL', 397), 1),\n",
       " ((2, 'CARDINAL', 397), 1),\n",
       " ((3, 'CARDINAL', 397), 1),\n",
       " ((the Middle Ea, 'LOC', 385), 1),\n",
       " ((4, 'CARDINAL', 397), 1),\n",
       " ((Democratic, 'NORP', 381), 1),\n",
       " ((Ted Wheeler, 'PERSON', 380), 1),\n",
       " ((25050, 'DATE', 391), 1),\n",
       " ((25051, 'CARDINAL', 397), 1),\n",
       " ((25052, 'CARDINAL', 397), 1),\n",
       " ((25053, 'CARDINAL', 397), 1),\n",
       " ((22, 'CARDINAL', 397), 1),\n",
       " ((South Asia's, 'LOC', 385), 1),\n",
       " ((24789, 'CARDINAL', 397), 1)]"
      ]
     },
     "execution_count": 117,
     "metadata": {},
     "output_type": "execute_result"
    }
   ],
   "source": [
    "#The following are the most frequent tokens\n",
    "Counter(new_labels).most_common()"
   ]
  },
  {
   "cell_type": "markdown",
   "metadata": {},
   "source": [
    " Let's analyze our Webhose Fake entities and compare the findings"
   ]
  },
  {
   "cell_type": "code",
   "execution_count": 118,
   "metadata": {},
   "outputs": [
    {
     "data": {
      "text/html": [
       "<div>\n",
       "<style scoped>\n",
       "    .dataframe tbody tr th:only-of-type {\n",
       "        vertical-align: middle;\n",
       "    }\n",
       "\n",
       "    .dataframe tbody tr th {\n",
       "        vertical-align: top;\n",
       "    }\n",
       "\n",
       "    .dataframe thead th {\n",
       "        text-align: right;\n",
       "    }\n",
       "</style>\n",
       "<table border=\"1\" class=\"dataframe\">\n",
       "  <thead>\n",
       "    <tr style=\"text-align: right;\">\n",
       "      <th></th>\n",
       "      <th>id</th>\n",
       "      <th>title</th>\n",
       "      <th>text</th>\n",
       "      <th>url</th>\n",
       "    </tr>\n",
       "  </thead>\n",
       "  <tbody>\n",
       "    <tr>\n",
       "      <th>164</th>\n",
       "      <td>274</td>\n",
       "      <td>Goal: 30,000-plus masks – Santa Barbara News-P...</td>\n",
       "      <td>Santa Barbara Bucket Brigade makes progress du...</td>\n",
       "      <td>https://ten15am.org/goal-30000-plus-masks-sant...</td>\n",
       "    </tr>\n",
       "    <tr>\n",
       "      <th>305</th>\n",
       "      <td>505</td>\n",
       "      <td>Do I Have To Wear A Face Mask? What You Need T...</td>\n",
       "      <td>Gov. Eric Holcomb announced Wednesday Indiana ...</td>\n",
       "      <td>http://wvpe.org/post/do-i-have-wear-face-mask-...</td>\n",
       "    </tr>\n",
       "    <tr>\n",
       "      <th>418</th>\n",
       "      <td>718</td>\n",
       "      <td>Sweating Under The Face Mask Could Be Causing ...</td>\n",
       "      <td>Hey, you are not subscribed. Click here to sub...</td>\n",
       "      <td>https://doctor.ndtv.com/skin/sweating-under-th...</td>\n",
       "    </tr>\n",
       "    <tr>\n",
       "      <th>585</th>\n",
       "      <td>936</td>\n",
       "      <td>COVID-19: Wrong use of face mask hazardous – L...</td>\n",
       "      <td>A Medical Laboratory Scientist, Michael Idoko,...</td>\n",
       "      <td>https://dailynigerian.com/covid-19-wrong-use-o...</td>\n",
       "    </tr>\n",
       "    <tr>\n",
       "      <th>631</th>\n",
       "      <td>1008</td>\n",
       "      <td>Here Are Ways To Get Your Kids to Wear a Face ...</td>\n",
       "      <td>Confirmed cases of coronavirus disease are sti...</td>\n",
       "      <td>https://www.latinpost.com/articles/146543/2020...</td>\n",
       "    </tr>\n",
       "    <tr>\n",
       "      <th>657</th>\n",
       "      <td>1048</td>\n",
       "      <td>AMLO downplays the importance of wearing face ...</td>\n",
       "      <td>Home National AMLO downplays the importance of...</td>\n",
       "      <td>https://themazatlanpost.com/2020/07/23/amlo-do...</td>\n",
       "    </tr>\n",
       "    <tr>\n",
       "      <th>729</th>\n",
       "      <td>1223</td>\n",
       "      <td>DeWine: More than 25 Ohio students test positi...</td>\n",
       "      <td>DeWine: More than 25 Ohio students test positi...</td>\n",
       "      <td>https://www.wlwt.com/article/dewine-more-than-...</td>\n",
       "    </tr>\n",
       "    <tr>\n",
       "      <th>1357</th>\n",
       "      <td>2366</td>\n",
       "      <td>Face masks are a sign of respect for others as...</td>\n",
       "      <td>Latest News Editorial\\nA little over six month...</td>\n",
       "      <td>https://www.southcoastregister.com.au/story/68...</td>\n",
       "    </tr>\n",
       "    <tr>\n",
       "      <th>1396</th>\n",
       "      <td>2431</td>\n",
       "      <td>iMASC breakthrough rivals N95 masks — and it’s...</td>\n",
       "      <td>Researchers at MIT and Brigham and Women’s Hos...</td>\n",
       "      <td>https://www.tomsguide.com/news/imasc-breakthro...</td>\n",
       "    </tr>\n",
       "    <tr>\n",
       "      <th>1429</th>\n",
       "      <td>2487</td>\n",
       "      <td>Coronavirus: What shops do I have to wear a fa...</td>\n",
       "      <td>Face coverings will be compulsory in shops in ...</td>\n",
       "      <td>https://news.sky.com/story/coronavirus-what-sh...</td>\n",
       "    </tr>\n",
       "  </tbody>\n",
       "</table>\n",
       "</div>"
      ],
      "text/plain": [
       "        id                                              title  \\\n",
       "164    274  Goal: 30,000-plus masks – Santa Barbara News-P...   \n",
       "305    505  Do I Have To Wear A Face Mask? What You Need T...   \n",
       "418    718  Sweating Under The Face Mask Could Be Causing ...   \n",
       "585    936  COVID-19: Wrong use of face mask hazardous – L...   \n",
       "631   1008  Here Are Ways To Get Your Kids to Wear a Face ...   \n",
       "657   1048  AMLO downplays the importance of wearing face ...   \n",
       "729   1223  DeWine: More than 25 Ohio students test positi...   \n",
       "1357  2366  Face masks are a sign of respect for others as...   \n",
       "1396  2431  iMASC breakthrough rivals N95 masks — and it’s...   \n",
       "1429  2487  Coronavirus: What shops do I have to wear a fa...   \n",
       "\n",
       "                                                   text  \\\n",
       "164   Santa Barbara Bucket Brigade makes progress du...   \n",
       "305   Gov. Eric Holcomb announced Wednesday Indiana ...   \n",
       "418   Hey, you are not subscribed. Click here to sub...   \n",
       "585   A Medical Laboratory Scientist, Michael Idoko,...   \n",
       "631   Confirmed cases of coronavirus disease are sti...   \n",
       "657   Home National AMLO downplays the importance of...   \n",
       "729   DeWine: More than 25 Ohio students test positi...   \n",
       "1357  Latest News Editorial\\nA little over six month...   \n",
       "1396  Researchers at MIT and Brigham and Women’s Hos...   \n",
       "1429  Face coverings will be compulsory in shops in ...   \n",
       "\n",
       "                                                    url  \n",
       "164   https://ten15am.org/goal-30000-plus-masks-sant...  \n",
       "305   http://wvpe.org/post/do-i-have-wear-face-mask-...  \n",
       "418   https://doctor.ndtv.com/skin/sweating-under-th...  \n",
       "585   https://dailynigerian.com/covid-19-wrong-use-o...  \n",
       "631   https://www.latinpost.com/articles/146543/2020...  \n",
       "657   https://themazatlanpost.com/2020/07/23/amlo-do...  \n",
       "729   https://www.wlwt.com/article/dewine-more-than-...  \n",
       "1357  https://www.southcoastregister.com.au/story/68...  \n",
       "1396  https://www.tomsguide.com/news/imasc-breakthro...  \n",
       "1429  https://news.sky.com/story/coronavirus-what-sh...  "
      ]
     },
     "execution_count": 118,
     "metadata": {},
     "output_type": "execute_result"
    }
   ],
   "source": [
    "df9.head(10)"
   ]
  },
  {
   "cell_type": "code",
   "execution_count": 119,
   "metadata": {},
   "outputs": [
    {
     "data": {
      "text/plain": [
       "266"
      ]
     },
     "execution_count": 119,
     "metadata": {},
     "output_type": "execute_result"
    }
   ],
   "source": [
    "#Checking the size of the data. We have 72 articles\n",
    "len(df9)"
   ]
  },
  {
   "cell_type": "code",
   "execution_count": 120,
   "metadata": {},
   "outputs": [
    {
     "data": {
      "text/plain": [
       "164     Santa Barbara Bucket Brigade makes progress du...\n",
       "305     Gov. Eric Holcomb announced Wednesday Indiana ...\n",
       "418     Hey, you are not subscribed. Click here to sub...\n",
       "585     A Medical Laboratory Scientist, Michael Idoko,...\n",
       "631     Confirmed cases of coronavirus disease are sti...\n",
       "657     Home National AMLO downplays the importance of...\n",
       "729     DeWine: More than 25 Ohio students test positi...\n",
       "1357    Latest News Editorial\\nA little over six month...\n",
       "1396    Researchers at MIT and Brigham and Women’s Hos...\n",
       "1429    Face coverings will be compulsory in shops in ...\n",
       "1700    Covid-19: Mask-wearing mandatory from Aug 1 Co...\n",
       "1743    Man who helped U.S. assassinate Qasem Soleiman...\n",
       "1746    Covid-19: Mask-wearing mandatory from Aug 1 » ...\n",
       "1750    Face Masks Compulsory In English Coffee Shops ...\n",
       "2000    Not every mask is equal. As countries around t...\n",
       "2371    Jacob Sullum July 23, 2020 (Michigan Office of...\n",
       "2462    NST Leader: Make face masks mandatory The gove...\n",
       "2477    Starting Friday, children 5 and older will be ...\n",
       "2528    Tailors have been working longer hours to prod...\n",
       "2586    American Airlines has quickly moved to toughen...\n",
       "Name: text, dtype: object"
      ]
     },
     "execution_count": 120,
     "metadata": {},
     "output_type": "execute_result"
    }
   ],
   "source": [
    "#Extracting the text from Webhose Fake articles \n",
    "Fake_articles=df9['text']\n",
    "Fake_articles.head(20)"
   ]
  },
  {
   "cell_type": "code",
   "execution_count": 121,
   "metadata": {},
   "outputs": [
    {
     "name": "stdout",
     "output_type": "stream",
     "text": [
      "[(164, 'CARDINAL'), (Santa, 'ORG'), (Barbara, 'ORG'), (Bucket, 'ORG'), (Brigade, 'ORG'), (305, 'CARDINAL'), (Eric, 'PERSON'), (Holcomb, 'PERSON'), (Wednesday, 'DATE'), (Indiana, 'GPE'), (418, 'CARDINAL'), (585, 'CARDINAL'), (Michael, 'PERSON'), (Idoko, 'PERSON'), (631, 'CARDINAL'), (Wednesday, 'DATE'), (,, 'DATE'), (July, 'DATE'), (22, 'DATE'), (,, 'DATE'), (2020, 'DATE'), (24810, 'DATE'), (Nathan, 'ORG'), (Frey, 'ORG'), (|, 'ORG'), (Jul, 'ORG'), (20, 'ORG'), (Holcomb, 'PERSON'), (25031, 'CARDINAL'), (Length, 'PERSON'), (266, 'CARDINAL')]\n"
     ]
    }
   ],
   "source": [
    "#Get the collection of the entities from our Webhose Fake dataset \n",
    "\n",
    "news = nlp(str(Fake_articles))\n",
    "print([(word, word.ent_type_) for word in news if word.ent_type_])"
   ]
  },
  {
   "cell_type": "code",
   "execution_count": 122,
   "metadata": {},
   "outputs": [
    {
     "data": {
      "text/plain": [
       "143"
      ]
     },
     "execution_count": 122,
     "metadata": {},
     "output_type": "execute_result"
    }
   ],
   "source": [
    "#Checking the size of entities in our corpus\n",
    "len(news)"
   ]
  },
  {
   "cell_type": "code",
   "execution_count": 123,
   "metadata": {},
   "outputs": [
    {
     "data": {
      "text/plain": [
       "Counter({'CARDINAL': 7, 'ORG': 2, 'PERSON': 4, 'DATE': 3, 'GPE': 1})"
      ]
     },
     "execution_count": 123,
     "metadata": {},
     "output_type": "execute_result"
    }
   ],
   "source": [
    "#Our collection of entities in the Webhose Fake articles are represented by 5 unique labels:\n",
    "labels_news = [x.label_ for x in news.ents]\n",
    "Counter(labels_news)"
   ]
  },
  {
   "cell_type": "code",
   "execution_count": 124,
   "metadata": {},
   "outputs": [
    {
     "data": {
      "text/plain": [
       "Counter({(164, 'CARDINAL', 397): 1,\n",
       "         (Santa Barbara Bucket Brigade, 'ORG', 383): 1,\n",
       "         (305, 'CARDINAL', 397): 1,\n",
       "         (Eric Holcomb, 'PERSON', 380): 1,\n",
       "         (Wednesday, 'DATE', 391): 1,\n",
       "         (Indiana, 'GPE', 384): 1,\n",
       "         (418, 'CARDINAL', 397): 1,\n",
       "         (585, 'CARDINAL', 397): 1,\n",
       "         (Michael Idoko, 'PERSON', 380): 1,\n",
       "         (631, 'CARDINAL', 397): 1,\n",
       "         (Wednesday, July 22, 2020, 'DATE', 391): 1,\n",
       "         (24810, 'DATE', 391): 1,\n",
       "         (Nathan Frey | Jul 20, 'ORG', 383): 1,\n",
       "         (Holcomb, 'PERSON', 380): 1,\n",
       "         (25031, 'CARDINAL', 397): 1,\n",
       "         (Length, 'PERSON', 380): 1,\n",
       "         (266, 'CARDINAL', 397): 1})"
      ]
     },
     "execution_count": 124,
     "metadata": {},
     "output_type": "execute_result"
    }
   ],
   "source": [
    "#2nd Method: determine the entities of each token with the description of the type \n",
    "labels_news2=[(i, i.label_, i.label) for i in news.ents] \n",
    "Counter(labels_news2)"
   ]
  },
  {
   "cell_type": "code",
   "execution_count": 125,
   "metadata": {},
   "outputs": [
    {
     "data": {
      "text/plain": [
       "[((164, 'CARDINAL', 397), 1),\n",
       " ((Santa Barbara Bucket Brigade, 'ORG', 383), 1),\n",
       " ((305, 'CARDINAL', 397), 1),\n",
       " ((Eric Holcomb, 'PERSON', 380), 1),\n",
       " ((Wednesday, 'DATE', 391), 1),\n",
       " ((Indiana, 'GPE', 384), 1),\n",
       " ((418, 'CARDINAL', 397), 1),\n",
       " ((585, 'CARDINAL', 397), 1),\n",
       " ((Michael Idoko, 'PERSON', 380), 1),\n",
       " ((631, 'CARDINAL', 397), 1),\n",
       " ((Wednesday, July 22, 2020, 'DATE', 391), 1),\n",
       " ((24810, 'DATE', 391), 1),\n",
       " ((Nathan Frey | Jul 20, 'ORG', 383), 1),\n",
       " ((Holcomb, 'PERSON', 380), 1),\n",
       " ((25031, 'CARDINAL', 397), 1),\n",
       " ((Length, 'PERSON', 380), 1),\n",
       " ((266, 'CARDINAL', 397), 1)]"
      ]
     },
     "execution_count": 125,
     "metadata": {},
     "output_type": "execute_result"
    }
   ],
   "source": [
    "#The following are the most frequent tokens in the Webhose Fake dataset \n",
    "Counter(labels_news2).most_common(50)"
   ]
  },
  {
   "cell_type": "markdown",
   "metadata": {},
   "source": [
    "Analyzing the original Fake News dataset itself ---obtained via NewsGuardATech.com and not derived from our Webhose Dataset"
   ]
  },
  {
   "cell_type": "code",
   "execution_count": 126,
   "metadata": {},
   "outputs": [],
   "source": [
    "dfOrigFake = pd.read_csv('/Users/batman/Desktop/fake_news.csv')"
   ]
  },
  {
   "cell_type": "code",
   "execution_count": 127,
   "metadata": {},
   "outputs": [
    {
     "data": {
      "text/html": [
       "<div>\n",
       "<style scoped>\n",
       "    .dataframe tbody tr th:only-of-type {\n",
       "        vertical-align: middle;\n",
       "    }\n",
       "\n",
       "    .dataframe tbody tr th {\n",
       "        vertical-align: top;\n",
       "    }\n",
       "\n",
       "    .dataframe thead th {\n",
       "        text-align: right;\n",
       "    }\n",
       "</style>\n",
       "<table border=\"1\" class=\"dataframe\">\n",
       "  <thead>\n",
       "    <tr style=\"text-align: right;\">\n",
       "      <th></th>\n",
       "      <th>ur1</th>\n",
       "      <th>title</th>\n",
       "      <th>url2</th>\n",
       "      <th>text</th>\n",
       "    </tr>\n",
       "  </thead>\n",
       "  <tbody>\n",
       "    <tr>\n",
       "      <th>0</th>\n",
       "      <td>ActivistPost.com</td>\n",
       "      <td>Did Bill Gates and world economic forum predic...</td>\n",
       "      <td>https://www.nexusnewsfeed.com/article/human-ri...</td>\n",
       "      <td>In this report we take an inside look at Event...</td>\n",
       "    </tr>\n",
       "    <tr>\n",
       "      <th>1</th>\n",
       "      <td>AgeOfAutism.com</td>\n",
       "      <td>Coronavirus Can Be Caused By Viral Interferenc...</td>\n",
       "      <td>https://www.ageofautism.com/2020/01/coronaviru...</td>\n",
       "      <td>News and articles about CORONAVIRUS are everyw...</td>\n",
       "    </tr>\n",
       "    <tr>\n",
       "      <th>2</th>\n",
       "      <td>AmericanThinker.com</td>\n",
       "      <td>The Wuhan Virus Escaped from a Chinese Lab</td>\n",
       "      <td>https://www.americanthinker.com/articles/2020/...</td>\n",
       "      <td>First of all, Wuhan is a place and not a race,...</td>\n",
       "    </tr>\n",
       "    <tr>\n",
       "      <th>3</th>\n",
       "      <td>BB4SP.com</td>\n",
       "      <td>ER Doctors urge a reopening: Lockdown creating...</td>\n",
       "      <td>https://bb4sp.com/e-r-doctors-urge-a-reopening...</td>\n",
       "      <td>ER Doctors urge a reopening: Lockdown creating...</td>\n",
       "    </tr>\n",
       "    <tr>\n",
       "      <th>4</th>\n",
       "      <td>BuffaloChronicle.com</td>\n",
       "      <td>Cuomo considers banning cigarette sales for si...</td>\n",
       "      <td>https://buffalochronicle.com/2020/03/27/cuomo-...</td>\n",
       "      <td>Governor Andrew Cuomo is considering a tempora...</td>\n",
       "    </tr>\n",
       "  </tbody>\n",
       "</table>\n",
       "</div>"
      ],
      "text/plain": [
       "                    ur1                                              title  \\\n",
       "0      ActivistPost.com  Did Bill Gates and world economic forum predic...   \n",
       "1       AgeOfAutism.com  Coronavirus Can Be Caused By Viral Interferenc...   \n",
       "2   AmericanThinker.com         The Wuhan Virus Escaped from a Chinese Lab   \n",
       "3             BB4SP.com  ER Doctors urge a reopening: Lockdown creating...   \n",
       "4  BuffaloChronicle.com  Cuomo considers banning cigarette sales for si...   \n",
       "\n",
       "                                                url2  \\\n",
       "0  https://www.nexusnewsfeed.com/article/human-ri...   \n",
       "1  https://www.ageofautism.com/2020/01/coronaviru...   \n",
       "2  https://www.americanthinker.com/articles/2020/...   \n",
       "3  https://bb4sp.com/e-r-doctors-urge-a-reopening...   \n",
       "4  https://buffalochronicle.com/2020/03/27/cuomo-...   \n",
       "\n",
       "                                                text  \n",
       "0  In this report we take an inside look at Event...  \n",
       "1  News and articles about CORONAVIRUS are everyw...  \n",
       "2  First of all, Wuhan is a place and not a race,...  \n",
       "3  ER Doctors urge a reopening: Lockdown creating...  \n",
       "4  Governor Andrew Cuomo is considering a tempora...  "
      ]
     },
     "execution_count": 127,
     "metadata": {},
     "output_type": "execute_result"
    }
   ],
   "source": [
    "dfOrigFake.head(5)"
   ]
  },
  {
   "cell_type": "code",
   "execution_count": 128,
   "metadata": {},
   "outputs": [
    {
     "data": {
      "text/plain": [
       "0     In this report we take an inside look at Event...\n",
       "1     News and articles about CORONAVIRUS are everyw...\n",
       "2     First of all, Wuhan is a place and not a race,...\n",
       "3     ER Doctors urge a reopening: Lockdown creating...\n",
       "4     Governor Andrew Cuomo is considering a tempora...\n",
       "5     Last night the first confirmed case of the cor...\n",
       "6     There has been a shifting of positions on the ...\n",
       "7     Mary and I live in a tiny town in West Virgini...\n",
       "8     The Facts:A study published in the journal Vac...\n",
       "9     New information about face masks has emerged, ...\n",
       "10    Last weekend Dr. Vladimir Zelenko from New Yor...\n",
       "11    The “Blue Plague” is an intentional effort by ...\n",
       "12    With close to 200,000 cases of coronavirus acr...\n",
       "13    (Natural News) Every virology lab in the world...\n",
       "14    (Natural News) Two days ago, a paper published...\n",
       "15    Social distancing is being enforced across the...\n",
       "16    The medical community strongly advises the pop...\n",
       "17    Throughout the state’s history (save the last ...\n",
       "18    True or False? \"... a new coronavirus was iden...\n",
       "19    The Great UnReason of 2020—a fitting name, I t...\n",
       "Name: text, dtype: object"
      ]
     },
     "execution_count": 128,
     "metadata": {},
     "output_type": "execute_result"
    }
   ],
   "source": [
    "#Extracting only text\n",
    "text=dfOrigFake['text']\n",
    "text.head(20)"
   ]
  },
  {
   "cell_type": "code",
   "execution_count": 129,
   "metadata": {},
   "outputs": [
    {
     "name": "stdout",
     "output_type": "stream",
     "text": [
      "[(1, 'CARDINAL'), (CORONAVIRUS, 'ORG'), (2, 'CARDINAL'), (First, 'ORDINAL'), (Wuhan, 'GPE'), (3, 'CARDINAL'), (4, 'CARDINAL'), (Andrew, 'PERSON'), (Cuomo, 'PERSON'), (69, 'CARDINAL'), (70, 'CARDINAL'), (71, 'CARDINAL'), (Belgium, 'GPE'), (Maggie, 'PERSON'), (de, 'PERSON'), (Block, 'PERSON'), (72, 'CARDINAL'), (July, 'DATE'), (2nd, 'DATE'), (Texas, 'GPE'), (Greg, 'PERSON'), (Abbott, 'PERSON'), (73, 'CARDINAL'), (2019, 'DATE'), (Length, 'PERSON'), (74, 'CARDINAL')]\n"
     ]
    }
   ],
   "source": [
    "#Get the collection of the entities from our data \n",
    "\n",
    "news3 = nlp(str(text))\n",
    "print([(word, word.ent_type_) for word in news3 if word.ent_type_])"
   ]
  },
  {
   "cell_type": "code",
   "execution_count": 130,
   "metadata": {},
   "outputs": [
    {
     "data": {
      "text/plain": [
       "144"
      ]
     },
     "execution_count": 130,
     "metadata": {},
     "output_type": "execute_result"
    }
   ],
   "source": [
    "#Checking the size of entities in our corpus\n",
    "len(news3)"
   ]
  },
  {
   "cell_type": "code",
   "execution_count": 131,
   "metadata": {},
   "outputs": [
    {
     "data": {
      "text/plain": [
       "Counter({'CARDINAL': 10,\n",
       "         'ORG': 1,\n",
       "         'ORDINAL': 1,\n",
       "         'GPE': 3,\n",
       "         'PERSON': 4,\n",
       "         'DATE': 2})"
      ]
     },
     "execution_count": 131,
     "metadata": {},
     "output_type": "execute_result"
    }
   ],
   "source": [
    "#Our collection of entities in the Original Fake News dataset are represented by these labels:\n",
    "labels_news3 = [x.label_ for x in news3.ents]\n",
    "Counter(labels_news3)"
   ]
  },
  {
   "cell_type": "code",
   "execution_count": 132,
   "metadata": {},
   "outputs": [
    {
     "data": {
      "text/plain": [
       "Counter({(1, 'CARDINAL', 397): 1,\n",
       "         (CORONAVIRUS, 'ORG', 383): 1,\n",
       "         (2, 'CARDINAL', 397): 1,\n",
       "         (First, 'ORDINAL', 396): 1,\n",
       "         (Wuhan, 'GPE', 384): 1,\n",
       "         (3, 'CARDINAL', 397): 1,\n",
       "         (4, 'CARDINAL', 397): 1,\n",
       "         (Andrew Cuomo, 'PERSON', 380): 1,\n",
       "         (69, 'CARDINAL', 397): 1,\n",
       "         (70, 'CARDINAL', 397): 1,\n",
       "         (71, 'CARDINAL', 397): 1,\n",
       "         (Belgium, 'GPE', 384): 1,\n",
       "         (Maggie de Block, 'PERSON', 380): 1,\n",
       "         (72, 'CARDINAL', 397): 1,\n",
       "         (July 2nd, 'DATE', 391): 1,\n",
       "         (Texas, 'GPE', 384): 1,\n",
       "         (Greg Abbott, 'PERSON', 380): 1,\n",
       "         (73, 'CARDINAL', 397): 1,\n",
       "         (2019, 'DATE', 391): 1,\n",
       "         (Length, 'PERSON', 380): 1,\n",
       "         (74, 'CARDINAL', 397): 1})"
      ]
     },
     "execution_count": 132,
     "metadata": {},
     "output_type": "execute_result"
    }
   ],
   "source": [
    "#2nd Method: determine the entities of each token with the description of the type \n",
    "labels_fn=[(i, i.label_, i.label) for i in news3.ents] \n",
    "Counter(labels_fn)"
   ]
  },
  {
   "cell_type": "code",
   "execution_count": 133,
   "metadata": {},
   "outputs": [
    {
     "data": {
      "text/plain": [
       "[((1, 'CARDINAL', 397), 1),\n",
       " ((CORONAVIRUS, 'ORG', 383), 1),\n",
       " ((2, 'CARDINAL', 397), 1),\n",
       " ((First, 'ORDINAL', 396), 1),\n",
       " ((Wuhan, 'GPE', 384), 1),\n",
       " ((3, 'CARDINAL', 397), 1),\n",
       " ((4, 'CARDINAL', 397), 1),\n",
       " ((Andrew Cuomo, 'PERSON', 380), 1),\n",
       " ((69, 'CARDINAL', 397), 1),\n",
       " ((70, 'CARDINAL', 397), 1),\n",
       " ((71, 'CARDINAL', 397), 1),\n",
       " ((Belgium, 'GPE', 384), 1),\n",
       " ((Maggie de Block, 'PERSON', 380), 1),\n",
       " ((72, 'CARDINAL', 397), 1),\n",
       " ((July 2nd, 'DATE', 391), 1),\n",
       " ((Texas, 'GPE', 384), 1),\n",
       " ((Greg Abbott, 'PERSON', 380), 1),\n",
       " ((73, 'CARDINAL', 397), 1),\n",
       " ((2019, 'DATE', 391), 1),\n",
       " ((Length, 'PERSON', 380), 1),\n",
       " ((74, 'CARDINAL', 397), 1)]"
      ]
     },
     "execution_count": 133,
     "metadata": {},
     "output_type": "execute_result"
    }
   ],
   "source": [
    "#The following are the most frequent tokens in the Original Fake News Dataset \n",
    "Counter(labels_fn).most_common()"
   ]
  },
  {
   "cell_type": "markdown",
   "metadata": {},
   "source": [
    "#Entity Analysis:  SpaCY's NER lacks accuracy without Training Data.  Subsequent steps would involve the developement of a training model to improve accuracy for Organizations and People.     "
   ]
  },
  {
   "cell_type": "code",
   "execution_count": null,
   "metadata": {},
   "outputs": [],
   "source": [
    "End of Semester NLP Project. "
   ]
  },
  {
   "cell_type": "code",
   "execution_count": 1,
   "metadata": {},
   "outputs": [
    {
     "data": {
      "text/plain": [
       "'/Users/batman/Desktop'"
      ]
     },
     "execution_count": 1,
     "metadata": {},
     "output_type": "execute_result"
    }
   ],
   "source": [
    "pwd"
   ]
  },
  {
   "cell_type": "code",
   "execution_count": 2,
   "metadata": {},
   "outputs": [],
   "source": [
    "import pandas as pd \n",
    "import gensim, operator\n",
    "from scipy import spatial\n",
    "import numpy as np\n",
    "from gensim.models import KeyedVectors\n",
    "from operator import itemgetter, attrgetter"
   ]
  },
  {
   "cell_type": "code",
   "execution_count": 3,
   "metadata": {},
   "outputs": [],
   "source": [
    "model_path = '/Users/batman/Downloads/'"
   ]
  },
  {
   "cell_type": "code",
   "execution_count": 4,
   "metadata": {},
   "outputs": [
    {
     "name": "stdout",
     "output_type": "stream",
     "text": [
      "Loading Word2Vec model...\n",
      "Finished loading Word2Vec model...\n"
     ]
    }
   ],
   "source": [
    "def load_wordvec_model(modelName, modelFile, flagBin):\n",
    "    print('Loading ' + modelName + ' model...')\n",
    "    model = KeyedVectors.load_word2vec_format(model_path + modelFile, binary=flagBin)\n",
    "    print('Finished loading ' + modelName + ' model...')\n",
    "    return model\n",
    "\n",
    "model_word2vec = load_wordvec_model('Word2Vec', 'GoogleNews-vectors-negative300.bin.gz', True)\n",
    "#model_word2vec = load_wordvec_model('Word2Vec', 'webhose_skipgram_300.bin', True)"
   ]
  },
  {
   "cell_type": "code",
   "execution_count": 5,
   "metadata": {},
   "outputs": [],
   "source": [
    "# BUILDING MY OWN TAXONOMY BASED ON LDA and MANUAL DATA EXPLORATION"
   ]
  },
  {
   "cell_type": "code",
   "execution_count": null,
   "metadata": {},
   "outputs": [],
   "source": [
    "topic_taxonomy = {\n",
    "    \"Origination\":\n",
    "    {\n",
    "        \"Government\":  \"China USA Russia Wuhan North Korea UK\",\n",
    "        \"Biological\":  \"bat cat animal dog corona slakkl kk;\",\n",
    "        \"Developed\": \"employee China USA Russia lab university Harvard\"\n",
    "    },\n",
    "    \"Transmission\":\n",
    "    {\n",
    "\n",
    "        \"Network Security\": \"unauthorized access intrusion misuse denial\",\n",
    "        \"Cloud Security\":  \"data applications services infrastructure\",\n",
    "        \"Backup and Recovery\":  \"customer duplicate files folders cloud\"\n",
    "    },\n",
    "    \"Testing\":\n",
    "    {\n",
    "        \"Shares\":    \"company quarter ratings news\",                                                                   .,l'p\n",
    "        =\n",
    "        \"Dividends\": \"average research target report\",\n",
    "        \"Price\": \"purchase ratio valued earnings\"\n",
    "    },\n",
    "    \"Health\":\n",
    "    {\n",
    "        \"Tech Companies\":  \"Amazon Microsoft Apple Google AWS\",\n",
    "        \"Law Enforcement\": \"digital identification criminal software solution bias\",\n",
    "        \"Tech Bias\": \"race gender ethnicity reliability map features prejudice population demographics\",\n",
    "    },\n",
    "}"
   ]
  },
  {
   "cell_type": "code",
   "execution_count": null,
   "metadata": {},
   "outputs": [],
   "source": []
  },
  {
   "cell_type": "code",
   "execution_count": null,
   "metadata": {},
   "outputs": [],
   "source": []
  },
  {
   "cell_type": "code",
   "execution_count": null,
   "metadata": {},
   "outputs": [],
   "source": []
  }
 ],
 "metadata": {
  "kernelspec": {
   "display_name": "Python 3",
   "language": "python",
   "name": "python3"
  },
  "language_info": {
   "codemirror_mode": {
    "name": "ipython",
    "version": 3
   },
   "file_extension": ".py",
   "mimetype": "text/x-python",
   "name": "python",
   "nbconvert_exporter": "python",
   "pygments_lexer": "ipython3",
   "version": "3.7.3"
  }
 },
 "nbformat": 4,
 "nbformat_minor": 4
}
